{
 "cells": [
  {
   "cell_type": "code",
   "execution_count": 2,
   "id": "04803fc9",
   "metadata": {},
   "outputs": [
    {
     "name": "stderr",
     "output_type": "stream",
     "text": [
      "/opt/conda/lib/python3.8/site-packages/tqdm/auto.py:22: TqdmWarning: IProgress not found. Please update jupyter and ipywidgets. See https://ipywidgets.readthedocs.io/en/stable/user_install.html\n",
      "  from .autonotebook import tqdm as notebook_tqdm\n"
     ]
    }
   ],
   "source": [
    "import os \n",
    "os.chdir('../')\n",
    "import argparse\n",
    "from hydra import compose, initialize\n",
    "import sys\n",
    "sys.path.append('.')\n",
    "from meg_ssl.dataclass import parse_dataset\n",
    "from meg_ssl.models import get_model_and_trainer\n",
    "from meg_ssl.utils import set_seed\n",
    "from omegaconf import OmegaConf\n",
    "import wandb\n",
    "import numpy as np"
   ]
  },
  {
   "cell_type": "code",
   "execution_count": 11,
   "id": "65d60a7a",
   "metadata": {},
   "outputs": [
    {
     "name": "stderr",
     "output_type": "stream",
     "text": [
      "/tmp/ipykernel_19572/1767207450.py:15: UserWarning: \n",
      "The version_base parameter is not specified.\n",
      "Please specify a compatability version level, or None.\n",
      "Will assume defaults for version 1.1\n",
      "  with initialize(config_path='../meg_ssl/task_configs/'):\n",
      "/tmp/ipykernel_19572/1767207450.py:17: UserWarning: \n",
      "The version_base parameter is not specified.\n",
      "Please specify a compatability version level, or None.\n",
      "Will assume defaults for version 1.1\n",
      "  with initialize(config_path='../meg_ssl/ssl_configs/model'):\n"
     ]
    },
    {
     "name": "stdout",
     "output_type": "stream",
     "text": [
      "INFO ========= model config is overrided by  scmbm\n",
      "INFO ========= preprocess config is overrided by fs1000_dura200\n"
     ]
    },
    {
     "name": "stderr",
     "output_type": "stream",
     "text": [
      "/tmp/ipykernel_19572/1767207450.py:20: UserWarning: \n",
      "The version_base parameter is not specified.\n",
      "Please specify a compatability version level, or None.\n",
      "Will assume defaults for version 1.1\n",
      "  with initialize(config_path='../meg_ssl/ssl_configs/preprocess'):\n",
      "/tmp/ipykernel_19572/1767207450.py:23: UserWarning: \n",
      "The version_base parameter is not specified.\n",
      "Please specify a compatability version level, or None.\n",
      "Will assume defaults for version 1.1\n",
      "  with initialize(config_path='../meg_ssl/task_configs/model'):\n"
     ]
    },
    {
     "name": "stdout",
     "output_type": "stream",
     "text": [
      "INFO ========= image_encoder config is overrided by vit_clip16\n"
     ]
    },
    {
     "name": "stderr",
     "output_type": "stream",
     "text": [
      "/tmp/ipykernel_19572/1767207450.py:26: UserWarning: \n",
      "The version_base parameter is not specified.\n",
      "Please specify a compatability version level, or None.\n",
      "Will assume defaults for version 1.1\n",
      "  with initialize(config_path='../meg_ssl/task_configs/model'):\n"
     ]
    },
    {
     "name": "stdout",
     "output_type": "stream",
     "text": [
      "INFO ========= decoder config is overrided by mlp\n"
     ]
    }
   ],
   "source": [
    "class Args():\n",
    "    config='sbj1_6k'\n",
    "    meg_model='scmbm'\n",
    "    vision_model='vit_clip16'\n",
    "    decode_model='mlp' \n",
    "    preprocess='fs1000_dura200'\n",
    "    device_counts=1 \n",
    "    exp='scmbm_4-fs1000-dura200'\n",
    "    h5name='vc-fs1000-dura200-1'\n",
    "    seed = 42\n",
    "    resume=None\n",
    "\n",
    "args = Args()\n",
    "set_seed(args.seed)\n",
    "with initialize(config_path='../meg_ssl/task_configs/'):\n",
    "    cfg = compose(args.config)\n",
    "with initialize(config_path='../meg_ssl/ssl_configs/model'):\n",
    "    cfg.meg_encoder = compose(args.meg_model)\n",
    "print('INFO ========= model config is overrided by ', args.meg_model)\n",
    "with initialize(config_path='../meg_ssl/ssl_configs/preprocess'):\n",
    "    cfg.preprocess = compose(args.preprocess)\n",
    "print('INFO ========= preprocess config is overrided by', args.preprocess)\n",
    "with initialize(config_path='../meg_ssl/task_configs/model'):\n",
    "    cfg.image_encoder = compose(args.vision_model)\n",
    "print('INFO ========= image_encoder config is overrided by', args.vision_model)\n",
    "with initialize(config_path='../meg_ssl/task_configs/model'):\n",
    "    cfg.decoder = compose(args.decode_model)\n",
    "print('INFO ========= decoder config is overrided by', args.decode_model)\n",
    "\n",
    "# num_electrodes, fs, bpがh5ファイルに関係している\n",
    "if args.h5name is None:\n",
    "    cfg.h5_root = cfg.h5_root.format(h5_name='fs{}-bp{}_{}'.format(cfg.preprocess.brain_resample_rate, *cfg.preprocess.bandpass_filter))\n",
    "else:\n",
    "    cfg.h5_root = cfg.h5_root.format(h5_name=args.h5name)\n",
    "if args.exp is None:\n",
    "    args.exp = args.config\n",
    "cfg.training.logdir = cfg.training.logdir.format(exp_name=args.exp)\n",
    "cfg.training.ckpt_dir = cfg.training.ckpt_dir.format(exp_name=args.exp)\n",
    "\n",
    "cfg.resume_path = args.resume\n",
    "cfg.meg_encoder_path = cfg.meg_encoder_path.format(exp_name=args.exp)\n",
    "\n",
    "# decoderのinput features は前段のモデルのパラメタに依存する & output featuresはimage encoderの埋め込み次元に依存する\n",
    "if cfg.decoder.name == 'mlp':\n",
    "    if cfg.training.global_pool:\n",
    "        cfg.decoder.parameters.input_features = cfg.meg_encoder.parameters.embed_dim\n",
    "    else:\n",
    "        cfg.decoder.parameters.input_features = int(cfg.preprocess.meg_duration * cfg.preprocess.brain_resample_rate / cfg.meg_encoder.parameters.patch_size * cfg.meg_encoder.parameters.embed_dim) # time_len * resample_rate / patch_size * num_dim\n",
    "    cfg.decoder.parameters.output_features =  512 # image_encoder.vision_embed_dim\n",
    "\n",
    "\n"
   ]
  },
  {
   "cell_type": "code",
   "execution_count": 12,
   "id": "7a56339b",
   "metadata": {},
   "outputs": [],
   "source": [
    "# get dataset\n",
    "def get_dataset(cfg:OmegaConf):\n",
    "    dataset_names:dict = cfg.dataset_name\n",
    "    # import pdb; pdb.set_trace()\n",
    "    dataset_yamls:dict = cfg.dataset_yaml\n",
    "    num_trial_limit:dict = cfg.total_limit\n",
    "    preproc_config:OmegaConf = cfg.preprocess\n",
    "    h5_root:str = cfg.h5_root\n",
    "    image_preprocs:list = []\n",
    "    meg_preprocs:list = []\n",
    "    only_meg:bool = True\n",
    "    on_memory:bool = False\n",
    "    dataset_dict:dict = parse_dataset(dataset_names, dataset_yamls, preproc_config, num_trial_limit, \n",
    "                                      h5_root, image_preprocs, meg_preprocs, only_meg, on_memory)\n",
    "    \n",
    "    return dataset_dict['train'], dataset_dict['val']\n",
    "    \n",
    "\n",
    "# get model\n",
    "def get_model(config, usewandb, devuce_count):\n",
    "    model, trainer = get_model_and_trainer(config, device_count=devuce_count, usewandb=usewandb, only_model=False)\n",
    "    return model, trainer\n",
    "\n",
    "\n",
    "\n",
    "# run\n",
    "def run(cfg:OmegaConf, wandb_key_path:str, device_counts:int):\n",
    "    \n",
    "    cfg.model.parameters.time_len = int(np.floor(cfg.preprocess.meg_duration * cfg.preprocess.brain_resample_rate))\n",
    "    print('============================ settings ==============================')\n",
    "    print(OmegaConf.to_yaml(cfg))\n",
    "    print('=============================== END ================================')\n",
    "    # dataset\n",
    "    train_dataset, val_dataset = get_dataset(cfg)\n",
    "    cfg.model.parameters.in_chans = train_dataset.datasets[0].num_electrodes\n",
    "    print('num_electrodes: ', cfg.model.parameters.in_chans)\n",
    "    print('num trials: Train: {}, Val: {}'.format(len(train_dataset), len(val_dataset)))\n",
    "    # model\n",
    "    model, trainer = get_model_and_trainer(cfg, device_count=device_counts, usewandb=False, only_model=False) # get_model(cfg, usewandb, device_counts)\n",
    "    \n",
    "    "
   ]
  },
  {
   "cell_type": "code",
   "execution_count": 20,
   "id": "4e2551c4",
   "metadata": {},
   "outputs": [
    {
     "name": "stdout",
     "output_type": "stream",
     "text": [
      "=================GOD=================\n",
      "sbj_1-train-session_1_2_3_4_5_7_8_9_10_11\n",
      "dataset_info_list:  [{'image_root': '/storage/dataset/ECoG/internal/GODv2-4/images_trn', 'meg_path': '/work/project/MEG_GOD/GOD_dataset/sbj01/mat/data_block001', 'meg_label_path': '/work/project/MEG_GOD/GOD_dataset/sbj01/labels/ses_1', 'meg_trigger_path': '/work/project/MEG_GOD/GOD_dataset/sbj01/trigger/ses01', 'meg_rest_path': '/work/project/MEG_GOD/GOD_dataset/sbj01/mat/data_block001', 'sbj_name': 'sbj01', 'h5_file_name': '../../../dataset/ssl_dataset/vc-fs1000-dura200-1/GOD/sbj01_data_block001.h5', 'image_id_path': '/work/project/MEG_GOD/GOD_dataset/clip_image_training.mat'}, {'image_root': '/storage/dataset/ECoG/internal/GODv2-4/images_trn', 'meg_path': '/work/project/MEG_GOD/GOD_dataset/sbj01/mat/data_block002', 'meg_label_path': '/work/project/MEG_GOD/GOD_dataset/sbj01/labels/ses_2', 'meg_trigger_path': '/work/project/MEG_GOD/GOD_dataset/sbj01/trigger/ses02', 'meg_rest_path': '/work/project/MEG_GOD/GOD_dataset/sbj01/mat/data_block002', 'sbj_name': 'sbj01', 'h5_file_name': '../../../dataset/ssl_dataset/vc-fs1000-dura200-1/GOD/sbj01_data_block002.h5', 'image_id_path': '/work/project/MEG_GOD/GOD_dataset/clip_image_training.mat'}, {'image_root': '/storage/dataset/ECoG/internal/GODv2-4/images_trn', 'meg_path': '/work/project/MEG_GOD/GOD_dataset/sbj01/mat/data_block003', 'meg_label_path': '/work/project/MEG_GOD/GOD_dataset/sbj01/labels/ses_3', 'meg_trigger_path': '/work/project/MEG_GOD/GOD_dataset/sbj01/trigger/ses03', 'meg_rest_path': '/work/project/MEG_GOD/GOD_dataset/sbj01/mat/data_block003', 'sbj_name': 'sbj01', 'h5_file_name': '../../../dataset/ssl_dataset/vc-fs1000-dura200-1/GOD/sbj01_data_block003.h5', 'image_id_path': '/work/project/MEG_GOD/GOD_dataset/clip_image_training.mat'}, {'image_root': '/storage/dataset/ECoG/internal/GODv2-4/images_trn', 'meg_path': '/work/project/MEG_GOD/GOD_dataset/sbj01/mat/data_block004', 'meg_label_path': '/work/project/MEG_GOD/GOD_dataset/sbj01/labels/ses_4', 'meg_trigger_path': '/work/project/MEG_GOD/GOD_dataset/sbj01/trigger/ses04', 'meg_rest_path': '/work/project/MEG_GOD/GOD_dataset/sbj01/mat/data_block004', 'sbj_name': 'sbj01', 'h5_file_name': '../../../dataset/ssl_dataset/vc-fs1000-dura200-1/GOD/sbj01_data_block004.h5', 'image_id_path': '/work/project/MEG_GOD/GOD_dataset/clip_image_training.mat'}, {'image_root': '/storage/dataset/ECoG/internal/GODv2-4/images_trn', 'meg_path': '/work/project/MEG_GOD/GOD_dataset/sbj01/mat/data_block005', 'meg_label_path': '/work/project/MEG_GOD/GOD_dataset/sbj01/labels/ses_5', 'meg_trigger_path': '/work/project/MEG_GOD/GOD_dataset/sbj01/trigger/ses05', 'meg_rest_path': '/work/project/MEG_GOD/GOD_dataset/sbj01/mat/data_block005', 'sbj_name': 'sbj01', 'h5_file_name': '../../../dataset/ssl_dataset/vc-fs1000-dura200-1/GOD/sbj01_data_block005.h5', 'image_id_path': '/work/project/MEG_GOD/GOD_dataset/clip_image_training.mat'}, {'image_root': '/storage/dataset/ECoG/internal/GODv2-4/images_trn', 'meg_path': '/work/project/MEG_GOD/GOD_dataset/sbj01/mat/data_block007', 'meg_label_path': '/work/project/MEG_GOD/GOD_dataset/sbj01/labels/ses_7', 'meg_trigger_path': '/work/project/MEG_GOD/GOD_dataset/sbj01/trigger/ses07', 'meg_rest_path': '/work/project/MEG_GOD/GOD_dataset/sbj01/mat/data_block007', 'sbj_name': 'sbj01', 'h5_file_name': '../../../dataset/ssl_dataset/vc-fs1000-dura200-1/GOD/sbj01_data_block007.h5', 'image_id_path': '/work/project/MEG_GOD/GOD_dataset/clip_image_training.mat'}, {'image_root': '/storage/dataset/ECoG/internal/GODv2-4/images_trn', 'meg_path': '/work/project/MEG_GOD/GOD_dataset/sbj01/mat/data_block008', 'meg_label_path': '/work/project/MEG_GOD/GOD_dataset/sbj01/labels/ses_8', 'meg_trigger_path': '/work/project/MEG_GOD/GOD_dataset/sbj01/trigger/ses08', 'meg_rest_path': '/work/project/MEG_GOD/GOD_dataset/sbj01/mat/data_block008', 'sbj_name': 'sbj01', 'h5_file_name': '../../../dataset/ssl_dataset/vc-fs1000-dura200-1/GOD/sbj01_data_block008.h5', 'image_id_path': '/work/project/MEG_GOD/GOD_dataset/clip_image_training.mat'}, {'image_root': '/storage/dataset/ECoG/internal/GODv2-4/images_trn', 'meg_path': '/work/project/MEG_GOD/GOD_dataset/sbj01/mat/data_block009', 'meg_label_path': '/work/project/MEG_GOD/GOD_dataset/sbj01/labels/ses_9', 'meg_trigger_path': '/work/project/MEG_GOD/GOD_dataset/sbj01/trigger/ses09', 'meg_rest_path': '/work/project/MEG_GOD/GOD_dataset/sbj01/mat/data_block009', 'sbj_name': 'sbj01', 'h5_file_name': '../../../dataset/ssl_dataset/vc-fs1000-dura200-1/GOD/sbj01_data_block009.h5', 'image_id_path': '/work/project/MEG_GOD/GOD_dataset/clip_image_training.mat'}, {'image_root': '/storage/dataset/ECoG/internal/GODv2-4/images_trn', 'meg_path': '/work/project/MEG_GOD/GOD_dataset/sbj01/mat/data_block010', 'meg_label_path': '/work/project/MEG_GOD/GOD_dataset/sbj01/labels/ses_10', 'meg_trigger_path': '/work/project/MEG_GOD/GOD_dataset/sbj01/trigger/ses10', 'meg_rest_path': '/work/project/MEG_GOD/GOD_dataset/sbj01/mat/data_block010', 'sbj_name': 'sbj01', 'h5_file_name': '../../../dataset/ssl_dataset/vc-fs1000-dura200-1/GOD/sbj01_data_block010.h5', 'image_id_path': '/work/project/MEG_GOD/GOD_dataset/clip_image_training.mat'}, {'image_root': '/storage/dataset/ECoG/internal/GODv2-4/images_trn', 'meg_path': '/work/project/MEG_GOD/GOD_dataset/sbj01/mat/data_block011', 'meg_label_path': '/work/project/MEG_GOD/GOD_dataset/sbj01/labels/ses_11', 'meg_trigger_path': '/work/project/MEG_GOD/GOD_dataset/sbj01/trigger/ses11', 'meg_rest_path': '/work/project/MEG_GOD/GOD_dataset/sbj01/mat/data_block011', 'sbj_name': 'sbj01', 'h5_file_name': '../../../dataset/ssl_dataset/vc-fs1000-dura200-1/GOD/sbj01_data_block011.h5', 'image_id_path': '/work/project/MEG_GOD/GOD_dataset/clip_image_training.mat'}]\n",
      "=====================================\n",
      "ROI:  ['occipital/left', 'occipital/right']\n",
      "channel (-1 is done because matlab starts from 1):  [128, 129, 130, 131, 132, 133, 134, 135, 136, 137, 138, 144, 145, 146, 147, 148, 149, 150, 151, 152, 153, 154]\n",
      "num channels:  22\n",
      "load h5 file ../../../dataset/ssl_dataset/vc-fs1000-dura200-1/GOD/sbj01_data_block001.h5\n",
      "ROI:  ['occipital/left', 'occipital/right']\n",
      "channel (-1 is done because matlab starts from 1):  [128, 129, 130, 131, 132, 133, 134, 135, 136, 137, 138, 144, 145, 146, 147, 148, 149, 150, 151, 152, 153, 154]\n",
      "num channels:  22\n",
      "load h5 file ../../../dataset/ssl_dataset/vc-fs1000-dura200-1/GOD/sbj01_data_block002.h5\n",
      "ROI:  ['occipital/left', 'occipital/right']\n",
      "channel (-1 is done because matlab starts from 1):  [128, 129, 130, 131, 132, 133, 134, 135, 136, 137, 138, 144, 145, 146, 147, 148, 149, 150, 151, 152, 153, 154]\n",
      "num channels:  22\n",
      "load h5 file ../../../dataset/ssl_dataset/vc-fs1000-dura200-1/GOD/sbj01_data_block003.h5\n",
      "ROI:  ['occipital/left', 'occipital/right']\n",
      "channel (-1 is done because matlab starts from 1):  [128, 129, 130, 131, 132, 133, 134, 135, 136, 137, 138, 144, 145, 146, 147, 148, 149, 150, 151, 152, 153, 154]\n",
      "num channels:  22\n",
      "load h5 file ../../../dataset/ssl_dataset/vc-fs1000-dura200-1/GOD/sbj01_data_block004.h5\n",
      "ROI:  ['occipital/left', 'occipital/right']\n",
      "channel (-1 is done because matlab starts from 1):  [128, 129, 130, 131, 132, 133, 134, 135, 136, 137, 138, 144, 145, 146, 147, 148, 149, 150, 151, 152, 153, 154]\n",
      "num channels:  22\n",
      "load h5 file ../../../dataset/ssl_dataset/vc-fs1000-dura200-1/GOD/sbj01_data_block005.h5\n",
      "ROI:  ['occipital/left', 'occipital/right']\n",
      "channel (-1 is done because matlab starts from 1):  [128, 129, 130, 131, 132, 133, 134, 135, 136, 137, 138, 144, 145, 146, 147, 148, 149, 150, 151, 152, 153, 154]\n",
      "num channels:  22\n",
      "load h5 file ../../../dataset/ssl_dataset/vc-fs1000-dura200-1/GOD/sbj01_data_block007.h5\n",
      "ROI:  ['occipital/left', 'occipital/right']\n",
      "channel (-1 is done because matlab starts from 1):  [128, 129, 130, 131, 132, 133, 134, 135, 136, 137, 138, 144, 145, 146, 147, 148, 149, 150, 151, 152, 153, 154]\n",
      "num channels:  22\n",
      "load h5 file ../../../dataset/ssl_dataset/vc-fs1000-dura200-1/GOD/sbj01_data_block008.h5\n",
      "ROI:  ['occipital/left', 'occipital/right']\n",
      "channel (-1 is done because matlab starts from 1):  [128, 129, 130, 131, 132, 133, 134, 135, 136, 137, 138, 144, 145, 146, 147, 148, 149, 150, 151, 152, 153, 154]\n",
      "num channels:  22\n",
      "load h5 file ../../../dataset/ssl_dataset/vc-fs1000-dura200-1/GOD/sbj01_data_block009.h5\n"
     ]
    },
    {
     "name": "stdout",
     "output_type": "stream",
     "text": [
      "ROI:  ['occipital/left', 'occipital/right']\n",
      "channel (-1 is done because matlab starts from 1):  [128, 129, 130, 131, 132, 133, 134, 135, 136, 137, 138, 144, 145, 146, 147, 148, 149, 150, 151, 152, 153, 154]\n",
      "num channels:  22\n",
      "load h5 file ../../../dataset/ssl_dataset/vc-fs1000-dura200-1/GOD/sbj01_data_block010.h5\n",
      "ROI:  ['occipital/left', 'occipital/right']\n",
      "channel (-1 is done because matlab starts from 1):  [128, 129, 130, 131, 132, 133, 134, 135, 136, 137, 138, 144, 145, 146, 147, 148, 149, 150, 151, 152, 153, 154]\n",
      "num channels:  22\n",
      "load h5 file ../../../dataset/ssl_dataset/vc-fs1000-dura200-1/GOD/sbj01_data_block011.h5\n",
      "=================GOD=================\n",
      "sbj_1-train-session_6_12\n",
      "dataset_info_list:  [{'image_root': '/storage/dataset/ECoG/internal/GODv2-4/images_trn', 'meg_path': '/work/project/MEG_GOD/GOD_dataset/sbj01/mat/data_block006', 'meg_label_path': '/work/project/MEG_GOD/GOD_dataset/sbj01/labels/ses_6', 'meg_trigger_path': '/work/project/MEG_GOD/GOD_dataset/sbj01/trigger/ses06', 'meg_rest_path': '/work/project/MEG_GOD/GOD_dataset/sbj01/mat/data_block006', 'sbj_name': 'sbj01', 'h5_file_name': '../../../dataset/ssl_dataset/vc-fs1000-dura200-1/GOD/sbj01_data_block006.h5', 'image_id_path': '/work/project/MEG_GOD/GOD_dataset/clip_image_training.mat'}, {'image_root': '/storage/dataset/ECoG/internal/GODv2-4/images_trn', 'meg_path': '/work/project/MEG_GOD/GOD_dataset/sbj01/mat/data_block012', 'meg_label_path': '/work/project/MEG_GOD/GOD_dataset/sbj01/labels/ses_12', 'meg_trigger_path': '/work/project/MEG_GOD/GOD_dataset/sbj01/trigger/ses12', 'meg_rest_path': '/work/project/MEG_GOD/GOD_dataset/sbj01/mat/data_block012', 'sbj_name': 'sbj01', 'h5_file_name': '../../../dataset/ssl_dataset/vc-fs1000-dura200-1/GOD/sbj01_data_block012.h5', 'image_id_path': '/work/project/MEG_GOD/GOD_dataset/clip_image_training.mat'}]\n",
      "=====================================\n",
      "ROI:  ['occipital/left', 'occipital/right']\n",
      "channel (-1 is done because matlab starts from 1):  [128, 129, 130, 131, 132, 133, 134, 135, 136, 137, 138, 144, 145, 146, 147, 148, 149, 150, 151, 152, 153, 154]\n",
      "num channels:  22\n",
      "load h5 file ../../../dataset/ssl_dataset/vc-fs1000-dura200-1/GOD/sbj01_data_block006.h5\n",
      "ROI:  ['occipital/left', 'occipital/right']\n",
      "channel (-1 is done because matlab starts from 1):  [128, 129, 130, 131, 132, 133, 134, 135, 136, 137, 138, 144, 145, 146, 147, 148, 149, 150, 151, 152, 153, 154]\n",
      "num channels:  22\n",
      "load h5 file ../../../dataset/ssl_dataset/vc-fs1000-dura200-1/GOD/sbj01_data_block012.h5\n"
     ]
    }
   ],
   "source": [
    "train_dataset, val_dataset = get_dataset(cfg)\n",
    "\n",
    "cfg.meg_encoder.parameters.time_len = int(np.floor(cfg.preprocess.meg_duration * cfg.preprocess.brain_resample_rate))\n",
    "cfg.meg_encoder.parameters.in_chans = train_dataset.datasets[0].num_electrodes\n",
    "\n",
    "model,_ = get_model_and_trainer(cfg, device_count=args.device_counts, usewandb=False, only_model=True)\n"
   ]
  },
  {
   "cell_type": "code",
   "execution_count": 22,
   "id": "8faf6276",
   "metadata": {},
   "outputs": [
    {
     "data": {
      "text/plain": [
       "<All keys matched successfully>"
      ]
     },
     "execution_count": 22,
     "metadata": {},
     "output_type": "execute_result"
    }
   ],
   "source": [
    "import torch\n",
    "model.load_state_dict(torch.load(cfg.meg_encoder_path))\n",
    "model.eval().cuda()"
   ]
  },
  {
   "cell_type": "code",
   "execution_count": 41,
   "id": "006ecbca",
   "metadata": {},
   "outputs": [],
   "source": [
    "idx = 0\n",
    "eeg = val_dataset[idx]\n",
    "eeg_tensor = torch.from_numpy(eeg).unsqueeze(0).cuda()\n",
    "with torch.no_grad():    \n",
    "    loss, pred_eeg, mask = model(eeg_tensor)# .cpu().numpy()\n",
    "    pred_eeg = model.unpatchify(pred_eeg).to('cpu').squeeze(0).numpy()\n",
    "pred_eeg = pred_eeg.squeeze()\n",
    "\n",
    "patch_size = model.patch_size\n",
    "mask = mask.to('cpu').squeeze(0).numpy()\n",
    "mask_start = np.where(mask)[0] * patch_size\n",
    "mask_end = np.where(mask)[0] * patch_size + patch_size"
   ]
  },
  {
   "cell_type": "code",
   "execution_count": 39,
   "id": "49b2efe1",
   "metadata": {},
   "outputs": [],
   "source": [
    "import matplotlib.pyplot as plt"
   ]
  },
  {
   "cell_type": "code",
   "execution_count": 57,
   "id": "6cf0b4e8",
   "metadata": {},
   "outputs": [
    {
     "data": {
      "image/png": "[encoded data removed]",
      "text/plain": [
       "<Figure size 432x288 with 1 Axes>"
      ]
     },
     "metadata": {
      "needs_background": "light"
     },
     "output_type": "display_data"
    }
   ],
   "source": [
    "x_axis = np.arange(0, eeg.shape[-1])\n",
    "elec = 0\n",
    "plt.plot(eeg[elec,:], 'k-',label='gt')\n",
    "plt.plot(pred_eeg[elec,:], color='orange',label='reconst')\n",
    "\n",
    "for s, e in zip(mask_start, mask_end):\n",
    "    plt.plot(x_axis[s:e], eeg[elec, s:e], 'c-')\n",
    "plt.legend()\n",
    "plt.show()"
   ]
  },
  {
   "cell_type": "code",
   "execution_count": 33,
   "id": "fe0fd2c9",
   "metadata": {},
   "outputs": [
    {
     "data": {
      "text/plain": [
       "(1, 52, 88)"
      ]
     },
     "execution_count": 33,
     "metadata": {},
     "output_type": "execute_result"
    }
   ],
   "source": [
    "pred_eeg.shape"
   ]
  },
  {
   "cell_type": "code",
   "execution_count": 42,
   "id": "ca0e5925",
   "metadata": {},
   "outputs": [
    {
     "data": {
      "text/plain": [
       "array([0., 1., 1., 1., 0., 1., 1., 0., 1., 1., 0., 1., 1., 1., 1., 1., 1.,\n",
       "       0., 1., 1., 1., 1., 1., 0., 1., 1., 1., 1., 1., 1., 0., 1., 0., 1.,\n",
       "       1., 0., 1., 1., 1., 1., 1., 1., 0., 1., 0., 0., 1., 1., 1., 1., 0.,\n",
       "       1.], dtype=float32)"
      ]
     },
     "execution_count": 42,
     "metadata": {},
     "output_type": "execute_result"
    }
   ],
   "source": [
    "mask"
   ]
  },
  {
   "cell_type": "code",
   "execution_count": null,
   "id": "62b85c99",
   "metadata": {},
   "outputs": [],
   "source": []
  }
 ],
 "metadata": {
  "kernelspec": {
   "display_name": "Python 3 (ipykernel)",
   "language": "python",
   "name": "python3"
  },
  "language_info": {
   "codemirror_mode": {
    "name": "ipython",
    "version": 3
   },
   "file_extension": ".py",
   "mimetype": "text/x-python",
   "name": "python",
   "nbconvert_exporter": "python",
   "pygments_lexer": "ipython3",
   "version": "3.8.5"
  }
 },
 "nbformat": 4,
 "nbformat_minor": 5
}
