{
 "cells": [
  {
   "cell_type": "code",
   "execution_count": 1,
   "id": "4b05c334",
   "metadata": {},
   "outputs": [
    {
     "name": "stderr",
     "output_type": "stream",
     "text": [
      "/opt/conda/lib/python3.8/site-packages/tqdm/auto.py:22: TqdmWarning: IProgress not found. Please update jupyter and ipywidgets. See https://ipywidgets.readthedocs.io/en/stable/user_install.html\n",
      "  from .autonotebook import tqdm as notebook_tqdm\n"
     ]
    }
   ],
   "source": [
    "import os, sys, random\n",
    "sys.path.append('..')\n",
    "import numpy as np\n",
    "import torch\n",
    "import torch.nn as nn\n",
    "from time import time\n",
    "from tqdm import tqdm, trange\n",
    "from termcolor import cprint\n",
    "# import wandb\n",
    "\n",
    "from omegaconf import DictConfig, open_dict\n",
    "import hydra\n",
    "from hydra.utils import get_original_cwd\n",
    "\n",
    "from constants import device\n",
    "\n",
    "from torch.utils.data import DataLoader, RandomSampler, BatchSampler\n",
    "\n",
    "from meg_decoding.models import get_model, Classifier\n",
    "from meg_decoding.utils.get_dataloaders import get_dataloaders, get_samplers\n",
    "from meg_decoding.utils.loss import *\n",
    "from meg_decoding.dataclass.god import GODDatasetBase, GODCollator\n",
    "from meg_decoding.utils.loggers import Pickleogger\n",
    "from meg_decoding.utils.vis_grad import get_grad\n",
    "from torch.utils.data.dataset import Subset\n",
    "from meg_ssl.dataclass import parse_dataset\n",
    "from omegaconf import OmegaConf\n",
    "from meg_ssl.models.image_encoder import get_image_encoder\n",
    "import wandb\n",
    "from meg_ssl.utils.image_preprocess import numpy2image\n",
    "import tqdm\n",
    "import scipy.io\n",
    "from hydra import initialize, compose\n"
   ]
  },
  {
   "cell_type": "code",
   "execution_count": 20,
   "id": "e203f2a2",
   "metadata": {},
   "outputs": [],
   "source": [
    "def get_dataset(cfg:OmegaConf):\n",
    "    dataset_names:dict = cfg.dataset_name\n",
    "    dataset_yamls:dict = cfg.dataset_yaml\n",
    "    num_trial_limit:dict = cfg.total_limit\n",
    "    preproc_config:OmegaConf = cfg.preprocess\n",
    "    h5_root:str = cfg.h5_root\n",
    "    image_preprocs:list = []\n",
    "    meg_preprocs:list = []\n",
    "    only_meg:bool = False\n",
    "    on_memory:bool = True #False\n",
    "    dataset_dict:dict = parse_dataset(dataset_names, dataset_yamls, preproc_config, num_trial_limit, \n",
    "                                      h5_root, image_preprocs, meg_preprocs, only_meg, on_memory)\n",
    "    \n",
    "    return dataset_dict['train'], dataset_dict['val']\n",
    "\n",
    "def get_models(args):\n",
    "    with initialize(config_path='../meg_ssl/task_configs/model'):\n",
    "        args.image_encoder = compose(args.image_encoder)\n",
    "    with initialize(config_path='../meg_ssl/ssl_configs/preprocess'):\n",
    "        args.preprocess = compose(args.preprocess)\n",
    "    \n",
    "    image_encoder, image_processor = get_image_encoder(args.image_encoder.name, args.image_encoder.parameters)\n",
    "    image_encoder.eval().to(device)\n",
    "    \n",
    "    brain_encoder = get_model(args).to(device).eval() \n",
    "    \n",
    "    weight_path = os.path.join(args.save_root, 'weights', 'model_last.pt')\n",
    "    brain_encoder.load_state_dict(torch.load(weight_path))\n",
    "    return image_encoder, image_processor, brain_encoder\n",
    "    \n",
    "# collect image feature\n",
    "def get_features(dataset):\n",
    "    image_features = []\n",
    "    eeg_features = []\n",
    "    for data in tqdm.tqdm(dataset):\n",
    "        eeg, image = data\n",
    "        eeg = torch.from_numpy(eeg).unsqueeze(0).to(device)\n",
    "        image = numpy2image(image)\n",
    "        image = image_processor(image)\n",
    "        image = image.unsqueeze(0).to(device)\n",
    "        with torch.no_grad():\n",
    "            Y = image_encoder.encode_image(image).to(torch.float)\n",
    "            Y = Y - normalize_mean_Y\n",
    "            Y = Y / normalize_std_Y\n",
    "            Z = brain_encoder(eeg, None)\n",
    "        image_features.append(Y)\n",
    "        eeg_features.append(Z)\n",
    "\n",
    "    image_features = torch.cat(image_features, axis=0)\n",
    "    eeg_features = torch.cat(eeg_features, axis=0)\n",
    "    return image_features, eeg_features\n",
    "\n",
    "\n",
    "def calc_similarity(x, y):\n",
    "    batch_size = len(x)\n",
    "    gt_size = len(y)\n",
    "\n",
    "    similarity = torch.empty(batch_size, gt_size).to('cuda')\n",
    "    for i in range(batch_size):\n",
    "        for j in range(gt_size):\n",
    "            similarity[i, j] = (x[i] @ y[j]) / max((x[i].norm() * y[j].norm()), 1e-8)\n",
    "    return similarity.cpu().numpy()\n",
    "\n",
    "def evaluate(Z, Y, index = None):\n",
    "    # Z: (batch_size, 512)\n",
    "    # Y: (gt_size, 512)\n",
    "    binary_confusion_matrix = np.zeros([len(Z), len(Y)])\n",
    "    similarity = calc_similarity(Z, Y)\n",
    "    acc_tmp = np.zeros(len(similarity))\n",
    "    for i in range(len(similarity)):\n",
    "        if index is None:\n",
    "            index_ = i\n",
    "        acc_tmp[i] = np.sum(similarity[i,:] < similarity[i,index_]) / (len(Y)-1)\n",
    "        binary_confusion_matrix[i,similarity[i,:] < similarity[i,index_]] = 1 \n",
    "        binary_confusion_matrix[i,similarity[i,:] > similarity[i,index_]] = -1 \n",
    "    similarity_acc = np.mean(acc_tmp)\n",
    "    print('Similarity Acc', similarity_acc)\n",
    "    return similarity_acc, binary_confusion_matrix\n",
    "\n",
    "def get_test_labels(image_name_list):\n",
    "    image_name_set = list(set(image_name_list))\n",
    "    assert len(image_name_set) == 200\n",
    "    image_name_id = []\n",
    "    for image_name in image_name_list:\n",
    "        image_name_id.append(image_name_set.index(image_name))\n",
    "    labels = np.array(image_name_id)\n",
    "    return labels\n",
    "\n",
    "\n",
    "def aggregate_same_label(eegs, images, labels):\n",
    "    assert len(eegs) == len(labels)\n",
    "    assert len(images) == len(labels)\n",
    "    unique_label_ids = np.unique(labels)\n",
    "    new_eegs = []\n",
    "    new_images = []\n",
    "    for i in unique_label_ids:\n",
    "        indices = np.where(labels==i)\n",
    "        new_eegs.append(eegs[indices].mean(0))\n",
    "        new_images.append(images[indices].mean(0))\n",
    "    return torch.stack(new_eegs, axis=0), torch.stack(new_images, axis=0), unique_label_ids"
   ]
  },
  {
   "cell_type": "code",
   "execution_count": 5,
   "id": "7bbbcf03",
   "metadata": {},
   "outputs": [
    {
     "name": "stderr",
     "output_type": "stream",
     "text": [
      "/tmp/ipykernel_198226/3832526577.py:17: UserWarning: \n",
      "The version_base parameter is not specified.\n",
      "Please specify a compatability version level, or None.\n",
      "Will assume defaults for version 1.1\n",
      "  with initialize(config_path='../meg_ssl/task_configs/model'):\n",
      "/tmp/ipykernel_198226/3832526577.py:19: UserWarning: \n",
      "The version_base parameter is not specified.\n",
      "Please specify a compatability version level, or None.\n",
      "Will assume defaults for version 1.1\n",
      "  with initialize(config_path='../meg_ssl/ssl_configs/preprocess'):\n"
     ]
    },
    {
     "name": "stdout",
     "output_type": "stream",
     "text": [
      "model select:  eegnet_deep\n"
     ]
    }
   ],
   "source": [
    "with initialize(version_base=None, config_path=\"../meg_ssl/task_configs/\"):\n",
    "    args = compose(config_name='regression_eegnet_deep_clip_things')\n",
    "\n",
    "args.h5_root = os.path.join('..', args.h5_root)\n",
    "# args.dataset_name.train = args.dataset_name.val\n",
    "# args.dataset_name.val.things = 'sbj_1-val-session_all' # args.dataset_name.val.GOD.replace('train', 'val')\n",
    "args.ch_region_path = args.ch_region_path.replace('./', '../')\n",
    "args.montage_path = args.montage_path.replace('./', '../')\n",
    "\n",
    "if not os.path.exists(os.path.join(args.save_root, 'eval_results')):\n",
    "    os.makedirs(os.path.join(args.save_root, 'eval_results'))\n",
    "    \n",
    "    \n",
    "normalize_mean_X = torch.from_numpy(np.load('/home/yainoue/meg2image/codes/MEG-decoding/data/GOD/stats/mean_X.npy')).to(device)\n",
    "normalize_mean_Y = torch.from_numpy(np.load('/home/yainoue/meg2image/codes/MEG-decoding/data/GOD/stats/mean_Y.npy')).to(device)\n",
    "normalize_std_X = torch.from_numpy(np.load('/home/yainoue/meg2image/codes/MEG-decoding/data/GOD/stats/std_X.npy')).to(device)\n",
    "normalize_std_Y = torch.from_numpy(np.load('/home/yainoue/meg2image/codes/MEG-decoding/data/GOD/stats/std_Y.npy')).to(device)\n",
    "\n",
    "classifier = Classifier(args)\n",
    "\n",
    "# ---------------\n",
    "#      Loss\n",
    "# ---------------\n",
    "loss_func = CLIPLoss(args).to(device) # torch.nn.MSELoss(reduction=\"mean\") #CLIPLoss(args).to(device)\n",
    "loss_func.eval()\n",
    "\n",
    "image_encoder, image_processor, brain_encoder = get_models(args)\n"
   ]
  },
  {
   "cell_type": "code",
   "execution_count": 6,
   "id": "5dc616c8",
   "metadata": {},
   "outputs": [
    {
     "name": "stderr",
     "output_type": "stream",
     "text": [
      "../meg_ssl/dataclass/__init__.py:30: UserWarning: \n",
      "The version_base parameter is not specified.\n",
      "Please specify a compatability version level, or None.\n",
      "Will assume defaults for version 1.1\n",
      "  with initialize(config_path=\"../ssl_configs/dataset\"):\n"
     ]
    },
    {
     "name": "stdout",
     "output_type": "stream",
     "text": [
      "=================THINGS=================\n",
      "sbj_1-train-session_all\n",
      "dataset_info_list:  [{'session_id': 1, 'image_root': '/work/project/MEG_GOD/yainoue/things/Images', 'meg_root': '/work/project/MEG_GOD/yainoue/things/MEG', 'h5_file_name': '../../../../dataset/ssl_dataset/sbj1/regression/things/1_data_block001_exp.h5', 'sbj_name': '1', 'split': 'exp'}, {'session_id': 2, 'image_root': '/work/project/MEG_GOD/yainoue/things/Images', 'meg_root': '/work/project/MEG_GOD/yainoue/things/MEG', 'h5_file_name': '../../../../dataset/ssl_dataset/sbj1/regression/things/1_data_block002_exp.h5', 'sbj_name': '1', 'split': 'exp'}, {'session_id': 3, 'image_root': '/work/project/MEG_GOD/yainoue/things/Images', 'meg_root': '/work/project/MEG_GOD/yainoue/things/MEG', 'h5_file_name': '../../../../dataset/ssl_dataset/sbj1/regression/things/1_data_block003_exp.h5', 'sbj_name': '1', 'split': 'exp'}, {'session_id': 4, 'image_root': '/work/project/MEG_GOD/yainoue/things/Images', 'meg_root': '/work/project/MEG_GOD/yainoue/things/MEG', 'h5_file_name': '../../../../dataset/ssl_dataset/sbj1/regression/things/1_data_block004_exp.h5', 'sbj_name': '1', 'split': 'exp'}, {'session_id': 5, 'image_root': '/work/project/MEG_GOD/yainoue/things/Images', 'meg_root': '/work/project/MEG_GOD/yainoue/things/MEG', 'h5_file_name': '../../../../dataset/ssl_dataset/sbj1/regression/things/1_data_block005_exp.h5', 'sbj_name': '1', 'split': 'exp'}, {'session_id': 6, 'image_root': '/work/project/MEG_GOD/yainoue/things/Images', 'meg_root': '/work/project/MEG_GOD/yainoue/things/MEG', 'h5_file_name': '../../../../dataset/ssl_dataset/sbj1/regression/things/1_data_block006_exp.h5', 'sbj_name': '1', 'split': 'exp'}, {'session_id': 7, 'image_root': '/work/project/MEG_GOD/yainoue/things/Images', 'meg_root': '/work/project/MEG_GOD/yainoue/things/MEG', 'h5_file_name': '../../../../dataset/ssl_dataset/sbj1/regression/things/1_data_block007_exp.h5', 'sbj_name': '1', 'split': 'exp'}, {'session_id': 8, 'image_root': '/work/project/MEG_GOD/yainoue/things/Images', 'meg_root': '/work/project/MEG_GOD/yainoue/things/MEG', 'h5_file_name': '../../../../dataset/ssl_dataset/sbj1/regression/things/1_data_block008_exp.h5', 'sbj_name': '1', 'split': 'exp'}, {'session_id': 9, 'image_root': '/work/project/MEG_GOD/yainoue/things/Images', 'meg_root': '/work/project/MEG_GOD/yainoue/things/MEG', 'h5_file_name': '../../../../dataset/ssl_dataset/sbj1/regression/things/1_data_block009_exp.h5', 'sbj_name': '1', 'split': 'exp'}, {'session_id': 10, 'image_root': '/work/project/MEG_GOD/yainoue/things/Images', 'meg_root': '/work/project/MEG_GOD/yainoue/things/MEG', 'h5_file_name': '../../../../dataset/ssl_dataset/sbj1/regression/things/1_data_block010_exp.h5', 'sbj_name': '1', 'split': 'exp'}, {'session_id': 11, 'image_root': '/work/project/MEG_GOD/yainoue/things/Images', 'meg_root': '/work/project/MEG_GOD/yainoue/things/MEG', 'h5_file_name': '../../../../dataset/ssl_dataset/sbj1/regression/things/1_data_block011_exp.h5', 'sbj_name': '1', 'split': 'exp'}, {'session_id': 12, 'image_root': '/work/project/MEG_GOD/yainoue/things/Images', 'meg_root': '/work/project/MEG_GOD/yainoue/things/MEG', 'h5_file_name': '../../../../dataset/ssl_dataset/sbj1/regression/things/1_data_block012_exp.h5', 'sbj_name': '1', 'split': 'exp'}]\n",
      "=====================================\n",
      "session id is  1\n",
      "split is exp\n",
      "target h5 file ../../../../dataset/ssl_dataset/sbj1/regression/things/1_data_block001_exp.h5 True\n",
      "load h5 file ../../../../dataset/ssl_dataset/sbj1/regression/things/1_data_block001_exp.h5\n",
      "session id is  2\n",
      "split is exp\n",
      "target h5 file ../../../../dataset/ssl_dataset/sbj1/regression/things/1_data_block002_exp.h5 True\n",
      "load h5 file ../../../../dataset/ssl_dataset/sbj1/regression/things/1_data_block002_exp.h5\n",
      "session id is  3\n",
      "split is exp\n",
      "target h5 file ../../../../dataset/ssl_dataset/sbj1/regression/things/1_data_block003_exp.h5 True\n",
      "load h5 file ../../../../dataset/ssl_dataset/sbj1/regression/things/1_data_block003_exp.h5\n",
      "session id is  4\n",
      "split is exp\n",
      "target h5 file ../../../../dataset/ssl_dataset/sbj1/regression/things/1_data_block004_exp.h5 True\n",
      "load h5 file ../../../../dataset/ssl_dataset/sbj1/regression/things/1_data_block004_exp.h5\n",
      "session id is  5\n",
      "split is exp\n",
      "target h5 file ../../../../dataset/ssl_dataset/sbj1/regression/things/1_data_block005_exp.h5 True\n",
      "load h5 file ../../../../dataset/ssl_dataset/sbj1/regression/things/1_data_block005_exp.h5\n",
      "session id is  6\n",
      "split is exp\n",
      "target h5 file ../../../../dataset/ssl_dataset/sbj1/regression/things/1_data_block006_exp.h5 True\n",
      "load h5 file ../../../../dataset/ssl_dataset/sbj1/regression/things/1_data_block006_exp.h5\n",
      "session id is  7\n",
      "split is exp\n",
      "target h5 file ../../../../dataset/ssl_dataset/sbj1/regression/things/1_data_block007_exp.h5 True\n",
      "load h5 file ../../../../dataset/ssl_dataset/sbj1/regression/things/1_data_block007_exp.h5\n",
      "session id is  8\n",
      "split is exp\n",
      "target h5 file ../../../../dataset/ssl_dataset/sbj1/regression/things/1_data_block008_exp.h5 True\n",
      "load h5 file ../../../../dataset/ssl_dataset/sbj1/regression/things/1_data_block008_exp.h5\n",
      "session id is  9\n",
      "split is exp\n",
      "target h5 file ../../../../dataset/ssl_dataset/sbj1/regression/things/1_data_block009_exp.h5 True\n",
      "load h5 file ../../../../dataset/ssl_dataset/sbj1/regression/things/1_data_block009_exp.h5\n",
      "session id is  10\n",
      "split is exp\n",
      "target h5 file ../../../../dataset/ssl_dataset/sbj1/regression/things/1_data_block010_exp.h5 True\n",
      "load h5 file ../../../../dataset/ssl_dataset/sbj1/regression/things/1_data_block010_exp.h5\n",
      "session id is  11\n",
      "split is exp\n",
      "target h5 file ../../../../dataset/ssl_dataset/sbj1/regression/things/1_data_block011_exp.h5 True\n",
      "load h5 file ../../../../dataset/ssl_dataset/sbj1/regression/things/1_data_block011_exp.h5\n",
      "session id is  12\n",
      "split is exp\n",
      "target h5 file ../../../../dataset/ssl_dataset/sbj1/regression/things/1_data_block012_exp.h5 True\n",
      "load h5 file ../../../../dataset/ssl_dataset/sbj1/regression/things/1_data_block012_exp.h5\n",
      "=================THINGS=================\n",
      "sbj_1-val-session_all\n",
      "dataset_info_list:  [{'session_id': 1, 'image_root': '/work/project/MEG_GOD/yainoue/things/Images', 'meg_root': '/work/project/MEG_GOD/yainoue/things/MEG', 'h5_file_name': '../../../../dataset/ssl_dataset/sbj1/regression/things/1_data_val001_test.h5', 'sbj_name': '1', 'split': 'test'}, {'session_id': 2, 'image_root': '/work/project/MEG_GOD/yainoue/things/Images', 'meg_root': '/work/project/MEG_GOD/yainoue/things/MEG', 'h5_file_name': '../../../../dataset/ssl_dataset/sbj1/regression/things/1_data_val002_test.h5', 'sbj_name': '1', 'split': 'test'}, {'session_id': 3, 'image_root': '/work/project/MEG_GOD/yainoue/things/Images', 'meg_root': '/work/project/MEG_GOD/yainoue/things/MEG', 'h5_file_name': '../../../../dataset/ssl_dataset/sbj1/regression/things/1_data_val003_test.h5', 'sbj_name': '1', 'split': 'test'}, {'session_id': 4, 'image_root': '/work/project/MEG_GOD/yainoue/things/Images', 'meg_root': '/work/project/MEG_GOD/yainoue/things/MEG', 'h5_file_name': '../../../../dataset/ssl_dataset/sbj1/regression/things/1_data_val004_test.h5', 'sbj_name': '1', 'split': 'test'}, {'session_id': 5, 'image_root': '/work/project/MEG_GOD/yainoue/things/Images', 'meg_root': '/work/project/MEG_GOD/yainoue/things/MEG', 'h5_file_name': '../../../../dataset/ssl_dataset/sbj1/regression/things/1_data_val005_test.h5', 'sbj_name': '1', 'split': 'test'}, {'session_id': 6, 'image_root': '/work/project/MEG_GOD/yainoue/things/Images', 'meg_root': '/work/project/MEG_GOD/yainoue/things/MEG', 'h5_file_name': '../../../../dataset/ssl_dataset/sbj1/regression/things/1_data_val006_test.h5', 'sbj_name': '1', 'split': 'test'}, {'session_id': 7, 'image_root': '/work/project/MEG_GOD/yainoue/things/Images', 'meg_root': '/work/project/MEG_GOD/yainoue/things/MEG', 'h5_file_name': '../../../../dataset/ssl_dataset/sbj1/regression/things/1_data_val007_test.h5', 'sbj_name': '1', 'split': 'test'}, {'session_id': 8, 'image_root': '/work/project/MEG_GOD/yainoue/things/Images', 'meg_root': '/work/project/MEG_GOD/yainoue/things/MEG', 'h5_file_name': '../../../../dataset/ssl_dataset/sbj1/regression/things/1_data_val008_test.h5', 'sbj_name': '1', 'split': 'test'}, {'session_id': 9, 'image_root': '/work/project/MEG_GOD/yainoue/things/Images', 'meg_root': '/work/project/MEG_GOD/yainoue/things/MEG', 'h5_file_name': '../../../../dataset/ssl_dataset/sbj1/regression/things/1_data_val009_test.h5', 'sbj_name': '1', 'split': 'test'}, {'session_id': 10, 'image_root': '/work/project/MEG_GOD/yainoue/things/Images', 'meg_root': '/work/project/MEG_GOD/yainoue/things/MEG', 'h5_file_name': '../../../../dataset/ssl_dataset/sbj1/regression/things/1_data_val010_test.h5', 'sbj_name': '1', 'split': 'test'}, {'session_id': 11, 'image_root': '/work/project/MEG_GOD/yainoue/things/Images', 'meg_root': '/work/project/MEG_GOD/yainoue/things/MEG', 'h5_file_name': '../../../../dataset/ssl_dataset/sbj1/regression/things/1_data_val011_test.h5', 'sbj_name': '1', 'split': 'test'}, {'session_id': 12, 'image_root': '/work/project/MEG_GOD/yainoue/things/Images', 'meg_root': '/work/project/MEG_GOD/yainoue/things/MEG', 'h5_file_name': '../../../../dataset/ssl_dataset/sbj1/regression/things/1_data_val012_test.h5', 'sbj_name': '1', 'split': 'test'}]\n",
      "=====================================\n",
      "session id is  1\n",
      "split is test\n",
      "target h5 file ../../../../dataset/ssl_dataset/sbj1/regression/things/1_data_val001_test.h5 True\n",
      "load h5 file ../../../../dataset/ssl_dataset/sbj1/regression/things/1_data_val001_test.h5\n"
     ]
    },
    {
     "name": "stdout",
     "output_type": "stream",
     "text": [
      "session id is  2\n",
      "split is test\n",
      "target h5 file ../../../../dataset/ssl_dataset/sbj1/regression/things/1_data_val002_test.h5 True\n",
      "load h5 file ../../../../dataset/ssl_dataset/sbj1/regression/things/1_data_val002_test.h5\n",
      "session id is  3\n",
      "split is test\n",
      "target h5 file ../../../../dataset/ssl_dataset/sbj1/regression/things/1_data_val003_test.h5 True\n",
      "load h5 file ../../../../dataset/ssl_dataset/sbj1/regression/things/1_data_val003_test.h5\n",
      "session id is  4\n",
      "split is test\n",
      "target h5 file ../../../../dataset/ssl_dataset/sbj1/regression/things/1_data_val004_test.h5 True\n",
      "load h5 file ../../../../dataset/ssl_dataset/sbj1/regression/things/1_data_val004_test.h5\n",
      "session id is  5\n",
      "split is test\n",
      "target h5 file ../../../../dataset/ssl_dataset/sbj1/regression/things/1_data_val005_test.h5 True\n",
      "load h5 file ../../../../dataset/ssl_dataset/sbj1/regression/things/1_data_val005_test.h5\n",
      "session id is  6\n",
      "split is test\n",
      "target h5 file ../../../../dataset/ssl_dataset/sbj1/regression/things/1_data_val006_test.h5 True\n",
      "load h5 file ../../../../dataset/ssl_dataset/sbj1/regression/things/1_data_val006_test.h5\n",
      "session id is  7\n",
      "split is test\n",
      "target h5 file ../../../../dataset/ssl_dataset/sbj1/regression/things/1_data_val007_test.h5 True\n",
      "load h5 file ../../../../dataset/ssl_dataset/sbj1/regression/things/1_data_val007_test.h5\n",
      "session id is  8\n",
      "split is test\n",
      "target h5 file ../../../../dataset/ssl_dataset/sbj1/regression/things/1_data_val008_test.h5 True\n",
      "load h5 file ../../../../dataset/ssl_dataset/sbj1/regression/things/1_data_val008_test.h5\n",
      "session id is  9\n",
      "split is test\n",
      "target h5 file ../../../../dataset/ssl_dataset/sbj1/regression/things/1_data_val009_test.h5 True\n",
      "load h5 file ../../../../dataset/ssl_dataset/sbj1/regression/things/1_data_val009_test.h5\n",
      "session id is  10\n",
      "split is test\n",
      "target h5 file ../../../../dataset/ssl_dataset/sbj1/regression/things/1_data_val010_test.h5 True\n",
      "load h5 file ../../../../dataset/ssl_dataset/sbj1/regression/things/1_data_val010_test.h5\n",
      "session id is  11\n",
      "split is test\n",
      "target h5 file ../../../../dataset/ssl_dataset/sbj1/regression/things/1_data_val011_test.h5 True\n",
      "load h5 file ../../../../dataset/ssl_dataset/sbj1/regression/things/1_data_val011_test.h5\n",
      "session id is  12\n",
      "split is test\n",
      "target h5 file ../../../../dataset/ssl_dataset/sbj1/regression/things/1_data_val012_test.h5 True\n",
      "load h5 file ../../../../dataset/ssl_dataset/sbj1/regression/things/1_data_val012_test.h5\n"
     ]
    }
   ],
   "source": [
    "val_dataset, test_dataset = get_dataset(args)"
   ]
  },
  {
   "cell_type": "code",
   "execution_count": 7,
   "id": "5a8f92fb",
   "metadata": {},
   "outputs": [
    {
     "name": "stderr",
     "output_type": "stream",
     "text": [
      "100%|██████████| 2400/2400 [07:49<00:00,  5.11it/s]\n"
     ]
    }
   ],
   "source": [
    "# val_image_features, val_eeg_features = get_features(val_dataset)\n",
    "test_image_features, test_eeg_features = get_features(test_dataset)"
   ]
  },
  {
   "cell_type": "code",
   "execution_count": 12,
   "id": "f39e16c5",
   "metadata": {},
   "outputs": [
    {
     "name": "stdout",
     "output_type": "stream",
     "text": [
      "2400\n"
     ]
    }
   ],
   "source": [
    "image_names = []\n",
    "for dataset in test_dataset.datasets:\n",
    "    image_names += dataset.image_names\n",
    "print(len(image_names))"
   ]
  },
  {
   "cell_type": "code",
   "execution_count": 23,
   "id": "71f7b703",
   "metadata": {},
   "outputs": [
    {
     "name": "stdout",
     "output_type": "stream",
     "text": [
      "2400 199 0\n"
     ]
    }
   ],
   "source": [
    "test_labels = get_test_labels(image_names)\n",
    "print(len(test_labels), max(test_labels), min(test_labels))\n",
    "test_eeg_features_avg, test_image_features_avg, new_labels = aggregate_same_label(test_eeg_features, test_image_features, test_labels)"
   ]
  },
  {
   "cell_type": "code",
   "execution_count": 47,
   "id": "23aaf473",
   "metadata": {},
   "outputs": [],
   "source": [
    "# normalize_mean_Y = torch.from_numpy(np.load('/home/yainoue/meg2image/codes/MEG-decoding/data/GOD/stats/mean_Y.npy')).to(device)\n",
    "# normalize_mean_Y.shape\n",
    "\n",
    "# normalize_mean_X = val_eeg_features.mean(0, keepdim=True).cpu().numpy()\n",
    "# normalize_std_X = val_eeg_features.std(0, keepdim=True).cpu().numpy()\n",
    "\n",
    "# np.save('/home/yainoue/meg2image/codes/MEG-decoding/data/GOD/stats/mean_X.npy', normalize_mean_X)\n",
    "# np.save('/home/yainoue/meg2image/codes/MEG-decoding/data/GOD/stats/std_X.npy', normalize_std_X)\n"
   ]
  },
  {
   "cell_type": "code",
   "execution_count": 48,
   "id": "e3981072",
   "metadata": {},
   "outputs": [
    {
     "data": {
      "text/plain": [
       "torch.Size([1, 512])"
      ]
     },
     "execution_count": 48,
     "metadata": {},
     "output_type": "execute_result"
    }
   ],
   "source": [
    "normalize_mean_Y.shape"
   ]
  },
  {
   "cell_type": "code",
   "execution_count": 28,
   "id": "3a4a3dab",
   "metadata": {},
   "outputs": [
    {
     "name": "stderr",
     "output_type": "stream",
     "text": [
      "\n",
      "[Similarities]:   0%|          | 0/200 [00:00<?, ?it/s]\u001b[A\n",
      "[Similarities]:   2%|▏         | 3/200 [00:00<00:09, 20.14it/s]\u001b[A\n",
      "[Similarities]:   3%|▎         | 6/200 [00:00<00:08, 22.83it/s]\u001b[A\n",
      "[Similarities]:   5%|▌         | 10/200 [00:00<00:06, 27.96it/s]\u001b[A\n",
      "[Similarities]:   6%|▋         | 13/200 [00:00<00:07, 26.02it/s]\u001b[A\n",
      "[Similarities]:   8%|▊         | 17/200 [00:00<00:06, 28.80it/s]\u001b[A\n",
      "[Similarities]:  10%|█         | 20/200 [00:00<00:06, 28.56it/s]\u001b[A\n",
      "[Similarities]:  12%|█▏        | 24/200 [00:00<00:05, 29.97it/s]\u001b[A\n",
      "[Similarities]:  14%|█▍        | 28/200 [00:00<00:05, 31.25it/s]\u001b[A\n",
      "[Similarities]:  16%|█▌        | 32/200 [00:01<00:05, 29.91it/s]\u001b[A\n",
      "[Similarities]:  18%|█▊        | 36/200 [00:01<00:05, 30.89it/s]\u001b[A\n",
      "[Similarities]:  20%|██        | 40/200 [00:01<00:05, 30.66it/s]\u001b[A\n",
      "[Similarities]:  22%|██▏       | 44/200 [00:01<00:05, 29.68it/s]\u001b[A\n",
      "[Similarities]:  24%|██▎       | 47/200 [00:01<00:05, 28.96it/s]\u001b[A\n",
      "[Similarities]:  26%|██▌       | 51/200 [00:01<00:04, 30.46it/s]\u001b[A\n",
      "[Similarities]:  28%|██▊       | 55/200 [00:01<00:05, 28.89it/s]\u001b[A\n",
      "[Similarities]:  29%|██▉       | 58/200 [00:02<00:04, 29.06it/s]\u001b[A\n",
      "[Similarities]:  31%|███       | 62/200 [00:02<00:04, 30.87it/s]\u001b[A\n",
      "[Similarities]:  33%|███▎      | 66/200 [00:02<00:04, 30.66it/s]\u001b[A\n",
      "[Similarities]:  35%|███▌      | 70/200 [00:02<00:04, 30.55it/s]\u001b[A\n",
      "[Similarities]:  37%|███▋      | 74/200 [00:02<00:04, 30.11it/s]\u001b[A\n",
      "[Similarities]:  39%|███▉      | 78/200 [00:02<00:03, 31.16it/s]\u001b[A\n",
      "[Similarities]:  41%|████      | 82/200 [00:02<00:03, 29.95it/s]\u001b[A\n",
      "[Similarities]:  43%|████▎     | 86/200 [00:02<00:03, 31.08it/s]\u001b[A\n",
      "[Similarities]:  45%|████▌     | 90/200 [00:03<00:03, 30.55it/s]\u001b[A\n",
      "[Similarities]:  47%|████▋     | 94/200 [00:03<00:03, 31.60it/s]\u001b[A\n",
      "[Similarities]:  49%|████▉     | 98/200 [00:03<00:03, 31.18it/s]\u001b[A\n",
      "[Similarities]:  51%|█████     | 102/200 [00:03<00:03, 30.61it/s]\u001b[A\n",
      "[Similarities]:  53%|█████▎    | 106/200 [00:03<00:03, 30.51it/s]\u001b[A\n",
      "[Similarities]:  55%|█████▌    | 110/200 [00:03<00:02, 30.39it/s]\u001b[A\n",
      "[Similarities]:  57%|█████▋    | 114/200 [00:03<00:02, 31.81it/s]\u001b[A\n",
      "[Similarities]:  59%|█████▉    | 118/200 [00:03<00:02, 31.31it/s]\u001b[A\n",
      "[Similarities]:  61%|██████    | 122/200 [00:04<00:02, 32.38it/s]\u001b[A\n",
      "[Similarities]:  63%|██████▎   | 126/200 [00:04<00:02, 30.36it/s]\u001b[A\n",
      "[Similarities]:  65%|██████▌   | 130/200 [00:04<00:02, 31.41it/s]\u001b[A\n",
      "[Similarities]:  67%|██████▋   | 134/200 [00:04<00:02, 32.42it/s]\u001b[A\n",
      "[Similarities]:  69%|██████▉   | 138/200 [00:04<00:01, 31.63it/s]\u001b[A\n",
      "[Similarities]:  71%|███████   | 142/200 [00:04<00:01, 32.49it/s]\u001b[A\n",
      "[Similarities]:  73%|███████▎  | 146/200 [00:04<00:01, 30.35it/s]\u001b[A\n",
      "[Similarities]:  75%|███████▌  | 150/200 [00:04<00:01, 31.46it/s]\u001b[A\n",
      "[Similarities]:  77%|███████▋  | 154/200 [00:05<00:01, 29.55it/s]\u001b[A\n",
      "[Similarities]:  79%|███████▉  | 158/200 [00:05<00:01, 30.86it/s]\u001b[A\n",
      "[Similarities]:  81%|████████  | 162/200 [00:05<00:01, 30.48it/s]\u001b[A\n",
      "[Similarities]:  83%|████████▎ | 166/200 [00:05<00:01, 31.05it/s]\u001b[A\n",
      "[Similarities]:  85%|████████▌ | 170/200 [00:05<00:00, 32.22it/s]\u001b[A\n",
      "[Similarities]:  87%|████████▋ | 174/200 [00:05<00:00, 31.46it/s]\u001b[A\n",
      "[Similarities]:  89%|████████▉ | 178/200 [00:05<00:00, 32.57it/s]\u001b[A\n",
      "[Similarities]:  91%|█████████ | 182/200 [00:05<00:00, 31.92it/s]\u001b[A\n",
      "[Similarities]:  93%|█████████▎| 186/200 [00:06<00:00, 32.91it/s]\u001b[A\n",
      "[Similarities]:  95%|█████████▌| 190/200 [00:06<00:00, 32.12it/s]\u001b[A\n",
      "[Similarities]:  97%|█████████▋| 194/200 [00:06<00:00, 32.76it/s]\u001b[A\n",
      "[Similarities]: 100%|██████████| 200/200 [00:06<00:00, 30.63it/s]\u001b[A\n"
     ]
    },
    {
     "name": "stdout",
     "output_type": "stream",
     "text": [
      "similarity torch.Size([200, 200])\n",
      "Similarity Acc 0.8034170854271357\n"
     ]
    },
    {
     "name": "stderr",
     "output_type": "stream",
     "text": [
      "\n",
      "[Similarities]:   0%|          | 0/200 [00:00<?, ?it/s]\u001b[A\n",
      "[Similarities]:   2%|▏         | 4/200 [00:00<00:05, 37.24it/s]\u001b[A\n",
      "[Similarities]:   4%|▍         | 8/200 [00:00<00:05, 33.11it/s]\u001b[A\n",
      "[Similarities]:   6%|▌         | 12/200 [00:00<00:05, 34.57it/s]\u001b[A\n",
      "[Similarities]:   8%|▊         | 16/200 [00:00<00:05, 35.20it/s]\u001b[A\n",
      "[Similarities]:  10%|█         | 20/200 [00:00<00:05, 33.46it/s]\u001b[A\n",
      "[Similarities]:  12%|█▏        | 24/200 [00:00<00:05, 34.22it/s]\u001b[A\n",
      "[Similarities]:  14%|█▍        | 28/200 [00:00<00:05, 32.82it/s]\u001b[A\n",
      "[Similarities]:  16%|█▌        | 32/200 [00:00<00:05, 33.55it/s]\u001b[A\n",
      "[Similarities]:  18%|█▊        | 36/200 [00:01<00:04, 33.14it/s]\u001b[A\n",
      "[Similarities]:  20%|██        | 40/200 [00:01<00:04, 33.43it/s]\u001b[A\n",
      "[Similarities]:  22%|██▏       | 44/200 [00:01<00:04, 34.32it/s]\u001b[A\n",
      "[Similarities]:  24%|██▍       | 48/200 [00:01<00:04, 32.99it/s]\u001b[A\n",
      "[Similarities]:  26%|██▌       | 52/200 [00:01<00:04, 34.08it/s]\u001b[A\n",
      "[Similarities]:  28%|██▊       | 56/200 [00:01<00:04, 33.06it/s]\u001b[A\n",
      "[Similarities]:  30%|███       | 60/200 [00:01<00:04, 34.12it/s]\u001b[A\n",
      "[Similarities]:  32%|███▏      | 64/200 [00:01<00:03, 34.80it/s]\u001b[A\n",
      "[Similarities]:  34%|███▍      | 68/200 [00:02<00:03, 33.74it/s]\u001b[A\n",
      "[Similarities]:  36%|███▌      | 72/200 [00:02<00:03, 34.51it/s]\u001b[A\n",
      "[Similarities]:  38%|███▊      | 76/200 [00:02<00:03, 32.89it/s]\u001b[A\n",
      "[Similarities]:  40%|████      | 80/200 [00:02<00:03, 33.70it/s]\u001b[A\n",
      "[Similarities]:  42%|████▏     | 84/200 [00:02<00:03, 34.63it/s]\u001b[A\n",
      "[Similarities]:  44%|████▍     | 88/200 [00:02<00:03, 33.15it/s]\u001b[A\n",
      "[Similarities]:  46%|████▌     | 92/200 [00:02<00:03, 33.92it/s]\u001b[A\n",
      "[Similarities]:  48%|████▊     | 96/200 [00:02<00:03, 32.78it/s]\u001b[A\n",
      "[Similarities]:  50%|█████     | 100/200 [00:02<00:03, 32.13it/s]\u001b[A\n",
      "[Similarities]:  52%|█████▏    | 104/200 [00:03<00:03, 31.59it/s]\u001b[A\n",
      "[Similarities]:  54%|█████▍    | 108/200 [00:03<00:02, 31.65it/s]\u001b[A\n",
      "[Similarities]:  56%|█████▌    | 112/200 [00:03<00:02, 31.45it/s]\u001b[A\n",
      "[Similarities]:  58%|█████▊    | 116/200 [00:03<00:02, 32.53it/s]\u001b[A\n",
      "[Similarities]:  60%|██████    | 120/200 [00:03<00:02, 33.61it/s]\u001b[A\n",
      "[Similarities]:  62%|██████▏   | 124/200 [00:03<00:02, 32.82it/s]\u001b[A\n",
      "[Similarities]:  64%|██████▍   | 128/200 [00:03<00:02, 33.58it/s]\u001b[A\n",
      "[Similarities]:  66%|██████▌   | 132/200 [00:03<00:02, 32.33it/s]\u001b[A\n",
      "[Similarities]:  68%|██████▊   | 136/200 [00:04<00:01, 33.05it/s]\u001b[A\n",
      "[Similarities]:  70%|███████   | 140/200 [00:04<00:01, 33.77it/s]\u001b[A\n",
      "[Similarities]:  72%|███████▏  | 144/200 [00:04<00:01, 29.97it/s]\u001b[A\n",
      "[Similarities]:  74%|███████▍  | 148/200 [00:04<00:01, 31.09it/s]\u001b[A\n",
      "[Similarities]:  76%|███████▌  | 152/200 [00:04<00:01, 30.03it/s]\u001b[A\n",
      "[Similarities]:  78%|███████▊  | 156/200 [00:04<00:01, 31.21it/s]\u001b[A\n",
      "[Similarities]:  80%|████████  | 160/200 [00:04<00:01, 29.56it/s]\u001b[A\n",
      "[Similarities]:  82%|████████▏ | 164/200 [00:05<00:01, 31.10it/s]\u001b[A\n",
      "[Similarities]:  84%|████████▍ | 168/200 [00:05<00:00, 32.30it/s]\u001b[A\n",
      "[Similarities]:  86%|████████▌ | 172/200 [00:05<00:00, 31.71it/s]\u001b[A\n",
      "[Similarities]:  88%|████████▊ | 176/200 [00:05<00:00, 32.46it/s]\u001b[A\n",
      "[Similarities]:  90%|█████████ | 180/200 [00:05<00:00, 32.52it/s]\u001b[A\n",
      "[Similarities]:  92%|█████████▏| 184/200 [00:05<00:00, 32.28it/s]\u001b[A\n",
      "[Similarities]:  94%|█████████▍| 188/200 [00:05<00:00, 30.36it/s]\u001b[A\n",
      "[Similarities]:  96%|█████████▌| 192/200 [00:05<00:00, 31.24it/s]\u001b[A\n",
      "[Similarities]:  98%|█████████▊| 196/200 [00:06<00:00, 30.07it/s]\u001b[A\n",
      "[Similarities]: 100%|██████████| 200/200 [00:06<00:00, 32.40it/s]\u001b[A\n"
     ]
    },
    {
     "name": "stdout",
     "output_type": "stream",
     "text": [
      "similarity torch.Size([200, 200])\n",
      "Similarity Acc 0.806105527638191\n"
     ]
    },
    {
     "name": "stderr",
     "output_type": "stream",
     "text": [
      "\n",
      "[Similarities]:   0%|          | 0/200 [00:00<?, ?it/s]\u001b[A\n",
      "[Similarities]:   2%|▏         | 3/200 [00:00<00:07, 27.61it/s]\u001b[A\n",
      "[Similarities]:   4%|▎         | 7/200 [00:00<00:06, 31.47it/s]\u001b[A\n",
      "[Similarities]:   6%|▌         | 11/200 [00:00<00:05, 32.52it/s]\u001b[A\n",
      "[Similarities]:   8%|▊         | 15/200 [00:00<00:05, 30.86it/s]\u001b[A\n",
      "[Similarities]:  10%|▉         | 19/200 [00:00<00:05, 31.90it/s]\u001b[A\n",
      "[Similarities]:  12%|█▏        | 23/200 [00:00<00:05, 31.20it/s]\u001b[A\n",
      "[Similarities]:  14%|█▎        | 27/200 [00:00<00:05, 32.10it/s]\u001b[A\n",
      "[Similarities]:  16%|█▌        | 31/200 [00:01<00:05, 30.44it/s]\u001b[A\n",
      "[Similarities]:  18%|█▊        | 35/200 [00:01<00:05, 31.59it/s]\u001b[A\n",
      "[Similarities]:  20%|█▉        | 39/200 [00:01<00:05, 30.94it/s]\u001b[A\n",
      "[Similarities]:  22%|██▏       | 43/200 [00:01<00:04, 31.92it/s]\u001b[A\n",
      "[Similarities]:  24%|██▎       | 47/200 [00:01<00:04, 31.32it/s]\u001b[A\n",
      "[Similarities]:  26%|██▌       | 51/200 [00:01<00:04, 30.92it/s]\u001b[A\n",
      "[Similarities]:  28%|██▊       | 55/200 [00:01<00:04, 32.11it/s]\u001b[A\n",
      "[Similarities]:  30%|██▉       | 59/200 [00:01<00:04, 31.40it/s]\u001b[A\n",
      "[Similarities]:  32%|███▏      | 63/200 [00:01<00:04, 32.40it/s]\u001b[A\n",
      "[Similarities]:  34%|███▎      | 67/200 [00:02<00:04, 31.67it/s]\u001b[A\n",
      "[Similarities]:  36%|███▌      | 71/200 [00:02<00:03, 32.75it/s]\u001b[A\n",
      "[Similarities]:  38%|███▊      | 75/200 [00:02<00:04, 29.12it/s]\u001b[A\n",
      "[Similarities]:  40%|███▉      | 79/200 [00:02<00:04, 29.56it/s]\u001b[A\n",
      "[Similarities]:  42%|████▏     | 83/200 [00:02<00:03, 30.39it/s]\u001b[A\n",
      "[Similarities]:  44%|████▎     | 87/200 [00:02<00:03, 30.94it/s]\u001b[A\n",
      "[Similarities]:  46%|████▌     | 91/200 [00:02<00:03, 32.30it/s]\u001b[A\n",
      "[Similarities]:  48%|████▊     | 95/200 [00:03<00:03, 31.63it/s]\u001b[A\n",
      "[Similarities]:  50%|████▉     | 99/200 [00:03<00:03, 32.88it/s]\u001b[A\n",
      "[Similarities]:  52%|█████▏    | 103/200 [00:03<00:03, 31.64it/s]\u001b[A\n",
      "[Similarities]:  54%|█████▎    | 107/200 [00:03<00:02, 32.85it/s]\u001b[A\n",
      "[Similarities]:  56%|█████▌    | 111/200 [00:03<00:02, 33.81it/s]\u001b[A\n",
      "[Similarities]:  57%|█████▊    | 115/200 [00:03<00:02, 32.56it/s]\u001b[A\n",
      "[Similarities]:  60%|█████▉    | 119/200 [00:03<00:02, 33.60it/s]\u001b[A\n",
      "[Similarities]:  62%|██████▏   | 123/200 [00:03<00:02, 32.75it/s]\u001b[A\n",
      "[Similarities]:  64%|██████▎   | 127/200 [00:03<00:02, 33.52it/s]\u001b[A\n",
      "[Similarities]:  66%|██████▌   | 131/200 [00:04<00:02, 32.44it/s]\u001b[A\n",
      "[Similarities]:  68%|██████▊   | 135/200 [00:04<00:01, 33.30it/s]\u001b[A\n",
      "[Similarities]:  70%|██████▉   | 139/200 [00:04<00:01, 33.79it/s]\u001b[A\n",
      "[Similarities]:  72%|███████▏  | 143/200 [00:04<00:01, 32.68it/s]\u001b[A\n",
      "[Similarities]:  74%|███████▎  | 147/200 [00:04<00:01, 33.49it/s]\u001b[A\n",
      "[Similarities]:  76%|███████▌  | 151/200 [00:04<00:01, 32.34it/s]\u001b[A\n",
      "[Similarities]:  78%|███████▊  | 155/200 [00:04<00:01, 33.07it/s]\u001b[A\n",
      "[Similarities]:  80%|███████▉  | 159/200 [00:04<00:01, 33.69it/s]\u001b[A\n",
      "[Similarities]:  82%|████████▏ | 163/200 [00:05<00:01, 33.31it/s]\u001b[A\n",
      "[Similarities]:  84%|████████▎ | 167/200 [00:05<00:00, 34.36it/s]\u001b[A\n",
      "[Similarities]:  86%|████████▌ | 171/200 [00:05<00:00, 33.20it/s]\u001b[A\n",
      "[Similarities]:  88%|████████▊ | 175/200 [00:05<00:00, 34.50it/s]\u001b[A\n",
      "[Similarities]:  90%|████████▉ | 179/200 [00:05<00:00, 34.96it/s]\u001b[A\n",
      "[Similarities]:  92%|█████████▏| 183/200 [00:05<00:00, 33.55it/s]\u001b[A\n",
      "[Similarities]:  94%|█████████▎| 187/200 [00:05<00:00, 34.37it/s]\u001b[A\n",
      "[Similarities]:  96%|█████████▌| 191/200 [00:05<00:00, 32.92it/s]\u001b[A\n",
      "[Similarities]:  98%|█████████▊| 195/200 [00:06<00:00, 33.75it/s]\u001b[A\n",
      "[Similarities]: 100%|██████████| 200/200 [00:06<00:00, 32.29it/s]\u001b[A\n"
     ]
    },
    {
     "name": "stdout",
     "output_type": "stream",
     "text": [
      "similarity torch.Size([200, 200])\n",
      "Similarity Acc 0.8213316582914574\n"
     ]
    },
    {
     "name": "stderr",
     "output_type": "stream",
     "text": [
      "\n",
      "[Similarities]:   0%|          | 0/200 [00:00<?, ?it/s]\u001b[A\n",
      "[Similarities]:   2%|▏         | 4/200 [00:00<00:05, 34.36it/s]\u001b[A\n",
      "[Similarities]:   4%|▍         | 8/200 [00:00<00:05, 34.77it/s]\u001b[A\n",
      "[Similarities]:   6%|▌         | 12/200 [00:00<00:05, 31.95it/s]\u001b[A\n",
      "[Similarities]:   8%|▊         | 16/200 [00:00<00:05, 33.01it/s]\u001b[A\n",
      "[Similarities]:  10%|█         | 20/200 [00:00<00:05, 31.90it/s]\u001b[A\n",
      "[Similarities]:  12%|█▏        | 24/200 [00:00<00:05, 33.23it/s]\u001b[A\n",
      "[Similarities]:  14%|█▍        | 28/200 [00:00<00:05, 31.92it/s]\u001b[A\n",
      "[Similarities]:  16%|█▌        | 32/200 [00:00<00:05, 31.59it/s]\u001b[A\n",
      "[Similarities]:  18%|█▊        | 36/200 [00:01<00:05, 31.40it/s]\u001b[A\n",
      "[Similarities]:  20%|██        | 40/200 [00:01<00:05, 31.09it/s]\u001b[A\n",
      "[Similarities]:  22%|██▏       | 44/200 [00:01<00:04, 32.18it/s]\u001b[A\n",
      "[Similarities]:  24%|██▍       | 48/200 [00:01<00:04, 31.24it/s]\u001b[A\n",
      "[Similarities]:  26%|██▌       | 52/200 [00:01<00:04, 32.43it/s]\u001b[A\n",
      "[Similarities]:  28%|██▊       | 56/200 [00:01<00:04, 30.46it/s]\u001b[A\n",
      "[Similarities]:  30%|███       | 60/200 [00:01<00:04, 31.68it/s]\u001b[A\n",
      "[Similarities]:  32%|███▏      | 64/200 [00:02<00:04, 31.03it/s]\u001b[A\n",
      "[Similarities]:  34%|███▍      | 68/200 [00:02<00:04, 31.82it/s]\u001b[A\n",
      "[Similarities]:  36%|███▌      | 72/200 [00:02<00:04, 29.84it/s]\u001b[A\n",
      "[Similarities]:  38%|███▊      | 76/200 [00:02<00:03, 31.06it/s]\u001b[A\n",
      "[Similarities]:  40%|████      | 80/200 [00:02<00:03, 31.91it/s]\u001b[A\n",
      "[Similarities]:  42%|████▏     | 84/200 [00:02<00:03, 29.51it/s]\u001b[A\n",
      "[Similarities]:  44%|████▍     | 88/200 [00:02<00:03, 29.78it/s]\u001b[A\n",
      "[Similarities]:  46%|████▌     | 92/200 [00:02<00:03, 28.80it/s]\u001b[A\n",
      "[Similarities]:  48%|████▊     | 96/200 [00:03<00:03, 30.15it/s]\u001b[A\n",
      "[Similarities]:  50%|█████     | 100/200 [00:03<00:03, 29.76it/s]\u001b[A\n",
      "[Similarities]:  52%|█████▏    | 104/200 [00:03<00:03, 30.67it/s]\u001b[A\n",
      "[Similarities]:  54%|█████▍    | 108/200 [00:03<00:03, 28.36it/s]\u001b[A\n",
      "[Similarities]:  56%|█████▌    | 112/200 [00:03<00:02, 29.89it/s]\u001b[A\n",
      "[Similarities]:  58%|█████▊    | 116/200 [00:03<00:02, 29.53it/s]\u001b[A\n",
      "[Similarities]:  60%|██████    | 120/200 [00:03<00:02, 30.78it/s]\u001b[A\n",
      "[Similarities]:  62%|██████▏   | 124/200 [00:04<00:02, 30.08it/s]\u001b[A\n",
      "[Similarities]:  64%|██████▍   | 128/200 [00:04<00:02, 29.94it/s]\u001b[A\n",
      "[Similarities]:  66%|██████▌   | 132/200 [00:04<00:02, 29.83it/s]\u001b[A\n",
      "[Similarities]:  68%|██████▊   | 136/200 [00:04<00:02, 30.66it/s]\u001b[A\n",
      "[Similarities]:  70%|███████   | 140/200 [00:04<00:01, 30.10it/s]\u001b[A\n",
      "[Similarities]:  72%|███████▏  | 144/200 [00:04<00:01, 29.40it/s]\u001b[A\n",
      "[Similarities]:  74%|███████▍  | 148/200 [00:04<00:01, 30.18it/s]\u001b[A\n",
      "[Similarities]:  76%|███████▌  | 152/200 [00:04<00:01, 29.88it/s]\u001b[A\n",
      "[Similarities]:  78%|███████▊  | 156/200 [00:05<00:01, 30.83it/s]\u001b[A\n",
      "[Similarities]:  80%|████████  | 160/200 [00:05<00:01, 29.05it/s]\u001b[A\n",
      "[Similarities]:  82%|████████▏ | 164/200 [00:05<00:01, 29.76it/s]\u001b[A\n",
      "[Similarities]:  84%|████████▍ | 168/200 [00:05<00:01, 29.07it/s]\u001b[A\n",
      "[Similarities]:  86%|████████▌ | 171/200 [00:05<00:01, 28.72it/s]\u001b[A\n",
      "[Similarities]:  87%|████████▋ | 174/200 [00:05<00:00, 27.26it/s]\u001b[A\n",
      "[Similarities]:  88%|████████▊ | 177/200 [00:05<00:00, 27.45it/s]\u001b[A\n",
      "[Similarities]:  90%|█████████ | 181/200 [00:05<00:00, 29.50it/s]\u001b[A\n",
      "[Similarities]:  92%|█████████▏| 184/200 [00:06<00:00, 29.02it/s]\u001b[A\n",
      "[Similarities]:  94%|█████████▎| 187/200 [00:06<00:00, 28.59it/s]\u001b[A\n",
      "[Similarities]:  96%|█████████▌| 191/200 [00:06<00:00, 28.60it/s]\u001b[A\n",
      "[Similarities]:  98%|█████████▊| 195/200 [00:06<00:00, 29.90it/s]\u001b[A\n",
      "[Similarities]: 100%|██████████| 200/200 [00:06<00:00, 30.17it/s]\u001b[A\n"
     ]
    },
    {
     "name": "stdout",
     "output_type": "stream",
     "text": [
      "similarity torch.Size([200, 200])\n",
      "Similarity Acc 0.7908040201005025\n"
     ]
    },
    {
     "name": "stderr",
     "output_type": "stream",
     "text": [
      "\n",
      "[Similarities]:   0%|          | 0/200 [00:00<?, ?it/s]\u001b[A\n",
      "[Similarities]:   2%|▏         | 4/200 [00:00<00:05, 36.57it/s]\u001b[A\n",
      "[Similarities]:   4%|▍         | 8/200 [00:00<00:05, 32.12it/s]\u001b[A\n",
      "[Similarities]:   6%|▌         | 12/200 [00:00<00:05, 33.48it/s]\u001b[A\n",
      "[Similarities]:   8%|▊         | 16/200 [00:00<00:05, 33.69it/s]\u001b[A\n",
      "[Similarities]:  10%|█         | 20/200 [00:00<00:05, 33.01it/s]\u001b[A\n",
      "[Similarities]:  12%|█▏        | 24/200 [00:00<00:05, 34.01it/s]\u001b[A\n",
      "[Similarities]:  14%|█▍        | 28/200 [00:00<00:05, 33.05it/s]\u001b[A\n",
      "[Similarities]:  16%|█▌        | 32/200 [00:00<00:04, 33.92it/s]\u001b[A\n",
      "[Similarities]:  18%|█▊        | 36/200 [00:01<00:05, 32.73it/s]\u001b[A\n",
      "[Similarities]:  20%|██        | 40/200 [00:01<00:04, 33.69it/s]\u001b[A\n",
      "[Similarities]:  22%|██▏       | 44/200 [00:01<00:04, 34.34it/s]\u001b[A\n",
      "[Similarities]:  24%|██▍       | 48/200 [00:01<00:04, 32.57it/s]\u001b[A\n",
      "[Similarities]:  26%|██▌       | 52/200 [00:01<00:04, 33.53it/s]\u001b[A\n",
      "[Similarities]:  28%|██▊       | 56/200 [00:01<00:04, 32.35it/s]\u001b[A\n",
      "[Similarities]:  30%|███       | 60/200 [00:01<00:04, 33.25it/s]\u001b[A\n",
      "[Similarities]:  32%|███▏      | 64/200 [00:01<00:04, 32.44it/s]\u001b[A\n",
      "[Similarities]:  34%|███▍      | 68/200 [00:02<00:03, 33.32it/s]\u001b[A\n",
      "[Similarities]:  36%|███▌      | 72/200 [00:02<00:03, 34.13it/s]\u001b[A\n",
      "[Similarities]:  38%|███▊      | 76/200 [00:02<00:03, 33.13it/s]\u001b[A\n",
      "[Similarities]:  40%|████      | 80/200 [00:02<00:03, 33.91it/s]\u001b[A\n",
      "[Similarities]:  42%|████▏     | 84/200 [00:02<00:03, 32.46it/s]\u001b[A\n",
      "[Similarities]:  44%|████▍     | 88/200 [00:02<00:03, 33.36it/s]\u001b[A\n",
      "[Similarities]:  46%|████▌     | 92/200 [00:02<00:03, 33.55it/s]\u001b[A\n",
      "[Similarities]:  48%|████▊     | 96/200 [00:02<00:03, 32.75it/s]\u001b[A\n",
      "[Similarities]:  50%|█████     | 100/200 [00:03<00:02, 33.57it/s]\u001b[A\n",
      "[Similarities]:  52%|█████▏    | 104/200 [00:03<00:02, 32.49it/s]\u001b[A\n",
      "[Similarities]:  54%|█████▍    | 108/200 [00:03<00:02, 33.54it/s]\u001b[A\n",
      "[Similarities]:  56%|█████▌    | 112/200 [00:03<00:02, 32.54it/s]\u001b[A\n",
      "[Similarities]:  58%|█████▊    | 116/200 [00:03<00:02, 31.82it/s]\u001b[A\n",
      "[Similarities]:  60%|██████    | 120/200 [00:03<00:02, 32.13it/s]\u001b[A\n",
      "[Similarities]:  62%|██████▏   | 124/200 [00:03<00:02, 32.51it/s]\u001b[A\n",
      "[Similarities]:  64%|██████▍   | 128/200 [00:03<00:02, 33.43it/s]\u001b[A\n",
      "[Similarities]:  66%|██████▌   | 132/200 [00:03<00:02, 32.49it/s]\u001b[A\n",
      "[Similarities]:  68%|██████▊   | 136/200 [00:04<00:01, 33.62it/s]\u001b[A\n",
      "[Similarities]:  70%|███████   | 140/200 [00:04<00:01, 32.99it/s]\u001b[A\n",
      "[Similarities]:  72%|███████▏  | 144/200 [00:04<00:01, 33.99it/s]\u001b[A\n",
      "[Similarities]:  74%|███████▍  | 148/200 [00:04<00:01, 35.01it/s]\u001b[A\n",
      "[Similarities]:  76%|███████▌  | 152/200 [00:04<00:01, 33.64it/s]\u001b[A\n",
      "[Similarities]:  78%|███████▊  | 156/200 [00:04<00:01, 34.52it/s]\u001b[A\n",
      "[Similarities]:  80%|████████  | 160/200 [00:04<00:01, 33.49it/s]\u001b[A\n",
      "[Similarities]:  82%|████████▏ | 164/200 [00:04<00:01, 34.56it/s]\u001b[A\n",
      "[Similarities]:  84%|████████▍ | 168/200 [00:05<00:00, 35.23it/s]\u001b[A\n",
      "[Similarities]:  86%|████████▌ | 172/200 [00:05<00:00, 33.82it/s]\u001b[A\n",
      "[Similarities]:  88%|████████▊ | 176/200 [00:05<00:00, 34.72it/s]\u001b[A\n",
      "[Similarities]:  90%|█████████ | 180/200 [00:05<00:00, 33.59it/s]\u001b[A\n",
      "[Similarities]:  92%|█████████▏| 184/200 [00:05<00:00, 34.48it/s]\u001b[A\n",
      "[Similarities]:  94%|█████████▍| 188/200 [00:05<00:00, 34.99it/s]\u001b[A\n",
      "[Similarities]:  96%|█████████▌| 192/200 [00:05<00:00, 33.87it/s]\u001b[A\n",
      "[Similarities]:  98%|█████████▊| 196/200 [00:05<00:00, 34.73it/s]\u001b[A\n",
      "[Similarities]: 100%|██████████| 200/200 [00:05<00:00, 33.39it/s]\u001b[A\n"
     ]
    },
    {
     "name": "stdout",
     "output_type": "stream",
     "text": [
      "similarity torch.Size([200, 200])\n",
      "Similarity Acc 0.8108542713567839\n"
     ]
    },
    {
     "name": "stderr",
     "output_type": "stream",
     "text": [
      "\n",
      "[Similarities]:   0%|          | 0/200 [00:00<?, ?it/s]\u001b[A\n",
      "[Similarities]:   2%|▏         | 4/200 [00:00<00:05, 35.51it/s]\u001b[A\n",
      "[Similarities]:   4%|▍         | 8/200 [00:00<00:05, 32.42it/s]\u001b[A\n",
      "[Similarities]:   6%|▌         | 12/200 [00:00<00:06, 30.74it/s]\u001b[A\n",
      "[Similarities]:   8%|▊         | 16/200 [00:00<00:06, 30.33it/s]\u001b[A\n",
      "[Similarities]:  10%|█         | 20/200 [00:00<00:06, 29.96it/s]\u001b[A\n",
      "[Similarities]:  12%|█▏        | 24/200 [00:00<00:05, 30.26it/s]\u001b[A\n",
      "[Similarities]:  14%|█▍        | 28/200 [00:00<00:05, 32.05it/s]\u001b[A\n",
      "[Similarities]:  16%|█▌        | 32/200 [00:01<00:05, 31.26it/s]\u001b[A\n",
      "[Similarities]:  18%|█▊        | 36/200 [00:01<00:05, 32.01it/s]\u001b[A\n",
      "[Similarities]:  20%|██        | 40/200 [00:01<00:04, 32.79it/s]\u001b[A\n",
      "[Similarities]:  22%|██▏       | 44/200 [00:01<00:04, 31.48it/s]\u001b[A\n",
      "[Similarities]:  24%|██▍       | 48/200 [00:01<00:04, 30.68it/s]\u001b[A\n",
      "[Similarities]:  26%|██▌       | 52/200 [00:01<00:05, 28.73it/s]\u001b[A\n",
      "[Similarities]:  28%|██▊       | 56/200 [00:01<00:04, 30.33it/s]\u001b[A\n",
      "[Similarities]:  30%|███       | 60/200 [00:01<00:04, 29.94it/s]\u001b[A\n",
      "[Similarities]:  32%|███▏      | 64/200 [00:02<00:04, 31.25it/s]\u001b[A\n",
      "[Similarities]:  34%|███▍      | 68/200 [00:02<00:04, 30.57it/s]\u001b[A\n",
      "[Similarities]:  36%|███▌      | 72/200 [00:02<00:04, 31.41it/s]\u001b[A\n",
      "[Similarities]:  38%|███▊      | 76/200 [00:02<00:04, 30.78it/s]\u001b[A\n",
      "[Similarities]:  40%|████      | 80/200 [00:02<00:04, 29.36it/s]\u001b[A\n",
      "[Similarities]:  42%|████▏     | 83/200 [00:02<00:04, 26.71it/s]\u001b[A\n",
      "[Similarities]:  43%|████▎     | 86/200 [00:02<00:04, 26.06it/s]\u001b[A\n",
      "[Similarities]:  44%|████▍     | 89/200 [00:03<00:04, 25.08it/s]\u001b[A\n",
      "[Similarities]:  46%|████▌     | 92/200 [00:03<00:04, 24.56it/s]\u001b[A\n",
      "[Similarities]:  48%|████▊     | 95/200 [00:03<00:04, 24.49it/s]\u001b[A\n",
      "[Similarities]:  49%|████▉     | 98/200 [00:03<00:04, 23.17it/s]\u001b[A\n",
      "[Similarities]:  50%|█████     | 101/200 [00:03<00:04, 23.53it/s]\u001b[A\n",
      "[Similarities]:  52%|█████▏    | 104/200 [00:03<00:04, 22.98it/s]\u001b[A\n",
      "[Similarities]:  54%|█████▎    | 107/200 [00:03<00:03, 23.27it/s]\u001b[A\n",
      "[Similarities]:  55%|█████▌    | 110/200 [00:03<00:04, 22.48it/s]\u001b[A\n",
      "[Similarities]:  56%|█████▋    | 113/200 [00:04<00:03, 23.21it/s]\u001b[A\n",
      "[Similarities]:  58%|█████▊    | 116/200 [00:04<00:03, 23.15it/s]\u001b[A\n",
      "[Similarities]:  60%|██████    | 120/200 [00:04<00:03, 26.15it/s]\u001b[A\n",
      "[Similarities]:  62%|██████▏   | 124/200 [00:04<00:02, 28.34it/s]\u001b[A\n",
      "[Similarities]:  64%|██████▎   | 127/200 [00:04<00:02, 28.02it/s]\u001b[A\n",
      "[Similarities]:  66%|██████▌   | 131/200 [00:04<00:02, 29.37it/s]\u001b[A\n",
      "[Similarities]:  67%|██████▋   | 134/200 [00:04<00:02, 29.09it/s]\u001b[A\n",
      "[Similarities]:  68%|██████▊   | 137/200 [00:04<00:02, 28.75it/s]\u001b[A\n",
      "[Similarities]:  70%|███████   | 141/200 [00:04<00:01, 30.59it/s]\u001b[A\n",
      "[Similarities]:  72%|███████▎  | 145/200 [00:05<00:01, 29.66it/s]\u001b[A\n",
      "[Similarities]:  74%|███████▍  | 149/200 [00:05<00:01, 30.93it/s]\u001b[A\n",
      "[Similarities]:  76%|███████▋  | 153/200 [00:05<00:01, 30.41it/s]\u001b[A\n",
      "[Similarities]:  78%|███████▊  | 157/200 [00:05<00:01, 31.29it/s]\u001b[A\n",
      "[Similarities]:  80%|████████  | 161/200 [00:05<00:01, 29.11it/s]\u001b[A\n",
      "[Similarities]:  82%|████████▎ | 165/200 [00:05<00:01, 30.59it/s]\u001b[A\n",
      "[Similarities]:  84%|████████▍ | 169/200 [00:05<00:01, 30.26it/s]\u001b[A\n",
      "[Similarities]:  86%|████████▋ | 173/200 [00:06<00:00, 31.49it/s]\u001b[A\n",
      "[Similarities]:  88%|████████▊ | 177/200 [00:06<00:00, 32.29it/s]\u001b[A\n",
      "[Similarities]:  90%|█████████ | 181/200 [00:06<00:00, 31.33it/s]\u001b[A\n",
      "[Similarities]:  92%|█████████▎| 185/200 [00:06<00:00, 32.02it/s]\u001b[A\n",
      "[Similarities]:  94%|█████████▍| 189/200 [00:06<00:00, 29.95it/s]\u001b[A\n",
      "[Similarities]:  96%|█████████▋| 193/200 [00:06<00:00, 30.89it/s]\u001b[A\n",
      "[Similarities]: 100%|██████████| 200/200 [00:06<00:00, 28.91it/s]\u001b[A\n"
     ]
    },
    {
     "name": "stdout",
     "output_type": "stream",
     "text": [
      "similarity torch.Size([200, 200])\n",
      "Similarity Acc 0.7684924623115578\n"
     ]
    },
    {
     "name": "stderr",
     "output_type": "stream",
     "text": [
      "\n",
      "[Similarities]:   0%|          | 0/200 [00:00<?, ?it/s]\u001b[A\n",
      "[Similarities]:   2%|▏         | 4/200 [00:00<00:05, 36.65it/s]\u001b[A\n",
      "[Similarities]:   4%|▍         | 8/200 [00:00<00:05, 32.48it/s]\u001b[A\n",
      "[Similarities]:   6%|▌         | 12/200 [00:00<00:05, 34.04it/s]\u001b[A\n",
      "[Similarities]:   8%|▊         | 16/200 [00:00<00:05, 33.76it/s]\u001b[A\n",
      "[Similarities]:  10%|█         | 20/200 [00:00<00:05, 33.03it/s]\u001b[A\n",
      "[Similarities]:  12%|█▏        | 24/200 [00:00<00:05, 33.74it/s]\u001b[A\n",
      "[Similarities]:  14%|█▍        | 28/200 [00:00<00:05, 32.50it/s]\u001b[A\n",
      "[Similarities]:  16%|█▌        | 32/200 [00:00<00:05, 33.22it/s]\u001b[A\n",
      "[Similarities]:  18%|█▊        | 36/200 [00:01<00:05, 32.48it/s]\u001b[A\n",
      "[Similarities]:  20%|██        | 40/200 [00:01<00:04, 33.75it/s]\u001b[A\n",
      "[Similarities]:  22%|██▏       | 44/200 [00:01<00:04, 34.59it/s]\u001b[A\n",
      "[Similarities]:  24%|██▍       | 48/200 [00:01<00:04, 33.26it/s]\u001b[A\n",
      "[Similarities]:  26%|██▌       | 52/200 [00:01<00:04, 34.33it/s]\u001b[A\n",
      "[Similarities]:  28%|██▊       | 56/200 [00:01<00:04, 33.13it/s]\u001b[A\n",
      "[Similarities]:  30%|███       | 60/200 [00:01<00:04, 34.32it/s]\u001b[A\n",
      "[Similarities]:  32%|███▏      | 64/200 [00:01<00:03, 34.79it/s]\u001b[A\n",
      "[Similarities]:  34%|███▍      | 68/200 [00:02<00:03, 33.69it/s]\u001b[A\n",
      "[Similarities]:  36%|███▌      | 72/200 [00:02<00:03, 34.48it/s]\u001b[A\n",
      "[Similarities]:  38%|███▊      | 76/200 [00:02<00:03, 33.12it/s]\u001b[A\n",
      "[Similarities]:  40%|████      | 80/200 [00:02<00:03, 33.65it/s]\u001b[A\n",
      "[Similarities]:  42%|████▏     | 84/200 [00:02<00:03, 33.02it/s]\u001b[A\n",
      "[Similarities]:  44%|████▍     | 88/200 [00:02<00:03, 33.76it/s]\u001b[A\n",
      "[Similarities]:  46%|████▌     | 92/200 [00:02<00:03, 34.69it/s]\u001b[A\n",
      "[Similarities]:  48%|████▊     | 96/200 [00:02<00:03, 33.30it/s]\u001b[A\n",
      "[Similarities]:  50%|█████     | 100/200 [00:02<00:02, 33.92it/s]\u001b[A\n",
      "[Similarities]:  52%|█████▏    | 104/200 [00:03<00:02, 32.64it/s]\u001b[A\n",
      "[Similarities]:  54%|█████▍    | 108/200 [00:03<00:02, 33.53it/s]\u001b[A\n",
      "[Similarities]:  56%|█████▌    | 112/200 [00:03<00:02, 34.32it/s]\u001b[A\n",
      "[Similarities]:  58%|█████▊    | 116/200 [00:03<00:02, 33.03it/s]\u001b[A\n",
      "[Similarities]:  60%|██████    | 120/200 [00:03<00:02, 33.54it/s]\u001b[A\n",
      "[Similarities]:  62%|██████▏   | 124/200 [00:03<00:02, 31.26it/s]\u001b[A\n",
      "[Similarities]:  64%|██████▍   | 128/200 [00:03<00:02, 32.55it/s]\u001b[A\n",
      "[Similarities]:  66%|██████▌   | 132/200 [00:03<00:02, 31.57it/s]\u001b[A\n",
      "[Similarities]:  68%|██████▊   | 136/200 [00:04<00:01, 32.75it/s]\u001b[A\n",
      "[Similarities]:  70%|███████   | 140/200 [00:04<00:01, 33.69it/s]\u001b[A\n",
      "[Similarities]:  72%|███████▏  | 144/200 [00:04<00:01, 32.61it/s]\u001b[A\n",
      "[Similarities]:  74%|███████▍  | 148/200 [00:04<00:01, 33.56it/s]\u001b[A\n",
      "[Similarities]:  76%|███████▌  | 152/200 [00:04<00:01, 32.35it/s]\u001b[A\n",
      "[Similarities]:  78%|███████▊  | 156/200 [00:04<00:01, 33.14it/s]\u001b[A\n",
      "[Similarities]:  80%|████████  | 160/200 [00:04<00:01, 30.97it/s]\u001b[A\n",
      "[Similarities]:  82%|████████▏ | 164/200 [00:04<00:01, 32.43it/s]\u001b[A\n",
      "[Similarities]:  84%|████████▍ | 168/200 [00:05<00:00, 33.21it/s]\u001b[A\n",
      "[Similarities]:  86%|████████▌ | 172/200 [00:05<00:00, 32.22it/s]\u001b[A\n",
      "[Similarities]:  88%|████████▊ | 176/200 [00:05<00:00, 33.29it/s]\u001b[A\n",
      "[Similarities]:  90%|█████████ | 180/200 [00:05<00:00, 30.71it/s]\u001b[A\n",
      "[Similarities]:  92%|█████████▏| 184/200 [00:05<00:00, 32.11it/s]\u001b[A\n",
      "[Similarities]:  94%|█████████▍| 188/200 [00:05<00:00, 31.65it/s]\u001b[A\n",
      "[Similarities]:  96%|█████████▌| 192/200 [00:05<00:00, 32.85it/s]\u001b[A\n",
      "[Similarities]:  98%|█████████▊| 196/200 [00:05<00:00, 32.17it/s]\u001b[A\n",
      "[Similarities]: 100%|██████████| 200/200 [00:06<00:00, 32.88it/s]\u001b[A\n"
     ]
    },
    {
     "name": "stdout",
     "output_type": "stream",
     "text": [
      "similarity torch.Size([200, 200])\n",
      "Similarity Acc 0.7798492462311557\n"
     ]
    },
    {
     "name": "stderr",
     "output_type": "stream",
     "text": [
      "\n",
      "[Similarities]:   0%|          | 0/200 [00:00<?, ?it/s]\u001b[A\n",
      "[Similarities]:   2%|▏         | 4/200 [00:00<00:05, 35.61it/s]\u001b[A\n",
      "[Similarities]:   4%|▍         | 8/200 [00:00<00:05, 32.10it/s]\u001b[A\n",
      "[Similarities]:   6%|▌         | 12/200 [00:00<00:05, 33.91it/s]\u001b[A\n",
      "[Similarities]:   8%|▊         | 16/200 [00:00<00:05, 32.08it/s]\u001b[A\n",
      "[Similarities]:  10%|█         | 20/200 [00:00<00:05, 32.89it/s]\u001b[A\n",
      "[Similarities]:  12%|█▏        | 24/200 [00:00<00:05, 33.60it/s]\u001b[A\n",
      "[Similarities]:  14%|█▍        | 28/200 [00:00<00:05, 32.52it/s]\u001b[A\n",
      "[Similarities]:  16%|█▌        | 32/200 [00:00<00:04, 33.61it/s]\u001b[A\n",
      "[Similarities]:  18%|█▊        | 36/200 [00:01<00:05, 32.47it/s]\u001b[A\n",
      "[Similarities]:  20%|██        | 40/200 [00:01<00:04, 33.30it/s]\u001b[A\n",
      "[Similarities]:  22%|██▏       | 44/200 [00:01<00:04, 33.20it/s]\u001b[A\n",
      "[Similarities]:  24%|██▍       | 48/200 [00:01<00:04, 33.47it/s]\u001b[A\n",
      "[Similarities]:  26%|██▌       | 52/200 [00:01<00:04, 34.19it/s]\u001b[A\n",
      "[Similarities]:  28%|██▊       | 56/200 [00:01<00:04, 32.90it/s]\u001b[A\n",
      "[Similarities]:  30%|███       | 60/200 [00:01<00:04, 33.76it/s]\u001b[A\n",
      "[Similarities]:  32%|███▏      | 64/200 [00:01<00:04, 30.74it/s]\u001b[A\n",
      "[Similarities]:  34%|███▍      | 68/200 [00:02<00:04, 30.56it/s]\u001b[A\n",
      "[Similarities]:  36%|███▌      | 72/200 [00:02<00:04, 31.98it/s]\u001b[A\n",
      "[Similarities]:  38%|███▊      | 76/200 [00:02<00:03, 32.50it/s]\u001b[A\n",
      "[Similarities]:  40%|████      | 80/200 [00:02<00:03, 33.32it/s]\u001b[A\n",
      "[Similarities]:  42%|████▏     | 84/200 [00:02<00:03, 31.91it/s]\u001b[A\n",
      "[Similarities]:  44%|████▍     | 88/200 [00:02<00:03, 30.44it/s]\u001b[A\n",
      "[Similarities]:  46%|████▌     | 92/200 [00:02<00:03, 29.87it/s]\u001b[A\n",
      "[Similarities]:  48%|████▊     | 96/200 [00:02<00:03, 31.01it/s]\u001b[A\n",
      "[Similarities]:  50%|█████     | 100/200 [00:03<00:03, 30.30it/s]\u001b[A\n",
      "[Similarities]:  52%|█████▏    | 104/200 [00:03<00:03, 30.77it/s]\u001b[A\n",
      "[Similarities]:  54%|█████▍    | 108/200 [00:03<00:03, 29.10it/s]\u001b[A\n",
      "[Similarities]:  56%|█████▌    | 112/200 [00:03<00:02, 30.65it/s]\u001b[A\n",
      "[Similarities]:  58%|█████▊    | 116/200 [00:03<00:02, 29.06it/s]\u001b[A\n",
      "[Similarities]:  60%|██████    | 120/200 [00:03<00:02, 30.34it/s]\u001b[A\n",
      "[Similarities]:  62%|██████▏   | 124/200 [00:03<00:02, 31.86it/s]\u001b[A\n",
      "[Similarities]:  64%|██████▍   | 128/200 [00:04<00:02, 29.47it/s]\u001b[A\n",
      "[Similarities]:  66%|██████▌   | 132/200 [00:04<00:02, 31.10it/s]\u001b[A\n",
      "[Similarities]:  68%|██████▊   | 136/200 [00:04<00:02, 30.82it/s]\u001b[A\n",
      "[Similarities]:  70%|███████   | 140/200 [00:04<00:01, 31.77it/s]\u001b[A\n",
      "[Similarities]:  72%|███████▏  | 144/200 [00:04<00:01, 31.20it/s]\u001b[A\n",
      "[Similarities]:  74%|███████▍  | 148/200 [00:04<00:01, 32.40it/s]\u001b[A\n",
      "[Similarities]:  76%|███████▌  | 152/200 [00:04<00:01, 31.27it/s]\u001b[A\n",
      "[Similarities]:  78%|███████▊  | 156/200 [00:04<00:01, 32.18it/s]\u001b[A\n",
      "[Similarities]:  80%|████████  | 160/200 [00:05<00:01, 31.36it/s]\u001b[A\n",
      "[Similarities]:  82%|████████▏ | 164/200 [00:05<00:01, 30.90it/s]\u001b[A\n",
      "[Similarities]:  84%|████████▍ | 168/200 [00:05<00:00, 32.08it/s]\u001b[A\n",
      "[Similarities]:  86%|████████▌ | 172/200 [00:05<00:00, 30.80it/s]\u001b[A\n",
      "[Similarities]:  88%|████████▊ | 176/200 [00:05<00:00, 32.14it/s]\u001b[A\n",
      "[Similarities]:  90%|█████████ | 180/200 [00:05<00:00, 31.41it/s]\u001b[A\n",
      "[Similarities]:  92%|█████████▏| 184/200 [00:05<00:00, 32.43it/s]\u001b[A\n",
      "[Similarities]:  94%|█████████▍| 188/200 [00:05<00:00, 33.38it/s]\u001b[A\n",
      "[Similarities]:  96%|█████████▌| 192/200 [00:06<00:00, 32.30it/s]\u001b[A\n",
      "[Similarities]:  98%|█████████▊| 196/200 [00:06<00:00, 32.92it/s]\u001b[A\n",
      "[Similarities]: 100%|██████████| 200/200 [00:06<00:00, 31.71it/s]\u001b[A\n"
     ]
    },
    {
     "name": "stdout",
     "output_type": "stream",
     "text": [
      "similarity torch.Size([200, 200])\n",
      "Similarity Acc 0.8026130653266332\n"
     ]
    },
    {
     "name": "stderr",
     "output_type": "stream",
     "text": [
      "\n",
      "[Similarities]:   0%|          | 0/200 [00:00<?, ?it/s]\u001b[A\n",
      "[Similarities]:   2%|▏         | 4/200 [00:00<00:05, 35.21it/s]\u001b[A\n",
      "[Similarities]:   4%|▍         | 8/200 [00:00<00:06, 28.68it/s]\u001b[A\n",
      "[Similarities]:   6%|▌         | 12/200 [00:00<00:06, 29.02it/s]\u001b[A\n",
      "[Similarities]:   8%|▊         | 15/200 [00:00<00:06, 28.58it/s]\u001b[A\n",
      "[Similarities]:  10%|▉         | 19/200 [00:00<00:05, 30.48it/s]\u001b[A\n",
      "[Similarities]:  12%|█▏        | 23/200 [00:00<00:05, 31.64it/s]\u001b[A\n",
      "[Similarities]:  14%|█▎        | 27/200 [00:00<00:05, 30.79it/s]\u001b[A\n",
      "[Similarities]:  16%|█▌        | 31/200 [00:01<00:05, 31.74it/s]\u001b[A\n",
      "[Similarities]:  18%|█▊        | 35/200 [00:01<00:05, 30.81it/s]\u001b[A\n",
      "[Similarities]:  20%|█▉        | 39/200 [00:01<00:05, 29.96it/s]\u001b[A\n",
      "[Similarities]:  22%|██▏       | 43/200 [00:01<00:05, 29.84it/s]\u001b[A\n",
      "[Similarities]:  24%|██▎       | 47/200 [00:01<00:04, 31.12it/s]\u001b[A\n",
      "[Similarities]:  26%|██▌       | 51/200 [00:01<00:04, 32.19it/s]\u001b[A\n",
      "[Similarities]:  28%|██▊       | 55/200 [00:01<00:04, 31.37it/s]\u001b[A\n",
      "[Similarities]:  30%|██▉       | 59/200 [00:01<00:04, 32.28it/s]\u001b[A\n",
      "[Similarities]:  32%|███▏      | 63/200 [00:02<00:04, 31.46it/s]\u001b[A\n",
      "[Similarities]:  34%|███▎      | 67/200 [00:02<00:04, 31.72it/s]\u001b[A\n",
      "[Similarities]:  36%|███▌      | 71/200 [00:02<00:04, 31.29it/s]\u001b[A\n",
      "[Similarities]:  38%|███▊      | 75/200 [00:02<00:03, 32.41it/s]\u001b[A\n",
      "[Similarities]:  40%|███▉      | 79/200 [00:02<00:03, 33.27it/s]\u001b[A\n",
      "[Similarities]:  42%|████▏     | 83/200 [00:02<00:03, 32.01it/s]\u001b[A\n",
      "[Similarities]:  44%|████▎     | 87/200 [00:02<00:03, 32.75it/s]\u001b[A\n",
      "[Similarities]:  46%|████▌     | 91/200 [00:02<00:03, 31.87it/s]\u001b[A\n",
      "[Similarities]:  48%|████▊     | 95/200 [00:03<00:03, 32.22it/s]\u001b[A\n",
      "[Similarities]:  50%|████▉     | 99/200 [00:03<00:03, 31.31it/s]\u001b[A\n",
      "[Similarities]:  52%|█████▏    | 103/200 [00:03<00:03, 31.82it/s]\u001b[A\n",
      "[Similarities]:  54%|█████▎    | 107/200 [00:03<00:02, 32.81it/s]\u001b[A\n",
      "[Similarities]:  56%|█████▌    | 111/200 [00:03<00:02, 31.43it/s]\u001b[A\n",
      "[Similarities]:  57%|█████▊    | 115/200 [00:03<00:02, 32.04it/s]\u001b[A\n",
      "[Similarities]:  60%|█████▉    | 119/200 [00:03<00:02, 30.35it/s]\u001b[A\n",
      "[Similarities]:  62%|██████▏   | 123/200 [00:03<00:02, 30.95it/s]\u001b[A\n",
      "[Similarities]:  64%|██████▎   | 127/200 [00:04<00:02, 29.30it/s]\u001b[A\n",
      "[Similarities]:  66%|██████▌   | 131/200 [00:04<00:02, 30.66it/s]\u001b[A\n",
      "[Similarities]:  68%|██████▊   | 135/200 [00:04<00:02, 30.57it/s]\u001b[A\n",
      "[Similarities]:  70%|██████▉   | 139/200 [00:04<00:01, 30.96it/s]\u001b[A\n",
      "[Similarities]:  72%|███████▏  | 143/200 [00:04<00:01, 30.50it/s]\u001b[A\n",
      "[Similarities]:  74%|███████▎  | 147/200 [00:04<00:01, 31.13it/s]\u001b[A\n",
      "[Similarities]:  76%|███████▌  | 151/200 [00:04<00:01, 31.96it/s]\u001b[A\n",
      "[Similarities]:  78%|███████▊  | 155/200 [00:04<00:01, 31.33it/s]\u001b[A\n",
      "[Similarities]:  80%|███████▉  | 159/200 [00:05<00:01, 31.97it/s]\u001b[A\n",
      "[Similarities]:  82%|████████▏ | 163/200 [00:05<00:01, 31.44it/s]\u001b[A\n",
      "[Similarities]:  84%|████████▎ | 167/200 [00:05<00:01, 32.39it/s]\u001b[A\n",
      "[Similarities]:  86%|████████▌ | 171/200 [00:05<00:00, 31.49it/s]\u001b[A\n",
      "[Similarities]:  88%|████████▊ | 175/200 [00:05<00:00, 32.75it/s]\u001b[A\n",
      "[Similarities]:  90%|████████▉ | 179/200 [00:05<00:00, 33.35it/s]\u001b[A\n",
      "[Similarities]:  92%|█████████▏| 183/200 [00:05<00:00, 32.47it/s]\u001b[A\n",
      "[Similarities]:  94%|█████████▎| 187/200 [00:05<00:00, 32.98it/s]\u001b[A\n",
      "[Similarities]:  96%|█████████▌| 191/200 [00:06<00:00, 31.60it/s]\u001b[A\n",
      "[Similarities]:  98%|█████████▊| 195/200 [00:06<00:00, 31.25it/s]\u001b[A\n",
      "[Similarities]: 100%|██████████| 200/200 [00:06<00:00, 31.22it/s]\u001b[A\n"
     ]
    },
    {
     "name": "stdout",
     "output_type": "stream",
     "text": [
      "similarity torch.Size([200, 200])\n",
      "Similarity Acc 0.8099748743718593\n"
     ]
    },
    {
     "name": "stderr",
     "output_type": "stream",
     "text": [
      "\n",
      "[Similarities]:   0%|          | 0/200 [00:00<?, ?it/s]\u001b[A\n",
      "[Similarities]:   2%|▏         | 4/200 [00:00<00:06, 29.68it/s]\u001b[A\n",
      "[Similarities]:   4%|▍         | 8/200 [00:00<00:05, 32.29it/s]\u001b[A\n",
      "[Similarities]:   6%|▌         | 12/200 [00:00<00:05, 33.35it/s]\u001b[A\n",
      "[Similarities]:   8%|▊         | 16/200 [00:00<00:05, 31.66it/s]\u001b[A\n",
      "[Similarities]:  10%|█         | 20/200 [00:00<00:05, 31.03it/s]\u001b[A\n",
      "[Similarities]:  12%|█▏        | 24/200 [00:00<00:05, 30.51it/s]\u001b[A\n",
      "[Similarities]:  14%|█▍        | 28/200 [00:00<00:05, 31.57it/s]\u001b[A\n",
      "[Similarities]:  16%|█▌        | 32/200 [00:01<00:05, 30.98it/s]\u001b[A\n",
      "[Similarities]:  18%|█▊        | 36/200 [00:01<00:05, 32.16it/s]\u001b[A\n",
      "[Similarities]:  20%|██        | 40/200 [00:01<00:04, 32.85it/s]\u001b[A\n",
      "[Similarities]:  22%|██▏       | 44/200 [00:01<00:04, 32.23it/s]\u001b[A\n",
      "[Similarities]:  24%|██▍       | 48/200 [00:01<00:04, 33.18it/s]\u001b[A\n",
      "[Similarities]:  26%|██▌       | 52/200 [00:01<00:04, 32.00it/s]\u001b[A\n",
      "[Similarities]:  28%|██▊       | 56/200 [00:01<00:04, 32.69it/s]\u001b[A\n",
      "[Similarities]:  30%|███       | 60/200 [00:01<00:04, 31.66it/s]\u001b[A\n",
      "[Similarities]:  32%|███▏      | 64/200 [00:01<00:04, 32.41it/s]\u001b[A\n",
      "[Similarities]:  34%|███▍      | 68/200 [00:02<00:04, 32.99it/s]\u001b[A\n",
      "[Similarities]:  36%|███▌      | 72/200 [00:02<00:04, 31.16it/s]\u001b[A\n",
      "[Similarities]:  38%|███▊      | 76/200 [00:02<00:03, 32.16it/s]\u001b[A\n",
      "[Similarities]:  40%|████      | 80/200 [00:02<00:03, 31.86it/s]\u001b[A\n",
      "[Similarities]:  42%|████▏     | 84/200 [00:02<00:03, 33.03it/s]\u001b[A\n",
      "[Similarities]:  44%|████▍     | 88/200 [00:02<00:03, 32.11it/s]\u001b[A\n",
      "[Similarities]:  46%|████▌     | 92/200 [00:02<00:03, 33.04it/s]\u001b[A\n",
      "[Similarities]:  48%|████▊     | 96/200 [00:02<00:03, 32.09it/s]\u001b[A\n",
      "[Similarities]:  50%|█████     | 100/200 [00:03<00:03, 31.27it/s]\u001b[A\n",
      "[Similarities]:  52%|█████▏    | 104/200 [00:03<00:02, 32.18it/s]\u001b[A\n",
      "[Similarities]:  54%|█████▍    | 108/200 [00:03<00:03, 30.01it/s]\u001b[A\n",
      "[Similarities]:  56%|█████▌    | 112/200 [00:03<00:02, 31.19it/s]\u001b[A\n",
      "[Similarities]:  58%|█████▊    | 116/200 [00:03<00:02, 30.65it/s]\u001b[A\n",
      "[Similarities]:  60%|██████    | 120/200 [00:03<00:02, 31.78it/s]\u001b[A\n",
      "[Similarities]:  62%|██████▏   | 124/200 [00:03<00:02, 31.40it/s]\u001b[A\n",
      "[Similarities]:  64%|██████▍   | 128/200 [00:04<00:02, 30.99it/s]\u001b[A\n",
      "[Similarities]:  66%|██████▌   | 132/200 [00:04<00:02, 32.15it/s]\u001b[A\n",
      "[Similarities]:  68%|██████▊   | 136/200 [00:04<00:02, 31.11it/s]\u001b[A\n",
      "[Similarities]:  70%|███████   | 140/200 [00:04<00:01, 32.42it/s]\u001b[A\n",
      "[Similarities]:  72%|███████▏  | 144/200 [00:04<00:01, 29.91it/s]\u001b[A\n",
      "[Similarities]:  74%|███████▍  | 148/200 [00:04<00:01, 31.40it/s]\u001b[A\n",
      "[Similarities]:  76%|███████▌  | 152/200 [00:04<00:01, 30.24it/s]\u001b[A\n",
      "[Similarities]:  78%|███████▊  | 156/200 [00:04<00:01, 31.40it/s]\u001b[A\n",
      "[Similarities]:  80%|████████  | 160/200 [00:05<00:01, 30.68it/s]\u001b[A\n",
      "[Similarities]:  82%|████████▏ | 164/200 [00:05<00:01, 31.89it/s]\u001b[A\n",
      "[Similarities]:  84%|████████▍ | 168/200 [00:05<00:00, 32.76it/s]\u001b[A\n",
      "[Similarities]:  86%|████████▌ | 172/200 [00:05<00:00, 32.06it/s]\u001b[A\n",
      "[Similarities]:  88%|████████▊ | 176/200 [00:05<00:00, 32.92it/s]\u001b[A\n",
      "[Similarities]:  90%|█████████ | 180/200 [00:05<00:00, 32.15it/s]\u001b[A\n",
      "[Similarities]:  92%|█████████▏| 184/200 [00:05<00:00, 33.10it/s]\u001b[A\n",
      "[Similarities]:  94%|█████████▍| 188/200 [00:05<00:00, 33.78it/s]\u001b[A\n",
      "[Similarities]:  96%|█████████▌| 192/200 [00:06<00:00, 32.61it/s]\u001b[A\n",
      "[Similarities]:  98%|█████████▊| 196/200 [00:06<00:00, 33.21it/s]\u001b[A\n",
      "[Similarities]: 100%|██████████| 200/200 [00:06<00:00, 31.80it/s]\u001b[A\n"
     ]
    },
    {
     "name": "stdout",
     "output_type": "stream",
     "text": [
      "similarity torch.Size([200, 200])\n",
      "Similarity Acc 0.7978391959798995\n"
     ]
    },
    {
     "name": "stderr",
     "output_type": "stream",
     "text": [
      "\n",
      "[Similarities]:   0%|          | 0/200 [00:00<?, ?it/s]\u001b[A\n",
      "[Similarities]:   2%|▏         | 4/200 [00:00<00:06, 30.53it/s]\u001b[A\n",
      "[Similarities]:   4%|▍         | 8/200 [00:00<00:05, 32.33it/s]\u001b[A\n",
      "[Similarities]:   6%|▌         | 12/200 [00:00<00:05, 33.46it/s]\u001b[A\n",
      "[Similarities]:   8%|▊         | 16/200 [00:00<00:05, 31.48it/s]\u001b[A\n",
      "[Similarities]:  10%|█         | 20/200 [00:00<00:05, 32.25it/s]\u001b[A\n",
      "[Similarities]:  12%|█▏        | 24/200 [00:00<00:05, 29.86it/s]\u001b[A\n",
      "[Similarities]:  14%|█▍        | 28/200 [00:00<00:05, 30.72it/s]\u001b[A\n",
      "[Similarities]:  16%|█▌        | 32/200 [00:01<00:05, 31.87it/s]\u001b[A\n",
      "[Similarities]:  18%|█▊        | 36/200 [00:01<00:05, 29.65it/s]\u001b[A\n",
      "[Similarities]:  20%|██        | 40/200 [00:01<00:05, 28.24it/s]\u001b[A\n",
      "[Similarities]:  22%|██▏       | 43/200 [00:01<00:05, 28.25it/s]\u001b[A\n",
      "[Similarities]:  23%|██▎       | 46/200 [00:01<00:05, 28.23it/s]\u001b[A\n",
      "[Similarities]:  24%|██▍       | 49/200 [00:01<00:05, 28.58it/s]\u001b[A\n",
      "[Similarities]:  26%|██▋       | 53/200 [00:01<00:04, 30.23it/s]\u001b[A\n",
      "[Similarities]:  28%|██▊       | 57/200 [00:01<00:04, 30.28it/s]\u001b[A\n",
      "[Similarities]:  30%|███       | 61/200 [00:02<00:04, 30.04it/s]\u001b[A\n",
      "[Similarities]:  32%|███▎      | 65/200 [00:02<00:04, 30.36it/s]\u001b[A\n",
      "[Similarities]:  34%|███▍      | 69/200 [00:02<00:04, 31.36it/s]\u001b[A\n",
      "[Similarities]:  36%|███▋      | 73/200 [00:02<00:03, 32.21it/s]\u001b[A\n",
      "[Similarities]:  38%|███▊      | 77/200 [00:02<00:03, 31.37it/s]\u001b[A\n",
      "[Similarities]:  40%|████      | 81/200 [00:02<00:03, 32.41it/s]\u001b[A\n",
      "[Similarities]:  42%|████▎     | 85/200 [00:02<00:03, 31.77it/s]\u001b[A\n",
      "[Similarities]:  44%|████▍     | 89/200 [00:02<00:03, 32.93it/s]\u001b[A\n",
      "[Similarities]:  46%|████▋     | 93/200 [00:03<00:03, 32.13it/s]\u001b[A\n",
      "[Similarities]:  48%|████▊     | 97/200 [00:03<00:03, 33.05it/s]\u001b[A\n",
      "[Similarities]:  50%|█████     | 101/200 [00:03<00:02, 33.86it/s]\u001b[A\n",
      "[Similarities]:  52%|█████▎    | 105/200 [00:03<00:03, 30.95it/s]\u001b[A\n",
      "[Similarities]:  55%|█████▍    | 109/200 [00:03<00:02, 32.10it/s]\u001b[A\n",
      "[Similarities]:  56%|█████▋    | 113/200 [00:03<00:02, 31.39it/s]\u001b[A\n",
      "[Similarities]:  58%|█████▊    | 117/200 [00:03<00:02, 32.31it/s]\u001b[A\n",
      "[Similarities]:  60%|██████    | 121/200 [00:03<00:02, 31.43it/s]\u001b[A\n",
      "[Similarities]:  62%|██████▎   | 125/200 [00:04<00:02, 32.58it/s]\u001b[A\n",
      "[Similarities]:  64%|██████▍   | 129/200 [00:04<00:02, 33.32it/s]\u001b[A\n",
      "[Similarities]:  66%|██████▋   | 133/200 [00:04<00:02, 32.01it/s]\u001b[A\n",
      "[Similarities]:  68%|██████▊   | 137/200 [00:04<00:01, 32.76it/s]\u001b[A\n",
      "[Similarities]:  70%|███████   | 141/200 [00:04<00:01, 32.07it/s]\u001b[A\n",
      "[Similarities]:  72%|███████▎  | 145/200 [00:04<00:01, 31.47it/s]\u001b[A\n",
      "[Similarities]:  74%|███████▍  | 149/200 [00:04<00:01, 30.04it/s]\u001b[A\n",
      "[Similarities]:  76%|███████▋  | 153/200 [00:04<00:01, 31.36it/s]\u001b[A\n",
      "[Similarities]:  78%|███████▊  | 157/200 [00:05<00:01, 31.11it/s]\u001b[A\n",
      "[Similarities]:  80%|████████  | 161/200 [00:05<00:01, 31.78it/s]\u001b[A\n",
      "[Similarities]:  82%|████████▎ | 165/200 [00:05<00:01, 32.64it/s]\u001b[A\n",
      "[Similarities]:  84%|████████▍ | 169/200 [00:05<00:00, 31.97it/s]\u001b[A\n",
      "[Similarities]:  86%|████████▋ | 173/200 [00:05<00:00, 32.90it/s]\u001b[A\n",
      "[Similarities]:  88%|████████▊ | 177/200 [00:05<00:00, 32.00it/s]\u001b[A\n",
      "[Similarities]:  90%|█████████ | 181/200 [00:05<00:00, 32.85it/s]\u001b[A\n",
      "[Similarities]:  92%|█████████▎| 185/200 [00:05<00:00, 33.10it/s]\u001b[A\n",
      "[Similarities]:  94%|█████████▍| 189/200 [00:05<00:00, 32.38it/s]\u001b[A\n",
      "[Similarities]:  96%|█████████▋| 193/200 [00:06<00:00, 33.27it/s]\u001b[A\n",
      "[Similarities]: 100%|██████████| 200/200 [00:06<00:00, 31.54it/s]\u001b[A\n"
     ]
    },
    {
     "name": "stdout",
     "output_type": "stream",
     "text": [
      "similarity torch.Size([200, 200])\n",
      "Similarity Acc 0.8048994974874373\n"
     ]
    },
    {
     "name": "stderr",
     "output_type": "stream",
     "text": [
      "\n",
      "[Similarities]:   0%|          | 0/200 [00:00<?, ?it/s]\u001b[A\n",
      "[Similarities]:   2%|▏         | 3/200 [00:00<00:06, 28.25it/s]\u001b[A\n",
      "[Similarities]:   4%|▎         | 7/200 [00:00<00:05, 33.37it/s]\u001b[A\n",
      "[Similarities]:   6%|▌         | 11/200 [00:00<00:05, 34.51it/s]\u001b[A\n",
      "[Similarities]:   8%|▊         | 15/200 [00:00<00:05, 32.91it/s]\u001b[A\n",
      "[Similarities]:  10%|▉         | 19/200 [00:00<00:05, 34.18it/s]\u001b[A\n",
      "[Similarities]:  12%|█▏        | 23/200 [00:00<00:05, 32.92it/s]\u001b[A\n",
      "[Similarities]:  14%|█▎        | 27/200 [00:00<00:05, 32.34it/s]\u001b[A\n",
      "[Similarities]:  16%|█▌        | 31/200 [00:00<00:05, 32.71it/s]\u001b[A\n",
      "[Similarities]:  18%|█▊        | 35/200 [00:01<00:05, 32.41it/s]\u001b[A\n",
      "[Similarities]:  20%|█▉        | 39/200 [00:01<00:04, 33.78it/s]\u001b[A\n",
      "[Similarities]:  22%|██▏       | 43/200 [00:01<00:04, 32.60it/s]\u001b[A\n",
      "[Similarities]:  24%|██▎       | 47/200 [00:01<00:04, 33.37it/s]\u001b[A\n",
      "[Similarities]:  26%|██▌       | 51/200 [00:01<00:04, 32.45it/s]\u001b[A\n",
      "[Similarities]:  28%|██▊       | 55/200 [00:01<00:04, 33.35it/s]\u001b[A\n",
      "[Similarities]:  30%|██▉       | 59/200 [00:01<00:04, 33.93it/s]\u001b[A\n",
      "[Similarities]:  32%|███▏      | 63/200 [00:01<00:04, 32.83it/s]\u001b[A\n",
      "[Similarities]:  34%|███▎      | 67/200 [00:02<00:03, 33.67it/s]\u001b[A\n",
      "[Similarities]:  36%|███▌      | 71/200 [00:02<00:03, 32.79it/s]\u001b[A\n",
      "[Similarities]:  38%|███▊      | 75/200 [00:02<00:03, 33.89it/s]\u001b[A\n",
      "[Similarities]:  40%|███▉      | 79/200 [00:02<00:03, 34.19it/s]\u001b[A\n",
      "[Similarities]:  42%|████▏     | 83/200 [00:02<00:03, 32.96it/s]\u001b[A\n",
      "[Similarities]:  44%|████▎     | 87/200 [00:02<00:03, 33.35it/s]\u001b[A\n",
      "[Similarities]:  46%|████▌     | 91/200 [00:02<00:03, 31.64it/s]\u001b[A\n",
      "[Similarities]:  48%|████▊     | 95/200 [00:02<00:03, 31.21it/s]\u001b[A\n",
      "[Similarities]:  50%|████▉     | 99/200 [00:03<00:03, 30.81it/s]\u001b[A\n",
      "[Similarities]:  52%|█████▏    | 103/200 [00:03<00:03, 32.29it/s]\u001b[A\n",
      "[Similarities]:  54%|█████▎    | 107/200 [00:03<00:02, 31.63it/s]\u001b[A\n",
      "[Similarities]:  56%|█████▌    | 111/200 [00:03<00:02, 32.45it/s]\u001b[A\n",
      "[Similarities]:  57%|█████▊    | 115/200 [00:03<00:02, 33.50it/s]\u001b[A\n",
      "[Similarities]:  60%|█████▉    | 119/200 [00:03<00:02, 32.80it/s]\u001b[A\n",
      "[Similarities]:  62%|██████▏   | 123/200 [00:03<00:02, 33.81it/s]\u001b[A\n",
      "[Similarities]:  64%|██████▎   | 127/200 [00:03<00:02, 32.79it/s]\u001b[A\n",
      "[Similarities]:  66%|██████▌   | 131/200 [00:03<00:02, 33.50it/s]\u001b[A\n",
      "[Similarities]:  68%|██████▊   | 135/200 [00:04<00:01, 34.24it/s]\u001b[A\n",
      "[Similarities]:  70%|██████▉   | 139/200 [00:04<00:01, 33.11it/s]\u001b[A\n",
      "[Similarities]:  72%|███████▏  | 143/200 [00:04<00:01, 34.00it/s]\u001b[A\n",
      "[Similarities]:  74%|███████▎  | 147/200 [00:04<00:01, 32.93it/s]\u001b[A\n",
      "[Similarities]:  76%|███████▌  | 151/200 [00:04<00:01, 33.87it/s]\u001b[A\n",
      "[Similarities]:  78%|███████▊  | 155/200 [00:04<00:01, 34.50it/s]\u001b[A\n",
      "[Similarities]:  80%|███████▉  | 159/200 [00:04<00:01, 33.18it/s]\u001b[A\n",
      "[Similarities]:  82%|████████▏ | 163/200 [00:04<00:01, 34.20it/s]\u001b[A\n",
      "[Similarities]:  84%|████████▎ | 167/200 [00:05<00:01, 32.98it/s]\u001b[A\n",
      "[Similarities]:  86%|████████▌ | 171/200 [00:05<00:00, 33.48it/s]\u001b[A\n",
      "[Similarities]:  88%|████████▊ | 175/200 [00:05<00:00, 32.08it/s]\u001b[A\n",
      "[Similarities]:  90%|████████▉ | 179/200 [00:05<00:00, 33.06it/s]\u001b[A\n",
      "[Similarities]:  92%|█████████▏| 183/200 [00:05<00:00, 33.43it/s]\u001b[A\n",
      "[Similarities]:  94%|█████████▎| 187/200 [00:05<00:00, 31.94it/s]\u001b[A\n",
      "[Similarities]:  96%|█████████▌| 191/200 [00:05<00:00, 32.61it/s]\u001b[A\n",
      "[Similarities]:  98%|█████████▊| 195/200 [00:05<00:00, 31.62it/s]\u001b[A\n",
      "[Similarities]: 100%|██████████| 200/200 [00:06<00:00, 32.86it/s]\u001b[A\n"
     ]
    },
    {
     "name": "stdout",
     "output_type": "stream",
     "text": [
      "similarity torch.Size([200, 200])\n",
      "Similarity Acc 0.7616834170854273\n",
      "0.051249998776863016\n",
      "0.18250000000000002\n",
      "0.2970833333333333\n",
      "0.7964886934673366\n"
     ]
    }
   ],
   "source": [
    "testTop1accs = []\n",
    "testTop10accs = []\n",
    "testTop5accs = []\n",
    "object_id_accs = []\n",
    "for i in range(12):\n",
    "    start_id = i*200\n",
    "    end_id = start_id + 200\n",
    "    session_eeg_features = test_eeg_features[start_id:end_id]\n",
    "    session_image_features = test_image_features[start_id:end_id]\n",
    "    testTop1acc, testTop10acc, testTop5acc = classifier(session_eeg_features, session_image_features, test=True, top_k=5)\n",
    "    test_sim, test_sim_mat = evaluate(session_eeg_features, session_image_features)\n",
    "    testTop1accs.append(testTop1acc)\n",
    "    testTop10accs.append(testTop10acc)\n",
    "    testTop5accs.append(testTop5acc)\n",
    "    object_id_accs.append(test_sim)\n",
    "    \n",
    "print(np.mean(testTop1accs))\n",
    "print(np.mean(testTop5accs))\n",
    "print(np.mean(testTop10accs))\n",
    "print(np.mean(object_id_accs))"
   ]
  },
  {
   "cell_type": "code",
   "execution_count": 29,
   "id": "0d3b8e61",
   "metadata": {},
   "outputs": [
    {
     "name": "stdout",
     "output_type": "stream",
     "text": [
      "0.051249998776863016\n",
      "0.18250000000000002\n",
      "0.2970833333333333\n",
      "0.7964886934673366\n"
     ]
    }
   ],
   "source": [
    "print(np.mean(testTop1accs))\n",
    "print(np.mean(testTop5accs))\n",
    "print(np.mean(testTop10accs))\n",
    "print(np.mean(object_id_accs))"
   ]
  },
  {
   "cell_type": "code",
   "execution_count": 35,
   "id": "2ff2b533",
   "metadata": {},
   "outputs": [
    {
     "data": {
      "text/plain": [
       "[0.145, 0.21, 0.14, 0.2, 0.17, 0.175, 0.22, 0.205, 0.195, 0.185, 0.16, 0.185]"
      ]
     },
     "execution_count": 35,
     "metadata": {},
     "output_type": "execute_result"
    }
   ],
   "source": [
    "testTop5accs"
   ]
  },
  {
   "cell_type": "code",
   "execution_count": 42,
   "id": "e546e67c",
   "metadata": {},
   "outputs": [
    {
     "name": "stdout",
     "output_type": "stream",
     "text": [
      "2400 199 0\n"
     ]
    },
    {
     "name": "stderr",
     "output_type": "stream",
     "text": [
      "\n",
      "[Similarities]:   0%|          | 0/200 [00:00<?, ?it/s]\u001b[A\n",
      "[Similarities]:   2%|▏         | 4/200 [00:00<00:05, 37.31it/s]\u001b[A\n",
      "[Similarities]:   4%|▍         | 8/200 [00:00<00:05, 36.25it/s]\u001b[A\n",
      "[Similarities]:   6%|▌         | 12/200 [00:00<00:05, 33.08it/s]\u001b[A\n",
      "[Similarities]:   8%|▊         | 16/200 [00:00<00:05, 33.56it/s]\u001b[A\n",
      "[Similarities]:  10%|█         | 20/200 [00:00<00:05, 31.87it/s]\u001b[A\n",
      "[Similarities]:  12%|█▏        | 24/200 [00:00<00:05, 32.53it/s]\u001b[A\n",
      "[Similarities]:  14%|█▍        | 28/200 [00:00<00:05, 31.57it/s]\u001b[A\n",
      "[Similarities]:  16%|█▌        | 32/200 [00:00<00:05, 32.29it/s]\u001b[A\n",
      "[Similarities]:  18%|█▊        | 36/200 [00:01<00:05, 32.76it/s]\u001b[A\n",
      "[Similarities]:  20%|██        | 40/200 [00:01<00:05, 31.27it/s]\u001b[A\n",
      "[Similarities]:  22%|██▏       | 44/200 [00:01<00:04, 31.68it/s]\u001b[A\n",
      "[Similarities]:  24%|██▍       | 48/200 [00:01<00:04, 30.98it/s]\u001b[A\n",
      "[Similarities]:  26%|██▌       | 52/200 [00:01<00:04, 31.88it/s]\u001b[A\n",
      "[Similarities]:  28%|██▊       | 56/200 [00:01<00:04, 31.02it/s]\u001b[A\n",
      "[Similarities]:  30%|███       | 60/200 [00:01<00:04, 31.97it/s]\u001b[A\n",
      "[Similarities]:  32%|███▏      | 64/200 [00:01<00:04, 31.65it/s]\u001b[A\n",
      "[Similarities]:  34%|███▍      | 68/200 [00:02<00:04, 31.92it/s]\u001b[A\n",
      "[Similarities]:  36%|███▌      | 72/200 [00:02<00:04, 31.25it/s]\u001b[A\n",
      "[Similarities]:  38%|███▊      | 76/200 [00:02<00:04, 30.78it/s]\u001b[A\n",
      "[Similarities]:  40%|████      | 80/200 [00:02<00:03, 30.49it/s]\u001b[A\n",
      "[Similarities]:  42%|████▏     | 84/200 [00:02<00:03, 30.21it/s]\u001b[A\n",
      "[Similarities]:  44%|████▍     | 88/200 [00:02<00:03, 31.17it/s]\u001b[A\n",
      "[Similarities]:  46%|████▌     | 92/200 [00:02<00:03, 30.62it/s]\u001b[A\n",
      "[Similarities]:  48%|████▊     | 96/200 [00:03<00:03, 30.26it/s]\u001b[A\n",
      "[Similarities]:  50%|█████     | 100/200 [00:03<00:03, 29.68it/s]\u001b[A\n",
      "[Similarities]:  52%|█████▏    | 103/200 [00:03<00:03, 29.35it/s]\u001b[A\n",
      "[Similarities]:  53%|█████▎    | 106/200 [00:03<00:03, 25.99it/s]\u001b[A\n",
      "[Similarities]:  55%|█████▍    | 109/200 [00:03<00:03, 25.74it/s]\u001b[A\n",
      "[Similarities]:  56%|█████▌    | 112/200 [00:03<00:03, 26.34it/s]\u001b[A\n",
      "[Similarities]:  57%|█████▊    | 115/200 [00:03<00:03, 25.59it/s]\u001b[A\n",
      "[Similarities]:  60%|█████▉    | 119/200 [00:03<00:02, 28.18it/s]\u001b[A\n",
      "[Similarities]:  61%|██████    | 122/200 [00:04<00:02, 28.30it/s]\u001b[A\n",
      "[Similarities]:  63%|██████▎   | 126/200 [00:04<00:02, 29.79it/s]\u001b[A\n",
      "[Similarities]:  65%|██████▌   | 130/200 [00:04<00:02, 31.06it/s]\u001b[A\n",
      "[Similarities]:  67%|██████▋   | 134/200 [00:04<00:02, 30.59it/s]\u001b[A\n",
      "[Similarities]:  69%|██████▉   | 138/200 [00:04<00:02, 30.39it/s]\u001b[A\n",
      "[Similarities]:  71%|███████   | 142/200 [00:04<00:02, 28.94it/s]\u001b[A\n",
      "[Similarities]:  73%|███████▎  | 146/200 [00:04<00:01, 30.21it/s]\u001b[A\n",
      "[Similarities]:  75%|███████▌  | 150/200 [00:04<00:01, 30.25it/s]\u001b[A\n",
      "[Similarities]:  77%|███████▋  | 154/200 [00:05<00:01, 31.28it/s]\u001b[A\n",
      "[Similarities]:  79%|███████▉  | 158/200 [00:05<00:01, 30.97it/s]\u001b[A\n",
      "[Similarities]:  81%|████████  | 162/200 [00:05<00:01, 31.65it/s]\u001b[A\n",
      "[Similarities]:  83%|████████▎ | 166/200 [00:05<00:01, 32.23it/s]\u001b[A\n",
      "[Similarities]:  85%|████████▌ | 170/200 [00:05<00:00, 31.09it/s]\u001b[A\n",
      "[Similarities]:  87%|████████▋ | 174/200 [00:05<00:00, 32.03it/s]\u001b[A\n",
      "[Similarities]:  89%|████████▉ | 178/200 [00:05<00:00, 31.31it/s]\u001b[A\n",
      "[Similarities]:  91%|█████████ | 182/200 [00:05<00:00, 32.02it/s]\u001b[A\n",
      "[Similarities]:  93%|█████████▎| 186/200 [00:06<00:00, 31.45it/s]\u001b[A\n",
      "[Similarities]:  95%|█████████▌| 190/200 [00:06<00:00, 31.85it/s]\u001b[A\n",
      "[Similarities]:  97%|█████████▋| 194/200 [00:06<00:00, 32.18it/s]\u001b[A\n",
      "[Similarities]: 100%|██████████| 200/200 [00:06<00:00, 30.73it/s]\u001b[A\n"
     ]
    },
    {
     "name": "stdout",
     "output_type": "stream",
     "text": [
      "similarity torch.Size([200, 200])\n",
      "Similarity Acc 0.8034170854271357\n",
      "AVG: \n",
      "Top1:  0.05500, Top5: 0.14500, Top10: 0.27500 Acc: 0.80342\n"
     ]
    }
   ],
   "source": [
    "test_labels = get_test_labels(image_names)\n",
    "print(len(test_labels), max(test_labels), min(test_labels))\n",
    "N_samples = 200\n",
    "test_eeg_features_avg, test_image_features_avg, new_labels = aggregate_same_label(test_eeg_features[:N_samples], test_image_features[:N_samples], test_labels[:N_samples])\n",
    "\n",
    "testAvgTop1acc, testAvgTop10acc, testAvgTop5acc = classifier(test_eeg_features_avg, test_image_features_avg, test=True, top_k=5)\n",
    "testAvg_sim, testAvg_sim_mat = evaluate(test_eeg_features_avg, test_image_features_avg)\n",
    "print('AVG: ')\n",
    "print(f'Top1: {testAvgTop1acc: .5f}, Top5: {testAvgTop5acc:.5f}, Top10: {testAvgTop10acc:.5f} Acc: {testAvg_sim:.5f}')"
   ]
  },
  {
   "cell_type": "code",
   "execution_count": 41,
   "id": "a943c846",
   "metadata": {},
   "outputs": [
    {
     "name": "stderr",
     "output_type": "stream",
     "text": [
      "\n",
      "[Similarities]:   0%|          | 0/200 [00:00<?, ?it/s]\u001b[A\n",
      "[Similarities]:   2%|▏         | 4/200 [00:00<00:06, 28.38it/s]\u001b[A\n",
      "[Similarities]:   4%|▍         | 8/200 [00:00<00:06, 31.79it/s]\u001b[A\n",
      "[Similarities]:   6%|▌         | 12/200 [00:00<00:05, 33.24it/s]\u001b[A\n",
      "[Similarities]:   8%|▊         | 16/200 [00:00<00:05, 32.01it/s]\u001b[A\n",
      "[Similarities]:  10%|█         | 20/200 [00:00<00:05, 33.42it/s]\u001b[A\n",
      "[Similarities]:  12%|█▏        | 24/200 [00:00<00:05, 32.06it/s]\u001b[A\n",
      "[Similarities]:  14%|█▍        | 28/200 [00:00<00:05, 33.25it/s]\u001b[A\n",
      "[Similarities]:  16%|█▌        | 32/200 [00:00<00:05, 32.94it/s]\u001b[A\n",
      "[Similarities]:  18%|█▊        | 36/200 [00:01<00:05, 32.47it/s]\u001b[A\n",
      "[Similarities]:  20%|██        | 40/200 [00:01<00:04, 33.19it/s]\u001b[A\n",
      "[Similarities]:  22%|██▏       | 44/200 [00:01<00:04, 32.29it/s]\u001b[A\n",
      "[Similarities]:  24%|██▍       | 48/200 [00:01<00:04, 31.95it/s]\u001b[A\n",
      "[Similarities]:  26%|██▌       | 52/200 [00:01<00:04, 31.62it/s]\u001b[A\n",
      "[Similarities]:  28%|██▊       | 56/200 [00:01<00:04, 32.88it/s]\u001b[A\n",
      "[Similarities]:  30%|███       | 60/200 [00:01<00:04, 33.89it/s]\u001b[A\n",
      "[Similarities]:  32%|███▏      | 64/200 [00:01<00:04, 32.88it/s]\u001b[A\n",
      "[Similarities]:  34%|███▍      | 68/200 [00:02<00:03, 33.67it/s]\u001b[A\n",
      "[Similarities]:  36%|███▌      | 72/200 [00:02<00:04, 30.79it/s]\u001b[A\n",
      "[Similarities]:  38%|███▊      | 76/200 [00:02<00:03, 31.90it/s]\u001b[A\n",
      "[Similarities]:  40%|████      | 80/200 [00:02<00:03, 30.22it/s]\u001b[A\n",
      "[Similarities]:  42%|████▏     | 84/200 [00:02<00:03, 31.66it/s]\u001b[A\n",
      "[Similarities]:  44%|████▍     | 88/200 [00:02<00:03, 29.49it/s]\u001b[A\n",
      "[Similarities]:  46%|████▌     | 92/200 [00:02<00:03, 31.03it/s]\u001b[A\n",
      "[Similarities]:  48%|████▊     | 96/200 [00:02<00:03, 32.02it/s]\u001b[A\n",
      "[Similarities]:  50%|█████     | 100/200 [00:03<00:03, 31.29it/s]\u001b[A\n",
      "[Similarities]:  52%|█████▏    | 104/200 [00:03<00:02, 32.31it/s]\u001b[A\n",
      "[Similarities]:  54%|█████▍    | 108/200 [00:03<00:02, 31.46it/s]\u001b[A\n",
      "[Similarities]:  56%|█████▌    | 112/200 [00:03<00:02, 32.21it/s]\u001b[A\n",
      "[Similarities]:  58%|█████▊    | 116/200 [00:03<00:02, 30.11it/s]\u001b[A\n",
      "[Similarities]:  60%|██████    | 120/200 [00:03<00:02, 31.03it/s]\u001b[A\n",
      "[Similarities]:  62%|██████▏   | 124/200 [00:03<00:02, 29.86it/s]\u001b[A\n",
      "[Similarities]:  64%|██████▍   | 128/200 [00:04<00:02, 30.94it/s]\u001b[A\n",
      "[Similarities]:  66%|██████▌   | 132/200 [00:04<00:02, 31.70it/s]\u001b[A\n",
      "[Similarities]:  68%|██████▊   | 136/200 [00:04<00:02, 31.02it/s]\u001b[A\n",
      "[Similarities]:  70%|███████   | 140/200 [00:04<00:01, 30.75it/s]\u001b[A\n",
      "[Similarities]:  72%|███████▏  | 144/200 [00:04<00:01, 30.89it/s]\u001b[A\n",
      "[Similarities]:  74%|███████▍  | 148/200 [00:04<00:01, 32.33it/s]\u001b[A\n",
      "[Similarities]:  76%|███████▌  | 152/200 [00:04<00:01, 31.74it/s]\u001b[A\n",
      "[Similarities]:  78%|███████▊  | 156/200 [00:04<00:01, 33.00it/s]\u001b[A\n",
      "[Similarities]:  80%|████████  | 160/200 [00:05<00:01, 33.76it/s]\u001b[A\n",
      "[Similarities]:  82%|████████▏ | 164/200 [00:05<00:01, 32.26it/s]\u001b[A\n",
      "[Similarities]:  84%|████████▍ | 168/200 [00:05<00:00, 32.84it/s]\u001b[A\n",
      "[Similarities]:  86%|████████▌ | 172/200 [00:05<00:00, 31.48it/s]\u001b[A\n",
      "[Similarities]:  88%|████████▊ | 176/200 [00:05<00:00, 31.92it/s]\u001b[A\n",
      "[Similarities]:  90%|█████████ | 180/200 [00:05<00:00, 30.14it/s]\u001b[A\n",
      "[Similarities]:  92%|█████████▏| 184/200 [00:05<00:00, 31.19it/s]\u001b[A\n",
      "[Similarities]:  94%|█████████▍| 188/200 [00:05<00:00, 31.92it/s]\u001b[A\n",
      "[Similarities]:  96%|█████████▌| 192/200 [00:06<00:00, 31.07it/s]\u001b[A\n",
      "[Similarities]:  98%|█████████▊| 196/200 [00:06<00:00, 31.68it/s]\u001b[A\n",
      "[Similarities]: 100%|██████████| 200/200 [00:06<00:00, 31.56it/s]\u001b[A\n"
     ]
    },
    {
     "name": "stdout",
     "output_type": "stream",
     "text": [
      "similarity torch.Size([200, 200])\n",
      "Similarity Acc 0.9094221105527639\n",
      "AVG: \n",
      "Top1:  0.15500, Top5: 0.45000, Top10: 0.60500 Acc: 0.90942\n"
     ]
    }
   ],
   "source": [
    "test_eeg_features_avg2 = (test_eeg_features_avg - test_eeg_features_avg.mean(0))/ test_eeg_features_avg.std(0)\n",
    "test_image_features_avg2 = (test_image_features_avg - test_image_features_avg.mean(0)) / test_image_features_avg.std(0)\n",
    "\n",
    "testAvgTop1acc, testAvgTop10acc, testAvgTop5acc = classifier(test_eeg_features_avg2, test_image_features_avg2, test=True, top_k=5)\n",
    "testAvg_sim, testAvg_sim_mat = evaluate(test_eeg_features_avg2, test_image_features_avg2)\n",
    "print('AVG: ')\n",
    "print(f'Top1: {testAvgTop1acc: .5f}, Top5: {testAvgTop5acc:.5f}, Top10: {testAvgTop10acc:.5f} Acc: {testAvg_sim:.5f}')"
   ]
  },
  {
   "cell_type": "code",
   "execution_count": null,
   "id": "b7ca77a3",
   "metadata": {},
   "outputs": [],
   "source": []
  },
  {
   "cell_type": "code",
   "execution_count": null,
   "id": "57c36ec1",
   "metadata": {},
   "outputs": [],
   "source": []
  },
  {
   "cell_type": "code",
   "execution_count": 24,
   "id": "7e80746c",
   "metadata": {},
   "outputs": [
    {
     "name": "stderr",
     "output_type": "stream",
     "text": [
      "[Similarities]: 100%|██████████| 2400/2400 [14:34<00:00,  2.75it/s]"
     ]
    },
    {
     "name": "stdout",
     "output_type": "stream",
     "text": [
      "similarity torch.Size([2400, 2400])\n",
      "top1: test 0.00667(0.00042)\n",
      "top10: test 0.04125\n"
     ]
    },
    {
     "name": "stderr",
     "output_type": "stream",
     "text": [
      "\n"
     ]
    }
   ],
   "source": [
    "# valTop1acc, valTop10acc = classifier(val_eeg_features, val_image_features, test=True)\n",
    "testTop1acc, testTop10acc = classifier(test_eeg_features, test_image_features, test=True)\n",
    "# val_random = 1 / len(val_eeg_features)\n",
    "test_random = 1 / len(test_eeg_features)\n",
    "print(f'top1: test {testTop1acc :.5f}({test_random :.5f})')\n",
    "print(f'top10: test {testTop10acc :.5f}')"
   ]
  },
  {
   "cell_type": "code",
   "execution_count": null,
   "id": "d5fe6cdf",
   "metadata": {},
   "outputs": [],
   "source": []
  },
  {
   "cell_type": "code",
   "execution_count": 50,
   "id": "75301f60",
   "metadata": {},
   "outputs": [
    {
     "name": "stdout",
     "output_type": "stream",
     "text": [
      "Similarity Acc 0.5655956352515985\n",
      "Similarity Acc 0.557614269788183\n",
      "object identification: val 0.5655956352515985 test 0.557614269788183\n"
     ]
    }
   ],
   "source": [
    "# val_sim, val_sim_mat = evaluate(val_eeg_features, val_image_features)\n",
    "test_sim, test_sim_mat = evaluate(test_eeg_features, test_image_features)\n",
    "print(f'object identification: test {test_sim}')"
   ]
  },
  {
   "cell_type": "code",
   "execution_count": 51,
   "id": "9a880827",
   "metadata": {},
   "outputs": [
    {
     "name": "stderr",
     "output_type": "stream",
     "text": [
      "[Similarities]: 100%|██████████| 50/50 [00:00<00:00, 81.54it/s] \n"
     ]
    },
    {
     "name": "stdout",
     "output_type": "stream",
     "text": [
      "similarity torch.Size([50, 50])\n",
      "Similarity Acc 0.569795918367347\n",
      "AVG: \n",
      "Top1:  0.06000, Top10: 0.56000 Acc: 0.56980\n"
     ]
    }
   ],
   "source": [
    "testAvgTop1acc, testAvgTop10acc = classifier(test_eeg_features_avg, test_image_features_avg, test=True)\n",
    "testAvg_sim, testAvg_sim_mat = evaluate(test_eeg_features_avg, test_image_features_avg)\n",
    "print('AVG: ')\n",
    "print(f'Top1: {testAvgTop1acc: .5f}, Top10: {testAvgTop10acc:.5f} Acc: {testAvg_sim:.5f}')"
   ]
  },
  {
   "cell_type": "code",
   "execution_count": 52,
   "id": "1edd0622",
   "metadata": {},
   "outputs": [
    {
     "name": "stdout",
     "output_type": "stream",
     "text": [
      "tensor([1.0000, 1.0000, 1.0000, 1.0000, 1.0000, 1.0000, 1.0000, 1.0000, 1.0000,\n",
      "        1.0000, 1.0000, 1.0000, 1.0000, 1.0000, 1.0000, 1.0000, 1.0000, 1.0000,\n",
      "        1.0000, 1.0000, 1.0000, 1.0000, 1.0000, 1.0000, 1.0000, 1.0000, 1.0000,\n",
      "        1.0000, 1.0000, 1.0000, 1.0000, 1.0000, 1.0000, 1.0000, 1.0000, 1.0000,\n",
      "        1.0000, 1.0000, 1.0000, 1.0000, 1.0000, 1.0000, 1.0000, 1.0000, 1.0000,\n",
      "        1.0000, 1.0000, 1.0000, 1.0000, 1.0000, 1.0000, 1.0000, 1.0000, 1.0000,\n",
      "        1.0000, 1.0000, 1.0000, 1.0000, 1.0000, 1.0000, 1.0000, 1.0000, 1.0000,\n",
      "        1.0000, 1.0000, 1.0000, 1.0000, 1.0000, 1.0000, 1.0000, 1.0000, 1.0000,\n",
      "        1.0000, 1.0000, 1.0000, 1.0000, 1.0000, 1.0000, 1.0000, 1.0000, 1.0000,\n",
      "        1.0000, 1.0000, 1.0000, 1.0000, 1.0000, 1.0000, 1.0000, 1.0000, 1.0000,\n",
      "        1.0000, 1.0000, 1.0000, 1.0000, 1.0000, 1.0000, 1.0000, 1.0000, 1.0000,\n",
      "        1.0000, 1.0000, 1.0000, 1.0000, 1.0000, 1.0000, 1.0000, 1.0000, 1.0000,\n",
      "        1.0000, 1.0000, 1.0000, 1.0000, 1.0000, 1.0000, 1.0000, 1.0000, 1.0000,\n",
      "        1.0000, 1.0000, 1.0000, 1.0000, 1.0000, 1.0000, 1.0000, 1.0000, 1.0000,\n",
      "        1.0000, 1.0000, 1.0000, 1.0000, 1.0000, 1.0000, 1.0000, 1.0000, 1.0000,\n",
      "        1.0000, 1.0000, 1.0000, 1.0000, 1.0000, 1.0000, 1.0000, 1.0000, 1.0000,\n",
      "        1.0000, 1.0000, 1.0000, 1.0000, 1.0000, 1.0000, 1.0000, 1.0000, 1.0000,\n",
      "        1.0000, 1.0000, 1.0000, 1.0000, 1.0000, 1.0000, 1.0000, 1.0000, 1.0000,\n",
      "        1.0000, 1.0000, 1.0000, 1.0000, 1.0000, 1.0000, 1.0000, 1.0000, 1.0000,\n",
      "        1.0000, 1.0000, 1.0000, 1.0000, 1.0000, 1.0000, 1.0000, 1.0000, 1.0000,\n",
      "        1.0000, 1.0000, 1.0000, 1.0000, 1.0000, 1.0000, 1.0000, 1.0000, 1.0000,\n",
      "        1.0000, 1.0000, 1.0000, 1.0000, 1.0000, 1.0000, 1.0000, 1.0000, 1.0000,\n",
      "        1.0000, 1.0000, 1.0000, 1.0000, 1.0000, 1.0000, 1.0000, 1.0000, 1.0000,\n",
      "        1.0000, 1.0000, 1.0000, 1.0000, 1.0000, 1.0000, 1.0000, 1.0000, 1.0000,\n",
      "        1.0000, 1.0000, 1.0000, 1.0000, 1.0000, 1.0000, 1.0000, 1.0000, 1.0000,\n",
      "        1.0000, 1.0000, 1.0000, 1.0000, 1.0000, 1.0000, 1.0000, 1.0000, 1.0000,\n",
      "        1.0000, 1.0000, 1.0000, 1.0000, 1.0000, 1.0000, 1.0000, 1.0000, 1.0000,\n",
      "        1.0000, 1.0000, 1.0000, 1.0000, 1.0000, 1.0000, 1.0000, 1.0000, 1.0000,\n",
      "        1.0000, 1.0000, 1.0000, 1.0000, 1.0000, 1.0000, 1.0000, 1.0000, 1.0000,\n",
      "        1.0000, 1.0000, 1.0000, 1.0000, 1.0000, 1.0000, 1.0000, 1.0000, 1.0000,\n",
      "        1.0000, 1.0000, 1.0000, 1.0000, 1.0000, 1.0000, 1.0000, 1.0000, 1.0000,\n",
      "        1.0000, 1.0000, 1.0000, 1.0000, 1.0000, 1.0000, 1.0000, 1.0000, 1.0000,\n",
      "        1.0000, 1.0000, 1.0000, 1.0000, 1.0000, 1.0000, 1.0000, 1.0000, 1.0000,\n",
      "        1.0000, 1.0000, 1.0000, 1.0000, 1.0000, 1.0000, 1.0000, 1.0000, 1.0000,\n",
      "        1.0000, 1.0000, 1.0000, 1.0000, 1.0000, 1.0000, 1.0000, 1.0000, 1.0000,\n",
      "        1.0000, 1.0000, 1.0000, 1.0000, 1.0000, 1.0000, 1.0000, 1.0000, 1.0000,\n",
      "        1.0000, 1.0000, 1.0000, 1.0000, 1.0000, 1.0000, 1.0000, 1.0000, 1.0000,\n",
      "        1.0000, 1.0000, 1.0000, 1.0000, 1.0000, 1.0000, 1.0000, 1.0000, 1.0000,\n",
      "        1.0000, 1.0000, 1.0000, 1.0000, 1.0000, 1.0000, 1.0000, 1.0000, 1.0000,\n",
      "        1.0000, 1.0000, 1.0000, 1.0000, 1.0000, 1.0000, 1.0000, 1.0000, 1.0000,\n",
      "        1.0000, 1.0000, 1.0000, 1.0000, 1.0000, 1.0000, 1.0000, 1.0000, 1.0000,\n",
      "        1.0000, 1.0000, 1.0000, 1.0000, 1.0000, 1.0000, 1.0000, 1.0000, 1.0000,\n",
      "        1.0000, 1.0000, 1.0000, 1.0000, 1.0000, 1.0000, 1.0000, 1.0000, 1.0000,\n",
      "        1.0000, 1.0000, 1.0000, 1.0000, 1.0000, 1.0000, 1.0000, 1.0000, 1.0000,\n",
      "        1.0000, 1.0000, 1.0000, 1.0000, 1.0000, 1.0000, 1.0000, 1.0000, 1.0000,\n",
      "        1.0000, 1.0000, 1.0000, 1.0000, 1.0000, 1.0000, 1.0000, 1.0000, 1.0000,\n",
      "        1.0000, 1.0000, 1.0000, 1.0000, 1.0000, 1.0000, 1.0000, 1.0000, 1.0000,\n",
      "        1.0000, 1.0000, 1.0000, 1.0000, 1.0000, 1.0000, 1.0000, 1.0000, 1.0000,\n",
      "        1.0000, 1.0000, 1.0000, 1.0000, 1.0000, 1.0000, 1.0000, 1.0000, 1.0000,\n",
      "        1.0000, 1.0000, 1.0000, 1.0000, 1.0000, 1.0000, 1.0000, 1.0000, 1.0000,\n",
      "        1.0000, 1.0000, 1.0000, 1.0000, 1.0000, 1.0000, 1.0000, 1.0000, 1.0000,\n",
      "        1.0000, 1.0000, 1.0000, 1.0000, 1.0000, 1.0000, 1.0000, 1.0000, 1.0000,\n",
      "        1.0000, 1.0000, 1.0000, 1.0000, 1.0000, 1.0000, 1.0000, 1.0000, 1.0000,\n",
      "        1.0000, 1.0000, 1.0000, 1.0000, 1.0000, 1.0000, 1.0000, 1.0000, 1.0000,\n",
      "        1.0000, 1.0000, 1.0000, 1.0000, 1.0000, 1.0000, 1.0000, 1.0000, 1.0000,\n",
      "        1.0000, 1.0000, 1.0000, 1.0000, 1.0000, 1.0000, 1.0000, 1.0000, 1.0000,\n",
      "        1.0000, 1.0000, 1.0000, 1.0000, 1.0000, 1.0000, 1.0000, 1.0000],\n",
      "       device='cuda:0')\n",
      "tensor([1.0000, 1.0000, 1.0000, 1.0000, 1.0000, 1.0000, 1.0000, 1.0000, 1.0000,\n",
      "        1.0000, 1.0000, 1.0000, 1.0000, 1.0000, 1.0000, 1.0000, 1.0000, 1.0000,\n",
      "        1.0000, 1.0000, 1.0000, 1.0000, 1.0000, 1.0000, 1.0000, 1.0000, 1.0000,\n",
      "        1.0000, 1.0000, 1.0000, 1.0000, 1.0000, 1.0000, 1.0000, 1.0000, 1.0000,\n",
      "        1.0000, 1.0000, 1.0000, 1.0000, 1.0000, 1.0000, 1.0000, 1.0000, 1.0000,\n",
      "        1.0000, 1.0000, 1.0000, 1.0000, 1.0000, 1.0000, 1.0000, 1.0000, 1.0000,\n",
      "        1.0000, 1.0000, 1.0000, 1.0000, 1.0000, 1.0000, 1.0000, 1.0000, 1.0000,\n",
      "        1.0000, 1.0000, 1.0000, 1.0000, 1.0000, 1.0000, 1.0000, 1.0000, 1.0000,\n",
      "        1.0000, 1.0000, 1.0000, 1.0000, 1.0000, 1.0000, 1.0000, 1.0000, 1.0000,\n",
      "        1.0000, 1.0000, 1.0000, 1.0000, 1.0000, 1.0000, 1.0000, 1.0000, 1.0000,\n",
      "        1.0000, 1.0000, 1.0000, 1.0000, 1.0000, 1.0000, 1.0000, 1.0000, 1.0000,\n",
      "        1.0000, 1.0000, 1.0000, 1.0000, 1.0000, 1.0000, 1.0000, 1.0000, 1.0000,\n",
      "        1.0000, 1.0000, 1.0000, 1.0000, 1.0000, 1.0000, 1.0000, 1.0000, 1.0000,\n",
      "        1.0000, 1.0000, 1.0000, 1.0000, 1.0000, 1.0000, 1.0000, 1.0000, 1.0000,\n",
      "        1.0000, 1.0000, 1.0000, 1.0000, 1.0000, 1.0000, 1.0000, 1.0000, 1.0000,\n",
      "        1.0000, 1.0000, 1.0000, 1.0000, 1.0000, 1.0000, 1.0000, 1.0000, 1.0000,\n",
      "        1.0000, 1.0000, 1.0000, 1.0000, 1.0000, 1.0000, 1.0000, 1.0000, 1.0000,\n",
      "        1.0000, 1.0000, 1.0000, 1.0000, 1.0000, 1.0000, 1.0000, 1.0000, 1.0000,\n",
      "        1.0000, 1.0000, 1.0000, 1.0000, 1.0000, 1.0000, 1.0000, 1.0000, 1.0000,\n",
      "        1.0000, 1.0000, 1.0000, 1.0000, 1.0000, 1.0000, 1.0000, 1.0000, 1.0000,\n",
      "        1.0000, 1.0000, 1.0000, 1.0000, 1.0000, 1.0000, 1.0000, 1.0000, 1.0000,\n",
      "        1.0000, 1.0000, 1.0000, 1.0000, 1.0000, 1.0000, 1.0000, 1.0000, 1.0000,\n",
      "        1.0000, 1.0000, 1.0000, 1.0000, 1.0000, 1.0000, 1.0000, 1.0000, 1.0000,\n",
      "        1.0000, 1.0000, 1.0000, 1.0000, 1.0000, 1.0000, 1.0000, 1.0000, 1.0000,\n",
      "        1.0000, 1.0000, 1.0000, 1.0000, 1.0000, 1.0000, 1.0000, 1.0000, 1.0000,\n",
      "        1.0000, 1.0000, 1.0000, 1.0000, 1.0000, 1.0000, 1.0000, 1.0000, 1.0000,\n",
      "        1.0000, 1.0000, 1.0000, 1.0000, 1.0000, 1.0000, 1.0000, 1.0000, 1.0000,\n",
      "        1.0000, 1.0000, 1.0000, 1.0000, 1.0000, 1.0000, 1.0000, 1.0000, 1.0000,\n",
      "        1.0000, 1.0000, 1.0000, 1.0000, 1.0000, 1.0000, 1.0000, 1.0000, 1.0000,\n",
      "        1.0000, 1.0000, 1.0000, 1.0000, 1.0000, 1.0000, 1.0000, 1.0000, 1.0000,\n",
      "        1.0000, 1.0000, 1.0000, 1.0000, 1.0000, 1.0000, 1.0000, 1.0000, 1.0000,\n",
      "        1.0000, 1.0000, 1.0000, 1.0000, 1.0000, 1.0000, 1.0000, 1.0000, 1.0000,\n",
      "        1.0000, 1.0000, 1.0000, 1.0000, 1.0000, 1.0000, 1.0000, 1.0000, 1.0000,\n",
      "        1.0000, 1.0000, 1.0000, 1.0000, 1.0000, 1.0000, 1.0000, 1.0000, 1.0000,\n",
      "        1.0000, 1.0000, 1.0000, 1.0000, 1.0000, 1.0000, 1.0000, 1.0000, 1.0000,\n",
      "        1.0000, 1.0000, 1.0000, 1.0000, 1.0000, 1.0000, 1.0000, 1.0000, 1.0000,\n",
      "        1.0000, 1.0000, 1.0000, 1.0000, 1.0000, 1.0000, 1.0000, 1.0000, 1.0000,\n",
      "        1.0000, 1.0000, 1.0000, 1.0000, 1.0000, 1.0000, 1.0000, 1.0000, 1.0000,\n",
      "        1.0000, 1.0000, 1.0000, 1.0000, 1.0000, 1.0000, 1.0000, 1.0000, 1.0000,\n",
      "        1.0000, 1.0000, 1.0000, 1.0000, 1.0000, 1.0000, 1.0000, 1.0000, 1.0000,\n",
      "        1.0000, 1.0000, 1.0000, 1.0000, 1.0000, 1.0000, 1.0000, 1.0000, 1.0000,\n",
      "        1.0000, 1.0000, 1.0000, 1.0000, 1.0000, 1.0000, 1.0000, 1.0000, 1.0000,\n",
      "        1.0000, 1.0000, 1.0000, 1.0000, 1.0000, 1.0000, 1.0000, 1.0000, 1.0000,\n",
      "        1.0000, 1.0000, 1.0000, 1.0000, 1.0000, 1.0000, 1.0000, 1.0000, 1.0000,\n",
      "        1.0000, 1.0000, 1.0000, 1.0000, 1.0000, 1.0000, 1.0000, 1.0000, 1.0000,\n",
      "        1.0000, 1.0000, 1.0000, 1.0000, 1.0000, 1.0000, 1.0000, 1.0000, 1.0000,\n",
      "        1.0000, 1.0000, 1.0000, 1.0000, 1.0000, 1.0000, 1.0000, 1.0000, 1.0000,\n",
      "        1.0000, 1.0000, 1.0000, 1.0000, 1.0000, 1.0000, 1.0000, 1.0000, 1.0000,\n",
      "        1.0000, 1.0000, 1.0000, 1.0000, 1.0000, 1.0000, 1.0000, 1.0000, 1.0000,\n",
      "        1.0000, 1.0000, 1.0000, 1.0000, 1.0000, 1.0000, 1.0000, 1.0000, 1.0000,\n",
      "        1.0000, 1.0000, 1.0000, 1.0000, 1.0000, 1.0000, 1.0000, 1.0000, 1.0000,\n",
      "        1.0000, 1.0000, 1.0000, 1.0000, 1.0000, 1.0000, 1.0000, 1.0000, 1.0000,\n",
      "        1.0000, 1.0000, 1.0000, 1.0000, 1.0000, 1.0000, 1.0000, 1.0000, 1.0000,\n",
      "        1.0000, 1.0000, 1.0000, 1.0000, 1.0000, 1.0000, 1.0000, 1.0000, 1.0000,\n",
      "        1.0000, 1.0000, 1.0000, 1.0000, 1.0000, 1.0000, 1.0000, 1.0000, 1.0000,\n",
      "        1.0000, 1.0000, 1.0000, 1.0000, 1.0000, 1.0000, 1.0000, 1.0000, 1.0000,\n",
      "        1.0000, 1.0000, 1.0000, 1.0000, 1.0000, 1.0000, 1.0000, 1.0000],\n",
      "       device='cuda:0')\n"
     ]
    },
    {
     "data": {
      "image/png": "[encoded data removed]",
      "text/plain": [
       "<Figure size 432x288 with 1 Axes>"
      ]
     },
     "metadata": {
      "needs_background": "light"
     },
     "output_type": "display_data"
    }
   ],
   "source": [
    "import matplotlib.pyplot as plt\n",
    "test_eeg_features_avg2 = (test_eeg_features_avg - test_eeg_features_avg.mean(0))/ test_eeg_features_avg.std(0)\n",
    "test_image_features_avg2 = (test_image_features_avg - test_image_features_avg.mean(0)) / test_image_features_avg.std(0)\n",
    "\n",
    "print(test_eeg_features_avg2.std(0))\n",
    "print(test_image_features_avg2.std(0))\n",
    "plt.plot(np.arange(len(test_eeg_features_avg2[0])), test_eeg_features_avg2.std(0).cpu())\n",
    "plt.plot(np.arange(len(test_image_features_avg2[0])), test_image_features_avg2.std(0).cpu())\n",
    "plt.show()"
   ]
  },
  {
   "cell_type": "code",
   "execution_count": 71,
   "id": "3e27096c",
   "metadata": {},
   "outputs": [
    {
     "name": "stdout",
     "output_type": "stream",
     "text": [
      "Similarity Acc 0.7559183673469387\n"
     ]
    }
   ],
   "source": [
    "acc, mat = evaluate(test_eeg_features_avg2, test_image_features_avg2)"
   ]
  },
  {
   "cell_type": "code",
   "execution_count": 107,
   "id": "265f46ca",
   "metadata": {},
   "outputs": [
    {
     "name": "stdout",
     "output_type": "stream",
     "text": [
      "[411 406 382 280 203 505 184  38 449  39 189 443   0 481  11 134 131 500\n",
      " 507  74 109 194 484  81 315 483 265 219 154  82 459  50 125 201   1 349\n",
      " 461 221 251 358  26 310 273 278 465 193 124 254 448 181 237   2  18 292\n",
      " 508  57  34 434  71 464  60 429 497 233 240  20 236  85  31 207 136  67\n",
      " 329 426  32 198 487 183 322 491  62 403 316 242 352  77  12 143 327 163\n",
      " 385 270 462 199 369 356 377 267 388 204 103 175 111 252 148 489 400 146\n",
      " 476 129 325 123 127 107  45  44 404 480 389 281 178  96 245 209 342  29\n",
      " 205 274 159 457 196 144 153 440 368  35 283 511 307 126 338 372 421 216\n",
      " 258 416 348 340 350 160  10  46   8 158 373 407 376 206 149 479 415 351\n",
      " 214 428  78  66 305 370 345 156 371 110 341 510 478 463  23  72 243 161\n",
      " 353 211 320  70 438 363 299 155 408 452 282   5 503  99  75 374 359 362\n",
      " 276 226 381 262 496 250 168 147 284  25  27 230  15 422  76 379 291 142\n",
      " 326 447 195 128 227 290 269 453  98 190 295 312 297 260 179 294 197 456\n",
      " 435 263 355 138 333 451 437 241 328 162 266 455  90 394 232 466 460  61\n",
      " 331 101 337 200 188 132 244 167 255 171 180 302 145 335 238  21 182 458\n",
      " 212 170 499 268  87  83 444 239 439 405 492 386 277 133 412 427 185 361\n",
      " 259 347 413  54 271  88 187 121 364 304  19 472 397   6 264 157  24  89\n",
      " 390   4 116 445  59 488 401  30 360 224 318 332 378 469 501 105 367 336\n",
      "  47 279 366 317  65 365 308 222 431  28 119 321  68  79 474 287 380 477\n",
      " 106 174 343 164 272 311 296 430 301 288 432 309  53 494 150  14 130 402\n",
      " 473 213 470 261 324 293 490  91  16 218 334 424 225 346 425  52 256 229\n",
      " 471 468 115  69 396 104 253 135 231 285 495 450 399  73 398 172 166 191\n",
      "  48 506  86 289  94 395  33 441 504 102 354 120  37  95 392 137 176 482\n",
      " 114  58 108 100 344 387  22  42 113 418 247 118 410   3 423 169 303 485\n",
      " 446 300 409 215 220 151   7 177  64 186 384  55 467 417  93 173  63 313\n",
      "  92  49  17 419 152 414 436 210 257   9 330  56 420 208  40 202 486 498\n",
      "  80 122 192 323 319  97 298 140 235 393 286 375 454 165 493 117 139 246\n",
      " 217 442 249  13  41 475  36 383 248 502 306 228 275 141 509  51  84 314\n",
      "  43 339 391 357 234 223 433 112]\n"
     ]
    }
   ],
   "source": [
    "unit_corr = []\n",
    "for i in range(val_image_features.shape[1]):\n",
    "    corr = np.corrcoef(val_image_features[:,i].cpu(), val_eeg_features[:,i].cpu())[0,1]\n",
    "    unit_corr.append(corr)\n",
    "print(np.argsort(unit_corr)[::-1])\n",
    "unit_indices = np.argsort(unit_corr)[::-1][:100]"
   ]
  },
  {
   "cell_type": "code",
   "execution_count": 111,
   "id": "2296aeca",
   "metadata": {},
   "outputs": [
    {
     "data": {
      "text/plain": [
       "array([411, 406, 382, 280, 203, 505, 184,  38, 449,  39, 189, 443,   0,\n",
       "       481,  11, 134, 131, 500, 507,  74, 109, 194, 484,  81, 315, 483,\n",
       "       265, 219, 154,  82, 459,  50, 125, 201,   1, 349, 461, 221, 251,\n",
       "       358,  26, 310, 273, 278, 465, 193, 124, 254, 448, 181, 237,   2,\n",
       "        18, 292, 508,  57,  34, 434,  71, 464,  60, 429, 497, 233, 240,\n",
       "        20, 236,  85,  31, 207, 136,  67, 329, 426,  32, 198, 487, 183,\n",
       "       322, 491,  62, 403, 316, 242, 352,  77,  12, 143, 327, 163, 385,\n",
       "       270, 462, 199, 369, 356, 377, 267, 388, 204])"
      ]
     },
     "execution_count": 111,
     "metadata": {},
     "output_type": "execute_result"
    }
   ],
   "source": [
    "unit_indices"
   ]
  },
  {
   "cell_type": "code",
   "execution_count": 121,
   "id": "7107515b",
   "metadata": {},
   "outputs": [
    {
     "name": "stdout",
     "output_type": "stream",
     "text": [
      "mean:  tensor(-0.0061, device='cuda:0') tensor(-0.0070, device='cuda:0')\n",
      "std:  tensor(1.0513, device='cuda:0') tensor(0.1333, device='cuda:0')\n",
      "Similarity Acc 0.6231665554814322\n",
      "[[ 0. -1. -1. ... -1. -1. -1.]\n",
      " [ 1.  0.  1. ...  1.  1.  1.]\n",
      " [ 1.  1.  0. ...  1.  1.  1.]\n",
      " ...\n",
      " [-1. -1. -1. ... -1. -1. -1.]\n",
      " [ 1.  1. -1. ...  1.  1.  1.]\n",
      " [ 1.  1.  1. ...  1.  1.  1.]]\n",
      "[ 0. -1. -1. ... -1. -1. -1.]\n",
      "acc 0.6231665554814322\n",
      "[ 943  531  185  860 1237 1294  871  216  491 1343 1192  687  530   32\n",
      "  645  346  853  802  753  411  576   10    6  206   32  344  277  715\n",
      "  330  827 1172 1098  948  412  650  377  160  464 1449  812  482  614\n",
      "  558  429  663   58 1280   81  173  850  846  302   57  858  710 1399\n",
      " 1255  140  438  353  453  158  156  732  723  480  472 1109  823  147\n",
      "   80  545  682   24  750 1175  156  251 1305  938   22  228   52    3\n",
      "  582  498 1428  469  271 1047  186  244  338  518  791  405  336  408\n",
      "  300   84   96   68  157  258   28 1265  996 1039   13  687  712 1406\n",
      "  238  456  554  171  160  792  531   50  873  422  422 1201  212    3\n",
      "  541  127  106  150   97  157  985  179 1177  703  327  505 1285  431\n",
      "  676  160  183 1098 1233  732  303  356  594  498 1482   56  823 1162\n",
      "  762  218  212  477  447  343  494  717  584  376  981  413 1095  191\n",
      "  178    9 1323  115  542  396    0  638  932  437  284  995 1023  322\n",
      "  194 1159  836  106 1226  258 1497  653  327   77 1032  589  845  249\n",
      "  961  687   95  610  638  517  772  244  369  305 1285 1266  554  528\n",
      "  308  716  100  204 1140  550 1296  333  335  381  606  313   73  438\n",
      "  254  869 1483  739 1380  690    6  285  744  975  409  506   49 1153\n",
      "  643 1003  494  883 1170  800  731 1260  376  603  380 1014 1163  856\n",
      "  594  632  545  397  539  326  762   66  296  953 1068  277  137  454\n",
      "  628  697  297  449  805  205  510  944  685   35 1101 1018  555   38\n",
      " 1270  326  855  370  805  694   39  217  472  285  543  628  148  107\n",
      "   10  127 1038 1244  201   37]\n",
      "top1:  0.0033333333333333335\n",
      "top5:  0.01\n",
      "top10:  0.02\n"
     ]
    }
   ],
   "source": [
    "unit_corr = []\n",
    "for i in range(val_image_features.shape[1]):\n",
    "    corr = np.corrcoef(val_image_features[:,i].cpu(), val_eeg_features[:,i].cpu())[0,1]\n",
    "    unit_corr.append(corr)\n",
    "\n",
    "unit_indices = np.argsort(unit_corr)[::-1][:150]\n",
    "\n",
    "target_latent = torch.cat([test_image_features, val_image_features], axis=0)\n",
    "target_latent_std =  target_latent.std(0)\n",
    "target_latent_mean = target_latent.mean(0)\n",
    "\n",
    "source_latent = test_eeg_features\n",
    "source_latent_std = source_latent.std(0)\n",
    "source_latent_mean = source_latent.mean(0)\n",
    "source_latent = (source_latent - source_latent_mean)/source_latent_std\n",
    "source_latent = (source_latent * target_latent_std + target_latent_mean)\n",
    "print('mean: ', target_latent_mean.mean(), source_latent_mean.mean())\n",
    "print('std: ', target_latent_std.mean(), source_latent_std.mean())\n",
    "\n",
    "source_latent = torch.from_numpy(source_latent.cpu().numpy()[:, unit_indices])# torch.from_numpy()\n",
    "target_latent = torch.from_numpy(target_latent.cpu().numpy()[:,unit_indices])\n",
    "acc, mat = evaluate(source_latent, target_latent)\n",
    "print(mat)\n",
    "print(mat[0])\n",
    "print('acc', np.mean(np.sum(mat > 0, 1) / (len(target_latent)-1)))\n",
    "print(np.sum(mat < 0, 1))\n",
    "print('top1: ',  np.mean(np.sum(mat < 0, 1) < 1))\n",
    "print('top5: ', np.mean(np.sum(mat < 0, 1) < 5))\n",
    "print('top10: ', np.mean(np.sum(mat < 0, 1) < 10))\n"
   ]
  },
  {
   "cell_type": "code",
   "execution_count": null,
   "id": "9e506c1e",
   "metadata": {},
   "outputs": [],
   "source": []
  },
  {
   "cell_type": "code",
   "execution_count": 60,
   "id": "8486ca20",
   "metadata": {},
   "outputs": [
    {
     "data": {
      "image/png": "[encoded data removed]",
      "text/plain": [
       "<Figure size 432x288 with 1 Axes>"
      ]
     },
     "metadata": {
      "needs_background": "light"
     },
     "output_type": "display_data"
    },
    {
     "data": {
      "image/png": "[encoded data removed]",
      "text/plain": [
       "<Figure size 432x288 with 1 Axes>"
      ]
     },
     "metadata": {
      "needs_background": "light"
     },
     "output_type": "display_data"
    },
    {
     "name": "stderr",
     "output_type": "stream",
     "text": [
      "[Similarities]: 100%|██████████| 50/50 [00:00<00:00, 143.05it/s]"
     ]
    },
    {
     "name": "stdout",
     "output_type": "stream",
     "text": [
      "similarity torch.Size([50, 50])\n",
      "Top1:  0.04000, Top10: 0.52000\n"
     ]
    },
    {
     "name": "stderr",
     "output_type": "stream",
     "text": [
      "\n"
     ]
    }
   ],
   "source": [
    "test_eeg_features_avg2 = (test_eeg_features_avg - test_eeg_features_avg.mean(0))/ test_eeg_features_avg.std(0)\n",
    "test_image_features_avg2 = (test_image_features_avg - test_image_features_avg.mean(0)) / test_image_features_avg.std(0)\n",
    "# plt.plot(np.arange(len(test_eeg_features_avg2[0])), test_eeg_features_avg2[0].cpu())\n",
    "# plt.plot(np.arange(len(test_image_features_avg2[0])), test_image_features_avg2[0].cpu())\n",
    "plt.scatter(test_eeg_features_avg[0].cpu(), test_image_features_avg[0].cpu())\n",
    "plt.show()\n",
    "plt.scatter(test_eeg_features_avg2[0].cpu(), test_image_features_avg2[0].cpu())\n",
    "plt.show()\n",
    "testAvgTop1acc, testAvgTop10acc = classifier(test_eeg_features_avg2, test_image_features_avg2, test=True)\n",
    "print(f'Top1: {testAvgTop1acc: .5f}, Top10: {testAvgTop10acc:.5f}')"
   ]
  },
  {
   "cell_type": "code",
   "execution_count": 70,
   "id": "b00ce671",
   "metadata": {},
   "outputs": [
    {
     "name": "stdout",
     "output_type": "stream",
     "text": [
      "0.14427091965832087\n"
     ]
    }
   ],
   "source": [
    "corrs = []\n",
    "for i in range(len(test_eeg_features_avg2)):\n",
    "    corr = np.corrcoef(test_eeg_features_avg2[i].cpu(), test_image_features_avg2[i].cpu())[0,1]\n",
    "    corrs.append(corr)\n",
    "print(np.mean(corrs))"
   ]
  },
  {
   "cell_type": "code",
   "execution_count": null,
   "id": "9ff0de33",
   "metadata": {},
   "outputs": [],
   "source": []
  }
 ],
 "metadata": {
  "kernelspec": {
   "display_name": "Python 3 (ipykernel)",
   "language": "python",
   "name": "python3"
  },
  "language_info": {
   "codemirror_mode": {
    "name": "ipython",
    "version": 3
   },
   "file_extension": ".py",
   "mimetype": "text/x-python",
   "name": "python",
   "nbconvert_exporter": "python",
   "pygments_lexer": "ipython3",
   "version": "3.8.5"
  }
 },
 "nbformat": 4,
 "nbformat_minor": 5
}
