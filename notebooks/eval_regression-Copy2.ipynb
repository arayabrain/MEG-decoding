{
 "cells": [
  {
   "cell_type": "code",
   "execution_count": 12,
   "id": "4b05c334",
   "metadata": {},
   "outputs": [],
   "source": [
    "import os, sys, random\n",
    "sys.path.append('..')\n",
    "import numpy as np\n",
    "import torch\n",
    "import torch.nn as nn\n",
    "from time import time\n",
    "from tqdm import tqdm, trange\n",
    "from termcolor import cprint\n",
    "# import wandb\n",
    "\n",
    "from omegaconf import DictConfig, open_dict\n",
    "import hydra\n",
    "from hydra.utils import get_original_cwd\n",
    "\n",
    "from constants import device\n",
    "\n",
    "from torch.utils.data import DataLoader, RandomSampler, BatchSampler\n",
    "\n",
    "from meg_decoding.models import get_model, Classifier\n",
    "from meg_decoding.utils.get_dataloaders import get_dataloaders, get_samplers\n",
    "from meg_decoding.utils.loss import *\n",
    "from meg_decoding.dataclass.god import GODDatasetBase, GODCollator\n",
    "from meg_decoding.utils.loggers import Pickleogger\n",
    "from meg_decoding.utils.vis_grad import get_grad\n",
    "from torch.utils.data.dataset import Subset\n",
    "from meg_ssl.dataclass import parse_dataset\n",
    "from omegaconf import OmegaConf\n",
    "from meg_ssl.models.image_encoder import get_image_encoder\n",
    "import wandb\n",
    "from meg_ssl.utils.image_preprocess import numpy2image\n",
    "import tqdm\n",
    "import scipy.io\n",
    "from hydra import initialize, compose\n"
   ]
  },
  {
   "cell_type": "code",
   "execution_count": 24,
   "id": "e203f2a2",
   "metadata": {},
   "outputs": [],
   "source": [
    "def get_dataset(cfg:OmegaConf):\n",
    "    dataset_names:dict = cfg.dataset_name\n",
    "    dataset_yamls:dict = cfg.dataset_yaml\n",
    "    num_trial_limit:dict = cfg.total_limit\n",
    "    preproc_config:OmegaConf = cfg.preprocess\n",
    "    h5_root:str = cfg.h5_root\n",
    "    image_preprocs:list = []\n",
    "    meg_preprocs:list = []\n",
    "    only_meg:bool = False\n",
    "    on_memory:bool = True #False\n",
    "    dataset_dict:dict = parse_dataset(dataset_names, dataset_yamls, preproc_config, num_trial_limit, \n",
    "                                      h5_root, image_preprocs, meg_preprocs, only_meg, on_memory)\n",
    "    \n",
    "    return dataset_dict['train'], dataset_dict['val']\n",
    "\n",
    "def get_models(args):\n",
    "    with initialize(config_path='../meg_ssl/task_configs/model'):\n",
    "        args.image_encoder = compose(args.image_encoder)\n",
    "    with initialize(config_path='../meg_ssl/ssl_configs/preprocess'):\n",
    "        args.preprocess = compose(args.preprocess)\n",
    "    \n",
    "    image_encoder, image_processor = get_image_encoder(args.image_encoder.name, args.image_encoder.parameters)\n",
    "    image_encoder.eval().to(device)\n",
    "    \n",
    "    brain_encoder = get_model(args).to(device).eval() \n",
    "    \n",
    "    weight_path = os.path.join(args.save_root, 'weights', 'model_last.pt')\n",
    "    brain_encoder.load_state_dict(torch.load(weight_path))\n",
    "    return image_encoder, image_processor, brain_encoder\n",
    "    \n",
    "# collect image feature\n",
    "def get_features(dataset):\n",
    "    image_features = []\n",
    "    eeg_features = []\n",
    "    for data in tqdm.tqdm(dataset):\n",
    "        eeg, image = data\n",
    "        eeg = torch.from_numpy(eeg).unsqueeze(0).to(device)\n",
    "        image = numpy2image(image)\n",
    "        image = image_processor(image)\n",
    "        image = image.unsqueeze(0).to(device)\n",
    "        with torch.no_grad():\n",
    "            Y = image_encoder.encode_image(image).to(torch.float)\n",
    "            Y = Y - normalize_mean_Y\n",
    "            Y = Y / normalize_std_Y\n",
    "            Z = brain_encoder(eeg, None)\n",
    "        image_features.append(Y)\n",
    "        eeg_features.append(Z)\n",
    "\n",
    "    image_features = torch.cat(image_features, axis=0)\n",
    "    eeg_features = torch.cat(eeg_features, axis=0)\n",
    "    return image_features, eeg_features\n",
    "\n",
    "\n",
    "def calc_similarity(x, y):\n",
    "    batch_size = len(x)\n",
    "    gt_size = len(y)\n",
    "\n",
    "    similarity = torch.empty(batch_size, gt_size).to('cuda')\n",
    "    for i in range(batch_size):\n",
    "        for j in range(gt_size):\n",
    "            similarity[i, j] = (x[i] @ y[j]) / max((x[i].norm() * y[j].norm()), 1e-8)\n",
    "    return similarity.cpu().numpy()\n",
    "\n",
    "def evaluate(Z, Y, index = None):\n",
    "    # Z: (batch_size, 512)\n",
    "    # Y: (gt_size, 512)\n",
    "    binary_confusion_matrix = np.zeros([len(Z), len(Y)])\n",
    "    similarity = calc_similarity(Z, Y)\n",
    "    acc_tmp = np.zeros(len(similarity))\n",
    "    for i in range(len(similarity)):\n",
    "        if index is None:\n",
    "            index_ = i\n",
    "        acc_tmp[i] = np.sum(similarity[i,:] < similarity[i,index_]) / (len(Y)-1)\n",
    "        binary_confusion_matrix[i,similarity[i,:] < similarity[i,index_]] = 1 \n",
    "        binary_confusion_matrix[i,similarity[i,:] > similarity[i,index_]] = -1 \n",
    "    similarity_acc = np.mean(acc_tmp)\n",
    "    print('Similarity Acc', similarity_acc)\n",
    "    return similarity_acc, binary_confusion_matrix\n",
    "\n",
    "def get_test_labels():\n",
    "    dirname = '/work/project/MEG_GOD/GOD_dataset/sbj01/labels/'\n",
    "    labels = []\n",
    "    for i in range(1,7):\n",
    "        filepath = os.path.join(dirname, f'val_{i}.mat')\n",
    "        matdata = scipy.io.loadmat(filepath)\n",
    "        label = matdata['vec_index'][0] \n",
    "        labels.append(label)\n",
    "    labels = np.concatenate(labels, axis=0)\n",
    "    return labels\n",
    "\n",
    "\n",
    "def aggregate_same_label(eegs, images, labels):\n",
    "    assert len(eegs) == len(labels)\n",
    "    assert len(images) == len(labels)\n",
    "    unique_label_ids = np.unique(labels)\n",
    "    new_eegs = []\n",
    "    new_images = []\n",
    "    for i in unique_label_ids:\n",
    "        indices = np.where(labels==i)\n",
    "        new_eegs.append(eegs[indices].mean(0))\n",
    "        new_images.append(images[indices].mean(0))\n",
    "    return torch.stack(new_eegs, axis=0), torch.stack(new_images, axis=0), unique_label_ids"
   ]
  },
  {
   "cell_type": "code",
   "execution_count": 25,
   "id": "7bbbcf03",
   "metadata": {},
   "outputs": [
    {
     "name": "stderr",
     "output_type": "stream",
     "text": [
      "/tmp/ipykernel_36341/3832526577.py:17: UserWarning: \n",
      "The version_base parameter is not specified.\n",
      "Please specify a compatability version level, or None.\n",
      "Will assume defaults for version 1.1\n",
      "  with initialize(config_path='../meg_ssl/task_configs/model'):\n",
      "/tmp/ipykernel_36341/3832526577.py:19: UserWarning: \n",
      "The version_base parameter is not specified.\n",
      "Please specify a compatability version level, or None.\n",
      "Will assume defaults for version 1.1\n",
      "  with initialize(config_path='../meg_ssl/ssl_configs/preprocess'):\n"
     ]
    },
    {
     "name": "stdout",
     "output_type": "stream",
     "text": [
      "model select:  eegnet_deep\n",
      "ROI:  ['occipital/left', 'occipital/right', 'frontal/left', 'frontal/right', 'temporal/left', 'temporal/right', 'parietal/left', 'parietal/right', 'central/left', 'central/right']\n",
      "channel (-1 is done because matlab starts from 1):  [128, 129, 130, 131, 132, 133, 134, 135, 136, 137, 138, 144, 145, 146, 147, 148, 149, 150, 151, 152, 153, 154, 0, 1, 2, 3, 4, 5, 6, 7, 8, 9, 10, 11, 38, 43, 45, 46, 47, 64, 65, 66, 67, 68, 69, 70, 71, 72, 73, 75, 76, 78, 87, 106, 108, 109, 110, 111, 32, 33, 34, 35, 36, 37, 39, 40, 41, 42, 44, 48, 49, 50, 51, 52, 53, 54, 55, 56, 57, 61, 96, 97, 98, 99, 100, 101, 102, 103, 104, 105, 112, 113, 114, 115, 117, 118, 119, 120, 121, 123, 125, 17, 19, 20, 21, 22, 23, 29, 59, 60, 63, 139, 140, 141, 142, 143, 80, 81, 82, 85, 86, 88, 116, 124, 126, 155, 156, 157, 159, 12, 13, 14, 15, 16, 18, 24, 25, 26, 27, 28, 30, 31, 58, 62, 158, 74, 77, 79, 83, 84, 89, 90, 91, 92, 93, 94, 95, 107, 122, 127]\n",
      "num channels:  160\n",
      "=================GOD=================\n",
      "sbj_1-train-session_6_12\n",
      "dataset_info_list:  [{'image_root': '/storage/dataset/ECoG/internal/GODv2-4/images_trn', 'meg_path': '/work/project/MEG_GOD/GOD_dataset/sbj01/mat/data_block006', 'meg_label_path': '/work/project/MEG_GOD/GOD_dataset/sbj01/labels/ses_6', 'meg_trigger_path': '/work/project/MEG_GOD/GOD_dataset/sbj01/trigger/ses06', 'meg_rest_path': '/work/project/MEG_GOD/GOD_dataset/sbj01/mat/data_block006', 'sbj_name': 'sbj01', 'h5_file_name': '../../../dataset/ssl_dataset/sbj1/regression/GOD/sbj01_data_block006.h5', 'image_id_path': '/work/project/MEG_GOD/GOD_dataset/clip_image_training.mat'}, {'image_root': '/storage/dataset/ECoG/internal/GODv2-4/images_trn', 'meg_path': '/work/project/MEG_GOD/GOD_dataset/sbj01/mat/data_block012', 'meg_label_path': '/work/project/MEG_GOD/GOD_dataset/sbj01/labels/ses_12', 'meg_trigger_path': '/work/project/MEG_GOD/GOD_dataset/sbj01/trigger/ses12', 'meg_rest_path': '/work/project/MEG_GOD/GOD_dataset/sbj01/mat/data_block012', 'sbj_name': 'sbj01', 'h5_file_name': '../../../dataset/ssl_dataset/sbj1/regression/GOD/sbj01_data_block012.h5', 'image_id_path': '/work/project/MEG_GOD/GOD_dataset/clip_image_training.mat'}]\n",
      "=====================================\n",
      "ROI:  ['occipital/left', 'occipital/right', 'frontal/left', 'frontal/right', 'temporal/left', 'temporal/right', 'parietal/left', 'parietal/right', 'central/left', 'central/right']\n",
      "channel (-1 is done because matlab starts from 1):  [128, 129, 130, 131, 132, 133, 134, 135, 136, 137, 138, 144, 145, 146, 147, 148, 149, 150, 151, 152, 153, 154, 0, 1, 2, 3, 4, 5, 6, 7, 8, 9, 10, 11, 38, 43, 45, 46, 47, 64, 65, 66, 67, 68, 69, 70, 71, 72, 73, 75, 76, 78, 87, 106, 108, 109, 110, 111, 32, 33, 34, 35, 36, 37, 39, 40, 41, 42, 44, 48, 49, 50, 51, 52, 53, 54, 55, 56, 57, 61, 96, 97, 98, 99, 100, 101, 102, 103, 104, 105, 112, 113, 114, 115, 117, 118, 119, 120, 121, 123, 125, 17, 19, 20, 21, 22, 23, 29, 59, 60, 63, 139, 140, 141, 142, 143, 80, 81, 82, 85, 86, 88, 116, 124, 126, 155, 156, 157, 159, 12, 13, 14, 15, 16, 18, 24, 25, 26, 27, 28, 30, 31, 58, 62, 158, 74, 77, 79, 83, 84, 89, 90, 91, 92, 93, 94, 95, 107, 122, 127]\n",
      "num channels:  160\n",
      "band path filter: 0.5-120\n",
      "resample 1000 to 240 Hz\n",
      "ROI:  ['occipital/left', 'occipital/right', 'frontal/left', 'frontal/right', 'temporal/left', 'temporal/right', 'parietal/left', 'parietal/right', 'central/left', 'central/right']\n",
      "channel (-1 is done because matlab starts from 1):  [128, 129, 130, 131, 132, 133, 134, 135, 136, 137, 138, 144, 145, 146, 147, 148, 149, 150, 151, 152, 153, 154, 0, 1, 2, 3, 4, 5, 6, 7, 8, 9, 10, 11, 38, 43, 45, 46, 47, 64, 65, 66, 67, 68, 69, 70, 71, 72, 73, 75, 76, 78, 87, 106, 108, 109, 110, 111, 32, 33, 34, 35, 36, 37, 39, 40, 41, 42, 44, 48, 49, 50, 51, 52, 53, 54, 55, 56, 57, 61, 96, 97, 98, 99, 100, 101, 102, 103, 104, 105, 112, 113, 114, 115, 117, 118, 119, 120, 121, 123, 125, 17, 19, 20, 21, 22, 23, 29, 59, 60, 63, 139, 140, 141, 142, 143, 80, 81, 82, 85, 86, 88, 116, 124, 126, 155, 156, 157, 159, 12, 13, 14, 15, 16, 18, 24, 25, 26, 27, 28, 30, 31, 58, 62, 158, 74, 77, 79, 83, 84, 89, 90, 91, 92, 93, 94, 95, 107, 122, 127]\n",
      "num channels:  160\n",
      "band path filter: 0.5-120\n",
      "resample 1000 to 240 Hz\n",
      "=================GOD=================\n",
      "sbj_1-val-session_all\n",
      "dataset_info_list:  [{'image_root': '/storage/dataset/ECoG/internal/GODv2-4/images_val', 'meg_path': '/work/project/MEG_GOD/GOD_dataset/sbj01/mat/data_val001', 'meg_label_path': '/work/project/MEG_GOD/GOD_dataset/sbj01/labels/val_1', 'meg_trigger_path': '/work/project/MEG_GOD/GOD_dataset/sbj01/trigger/val01', 'meg_rest_path': '/work/project/MEG_GOD/GOD_dataset/sbj01/mat/data_val001', 'sbj_name': 'sbj01', 'h5_file_name': '../../../dataset/ssl_dataset/sbj1/regression/GOD/sbj01_data_val001.h5', 'image_id_path': '/work/project/MEG_GOD/GOD_dataset/clip_image_test.mat'}, {'image_root': '/storage/dataset/ECoG/internal/GODv2-4/images_val', 'meg_path': '/work/project/MEG_GOD/GOD_dataset/sbj01/mat/data_val002', 'meg_label_path': '/work/project/MEG_GOD/GOD_dataset/sbj01/labels/val_2', 'meg_trigger_path': '/work/project/MEG_GOD/GOD_dataset/sbj01/trigger/val02', 'meg_rest_path': '/work/project/MEG_GOD/GOD_dataset/sbj01/mat/data_val002', 'sbj_name': 'sbj01', 'h5_file_name': '../../../dataset/ssl_dataset/sbj1/regression/GOD/sbj01_data_val002.h5', 'image_id_path': '/work/project/MEG_GOD/GOD_dataset/clip_image_test.mat'}, {'image_root': '/storage/dataset/ECoG/internal/GODv2-4/images_val', 'meg_path': '/work/project/MEG_GOD/GOD_dataset/sbj01/mat/data_val003', 'meg_label_path': '/work/project/MEG_GOD/GOD_dataset/sbj01/labels/val_3', 'meg_trigger_path': '/work/project/MEG_GOD/GOD_dataset/sbj01/trigger/val03', 'meg_rest_path': '/work/project/MEG_GOD/GOD_dataset/sbj01/mat/data_val003', 'sbj_name': 'sbj01', 'h5_file_name': '../../../dataset/ssl_dataset/sbj1/regression/GOD/sbj01_data_val003.h5', 'image_id_path': '/work/project/MEG_GOD/GOD_dataset/clip_image_test.mat'}, {'image_root': '/storage/dataset/ECoG/internal/GODv2-4/images_val', 'meg_path': '/work/project/MEG_GOD/GOD_dataset/sbj01/mat/data_val004', 'meg_label_path': '/work/project/MEG_GOD/GOD_dataset/sbj01/labels/val_4', 'meg_trigger_path': '/work/project/MEG_GOD/GOD_dataset/sbj01/trigger/val04', 'meg_rest_path': '/work/project/MEG_GOD/GOD_dataset/sbj01/mat/data_val004', 'sbj_name': 'sbj01', 'h5_file_name': '../../../dataset/ssl_dataset/sbj1/regression/GOD/sbj01_data_val004.h5', 'image_id_path': '/work/project/MEG_GOD/GOD_dataset/clip_image_test.mat'}, {'image_root': '/storage/dataset/ECoG/internal/GODv2-4/images_val', 'meg_path': '/work/project/MEG_GOD/GOD_dataset/sbj01/mat/data_val005', 'meg_label_path': '/work/project/MEG_GOD/GOD_dataset/sbj01/labels/val_5', 'meg_trigger_path': '/work/project/MEG_GOD/GOD_dataset/sbj01/trigger/val05', 'meg_rest_path': '/work/project/MEG_GOD/GOD_dataset/sbj01/mat/data_val005', 'sbj_name': 'sbj01', 'h5_file_name': '../../../dataset/ssl_dataset/sbj1/regression/GOD/sbj01_data_val005.h5', 'image_id_path': '/work/project/MEG_GOD/GOD_dataset/clip_image_test.mat'}, {'image_root': '/storage/dataset/ECoG/internal/GODv2-4/images_val', 'meg_path': '/work/project/MEG_GOD/GOD_dataset/sbj01/mat/data_val006', 'meg_label_path': '/work/project/MEG_GOD/GOD_dataset/sbj01/labels/val_6', 'meg_trigger_path': '/work/project/MEG_GOD/GOD_dataset/sbj01/trigger/val06', 'meg_rest_path': '/work/project/MEG_GOD/GOD_dataset/sbj01/mat/data_val006', 'sbj_name': 'sbj01', 'h5_file_name': '../../../dataset/ssl_dataset/sbj1/regression/GOD/sbj01_data_val006.h5', 'image_id_path': '/work/project/MEG_GOD/GOD_dataset/clip_image_test.mat'}]\n",
      "=====================================\n",
      "ROI:  ['occipital/left', 'occipital/right', 'frontal/left', 'frontal/right', 'temporal/left', 'temporal/right', 'parietal/left', 'parietal/right', 'central/left', 'central/right']\n",
      "channel (-1 is done because matlab starts from 1):  [128, 129, 130, 131, 132, 133, 134, 135, 136, 137, 138, 144, 145, 146, 147, 148, 149, 150, 151, 152, 153, 154, 0, 1, 2, 3, 4, 5, 6, 7, 8, 9, 10, 11, 38, 43, 45, 46, 47, 64, 65, 66, 67, 68, 69, 70, 71, 72, 73, 75, 76, 78, 87, 106, 108, 109, 110, 111, 32, 33, 34, 35, 36, 37, 39, 40, 41, 42, 44, 48, 49, 50, 51, 52, 53, 54, 55, 56, 57, 61, 96, 97, 98, 99, 100, 101, 102, 103, 104, 105, 112, 113, 114, 115, 117, 118, 119, 120, 121, 123, 125, 17, 19, 20, 21, 22, 23, 29, 59, 60, 63, 139, 140, 141, 142, 143, 80, 81, 82, 85, 86, 88, 116, 124, 126, 155, 156, 157, 159, 12, 13, 14, 15, 16, 18, 24, 25, 26, 27, 28, 30, 31, 58, 62, 158, 74, 77, 79, 83, 84, 89, 90, 91, 92, 93, 94, 95, 107, 122, 127]\n",
      "num channels:  160\n"
     ]
    },
    {
     "name": "stdout",
     "output_type": "stream",
     "text": [
      "band path filter: 0.5-120\n",
      "resample 1000 to 240 Hz\n",
      "ROI:  ['occipital/left', 'occipital/right', 'frontal/left', 'frontal/right', 'temporal/left', 'temporal/right', 'parietal/left', 'parietal/right', 'central/left', 'central/right']\n",
      "channel (-1 is done because matlab starts from 1):  [128, 129, 130, 131, 132, 133, 134, 135, 136, 137, 138, 144, 145, 146, 147, 148, 149, 150, 151, 152, 153, 154, 0, 1, 2, 3, 4, 5, 6, 7, 8, 9, 10, 11, 38, 43, 45, 46, 47, 64, 65, 66, 67, 68, 69, 70, 71, 72, 73, 75, 76, 78, 87, 106, 108, 109, 110, 111, 32, 33, 34, 35, 36, 37, 39, 40, 41, 42, 44, 48, 49, 50, 51, 52, 53, 54, 55, 56, 57, 61, 96, 97, 98, 99, 100, 101, 102, 103, 104, 105, 112, 113, 114, 115, 117, 118, 119, 120, 121, 123, 125, 17, 19, 20, 21, 22, 23, 29, 59, 60, 63, 139, 140, 141, 142, 143, 80, 81, 82, 85, 86, 88, 116, 124, 126, 155, 156, 157, 159, 12, 13, 14, 15, 16, 18, 24, 25, 26, 27, 28, 30, 31, 58, 62, 158, 74, 77, 79, 83, 84, 89, 90, 91, 92, 93, 94, 95, 107, 122, 127]\n",
      "num channels:  160\n",
      "band path filter: 0.5-120\n",
      "resample 1000 to 240 Hz\n",
      "ROI:  ['occipital/left', 'occipital/right', 'frontal/left', 'frontal/right', 'temporal/left', 'temporal/right', 'parietal/left', 'parietal/right', 'central/left', 'central/right']\n",
      "channel (-1 is done because matlab starts from 1):  [128, 129, 130, 131, 132, 133, 134, 135, 136, 137, 138, 144, 145, 146, 147, 148, 149, 150, 151, 152, 153, 154, 0, 1, 2, 3, 4, 5, 6, 7, 8, 9, 10, 11, 38, 43, 45, 46, 47, 64, 65, 66, 67, 68, 69, 70, 71, 72, 73, 75, 76, 78, 87, 106, 108, 109, 110, 111, 32, 33, 34, 35, 36, 37, 39, 40, 41, 42, 44, 48, 49, 50, 51, 52, 53, 54, 55, 56, 57, 61, 96, 97, 98, 99, 100, 101, 102, 103, 104, 105, 112, 113, 114, 115, 117, 118, 119, 120, 121, 123, 125, 17, 19, 20, 21, 22, 23, 29, 59, 60, 63, 139, 140, 141, 142, 143, 80, 81, 82, 85, 86, 88, 116, 124, 126, 155, 156, 157, 159, 12, 13, 14, 15, 16, 18, 24, 25, 26, 27, 28, 30, 31, 58, 62, 158, 74, 77, 79, 83, 84, 89, 90, 91, 92, 93, 94, 95, 107, 122, 127]\n",
      "num channels:  160\n",
      "band path filter: 0.5-120\n",
      "resample 1000 to 240 Hz\n",
      "ROI:  ['occipital/left', 'occipital/right', 'frontal/left', 'frontal/right', 'temporal/left', 'temporal/right', 'parietal/left', 'parietal/right', 'central/left', 'central/right']\n",
      "channel (-1 is done because matlab starts from 1):  [128, 129, 130, 131, 132, 133, 134, 135, 136, 137, 138, 144, 145, 146, 147, 148, 149, 150, 151, 152, 153, 154, 0, 1, 2, 3, 4, 5, 6, 7, 8, 9, 10, 11, 38, 43, 45, 46, 47, 64, 65, 66, 67, 68, 69, 70, 71, 72, 73, 75, 76, 78, 87, 106, 108, 109, 110, 111, 32, 33, 34, 35, 36, 37, 39, 40, 41, 42, 44, 48, 49, 50, 51, 52, 53, 54, 55, 56, 57, 61, 96, 97, 98, 99, 100, 101, 102, 103, 104, 105, 112, 113, 114, 115, 117, 118, 119, 120, 121, 123, 125, 17, 19, 20, 21, 22, 23, 29, 59, 60, 63, 139, 140, 141, 142, 143, 80, 81, 82, 85, 86, 88, 116, 124, 126, 155, 156, 157, 159, 12, 13, 14, 15, 16, 18, 24, 25, 26, 27, 28, 30, 31, 58, 62, 158, 74, 77, 79, 83, 84, 89, 90, 91, 92, 93, 94, 95, 107, 122, 127]\n",
      "num channels:  160\n",
      "band path filter: 0.5-120\n",
      "resample 1000 to 240 Hz\n",
      "ROI:  ['occipital/left', 'occipital/right', 'frontal/left', 'frontal/right', 'temporal/left', 'temporal/right', 'parietal/left', 'parietal/right', 'central/left', 'central/right']\n",
      "channel (-1 is done because matlab starts from 1):  [128, 129, 130, 131, 132, 133, 134, 135, 136, 137, 138, 144, 145, 146, 147, 148, 149, 150, 151, 152, 153, 154, 0, 1, 2, 3, 4, 5, 6, 7, 8, 9, 10, 11, 38, 43, 45, 46, 47, 64, 65, 66, 67, 68, 69, 70, 71, 72, 73, 75, 76, 78, 87, 106, 108, 109, 110, 111, 32, 33, 34, 35, 36, 37, 39, 40, 41, 42, 44, 48, 49, 50, 51, 52, 53, 54, 55, 56, 57, 61, 96, 97, 98, 99, 100, 101, 102, 103, 104, 105, 112, 113, 114, 115, 117, 118, 119, 120, 121, 123, 125, 17, 19, 20, 21, 22, 23, 29, 59, 60, 63, 139, 140, 141, 142, 143, 80, 81, 82, 85, 86, 88, 116, 124, 126, 155, 156, 157, 159, 12, 13, 14, 15, 16, 18, 24, 25, 26, 27, 28, 30, 31, 58, 62, 158, 74, 77, 79, 83, 84, 89, 90, 91, 92, 93, 94, 95, 107, 122, 127]\n",
      "num channels:  160\n",
      "band path filter: 0.5-120\n",
      "resample 1000 to 240 Hz\n",
      "ROI:  ['occipital/left', 'occipital/right', 'frontal/left', 'frontal/right', 'temporal/left', 'temporal/right', 'parietal/left', 'parietal/right', 'central/left', 'central/right']\n",
      "channel (-1 is done because matlab starts from 1):  [128, 129, 130, 131, 132, 133, 134, 135, 136, 137, 138, 144, 145, 146, 147, 148, 149, 150, 151, 152, 153, 154, 0, 1, 2, 3, 4, 5, 6, 7, 8, 9, 10, 11, 38, 43, 45, 46, 47, 64, 65, 66, 67, 68, 69, 70, 71, 72, 73, 75, 76, 78, 87, 106, 108, 109, 110, 111, 32, 33, 34, 35, 36, 37, 39, 40, 41, 42, 44, 48, 49, 50, 51, 52, 53, 54, 55, 56, 57, 61, 96, 97, 98, 99, 100, 101, 102, 103, 104, 105, 112, 113, 114, 115, 117, 118, 119, 120, 121, 123, 125, 17, 19, 20, 21, 22, 23, 29, 59, 60, 63, 139, 140, 141, 142, 143, 80, 81, 82, 85, 86, 88, 116, 124, 126, 155, 156, 157, 159, 12, 13, 14, 15, 16, 18, 24, 25, 26, 27, 28, 30, 31, 58, 62, 158, 74, 77, 79, 83, 84, 89, 90, 91, 92, 93, 94, 95, 107, 122, 127]\n",
      "num channels:  160\n",
      "band path filter: 0.5-120\n",
      "resample 1000 to 240 Hz\n"
     ]
    }
   ],
   "source": [
    "with initialize(version_base=None, config_path=\"../meg_ssl/task_configs/\"):\n",
    "    args = compose(config_name='regression_eegnet_deep_full')\n",
    "    \n",
    "args.dataset_name.train = args.dataset_name.val\n",
    "args.dataset_name.val.GOD = 'sbj_1-val-session_all' # args.dataset_name.val.GOD.replace('train', 'val')\n",
    "args.ch_region_path = args.ch_region_path.replace('./', '../')\n",
    "args.montage_path = args.montage_path.replace('./', '../')\n",
    "\n",
    "if not os.path.exists(os.path.join(args.save_root, 'eval_results')):\n",
    "    os.makedirs(os.path.join(args.save_root, 'eval_results'))\n",
    "    \n",
    "    \n",
    "normalize_mean_X = torch.from_numpy(np.load('/home/yainoue/meg2image/codes/MEG-decoding/data/GOD/stats/mean_X.npy')).to(device)\n",
    "normalize_mean_Y = torch.from_numpy(np.load('/home/yainoue/meg2image/codes/MEG-decoding/data/GOD/stats/mean_Y.npy')).to(device)\n",
    "normalize_std_X = torch.from_numpy(np.load('/home/yainoue/meg2image/codes/MEG-decoding/data/GOD/stats/std_X.npy')).to(device)\n",
    "normalize_std_Y = torch.from_numpy(np.load('/home/yainoue/meg2image/codes/MEG-decoding/data/GOD/stats/std_Y.npy')).to(device)\n",
    "\n",
    "classifier = Classifier(args)\n",
    "\n",
    "# ---------------\n",
    "#      Loss\n",
    "# ---------------\n",
    "loss_func = CLIPLoss(args).to(device) # torch.nn.MSELoss(reduction=\"mean\") #CLIPLoss(args).to(device)\n",
    "loss_func.eval()\n",
    "\n",
    "image_encoder, image_processor, brain_encoder = get_models(args)\n",
    "val_dataset, test_dataset = get_dataset(args)"
   ]
  },
  {
   "cell_type": "code",
   "execution_count": 26,
   "id": "1f3e0230",
   "metadata": {},
   "outputs": [
    {
     "name": "stderr",
     "output_type": "stream",
     "text": [
      "100%|██████████| 1200/1200 [03:11<00:00,  6.27it/s]\n",
      "100%|██████████| 300/300 [00:47<00:00,  6.25it/s]\n"
     ]
    }
   ],
   "source": [
    "val_image_features, val_eeg_features = get_features(val_dataset)\n",
    "test_image_features, test_eeg_features = get_features(test_dataset)"
   ]
  },
  {
   "cell_type": "code",
   "execution_count": 27,
   "id": "71f7b703",
   "metadata": {},
   "outputs": [],
   "source": [
    "test_labels = get_test_labels()\n",
    "test_eeg_features_avg, test_image_features_avg, new_labels = aggregate_same_label(test_eeg_features, test_image_features, test_labels)"
   ]
  },
  {
   "cell_type": "code",
   "execution_count": 28,
   "id": "23aaf473",
   "metadata": {},
   "outputs": [],
   "source": [
    "normalize_mean_Y = torch.from_numpy(np.load('/home/yainoue/meg2image/codes/MEG-decoding/data/GOD/stats/mean_Y.npy')).to(device)\n",
    "normalize_mean_Y.shape\n",
    "\n",
    "normalize_mean_X = val_eeg_features.mean(0, keepdim=True).cpu().numpy()\n",
    "normalize_std_X = val_eeg_features.std(0, keepdim=True).cpu().numpy()\n",
    "\n",
    "np.save('/home/yainoue/meg2image/codes/MEG-decoding/data/GOD/stats/mean_X.npy', normalize_mean_X)\n",
    "np.save('/home/yainoue/meg2image/codes/MEG-decoding/data/GOD/stats/std_X.npy', normalize_std_X)\n"
   ]
  },
  {
   "cell_type": "code",
   "execution_count": 29,
   "id": "e3981072",
   "metadata": {},
   "outputs": [
    {
     "data": {
      "text/plain": [
       "torch.Size([1, 512])"
      ]
     },
     "execution_count": 29,
     "metadata": {},
     "output_type": "execute_result"
    }
   ],
   "source": [
    "normalize_mean_Y.shape"
   ]
  },
  {
   "cell_type": "code",
   "execution_count": 30,
   "id": "7e80746c",
   "metadata": {},
   "outputs": [
    {
     "name": "stderr",
     "output_type": "stream",
     "text": [
      "[Similarities]: 100%|██████████| 1200/1200 [04:47<00:00,  5.57it/s]"
     ]
    },
    {
     "name": "stdout",
     "output_type": "stream",
     "text": [
      "similarity torch.Size([1200, 1200])\n"
     ]
    },
    {
     "name": "stderr",
     "output_type": "stream",
     "text": [
      "[Similarities]: 100%|██████████| 1200/1200 [04:48<00:00,  4.17it/s]\n",
      "[Similarities]: 100%|██████████| 300/300 [00:13<00:00, 21.86it/s]"
     ]
    },
    {
     "name": "stdout",
     "output_type": "stream",
     "text": [
      "similarity torch.Size([300, 300])\n",
      "top1: val0.00333(0.00083) test 0.00667(0.00333)\n",
      "top10: val 0.03083 test 0.07000\n"
     ]
    },
    {
     "name": "stderr",
     "output_type": "stream",
     "text": [
      "\n"
     ]
    }
   ],
   "source": [
    "valTop1acc, valTop10acc = classifier(val_eeg_features, val_image_features, test=True)\n",
    "testTop1acc, testTop10acc = classifier(test_eeg_features, test_image_features, test=True)\n",
    "val_random = 1 / len(val_eeg_features)\n",
    "test_random = 1 / len(test_eeg_features)\n",
    "print(f'top1: val{valTop1acc :.5f}({val_random :.5f}) test {testTop1acc :.5f}({test_random :.5f})')\n",
    "print(f'top10: val {valTop10acc :.5f} test {testTop10acc :.5f}')"
   ]
  },
  {
   "cell_type": "code",
   "execution_count": 31,
   "id": "75301f60",
   "metadata": {},
   "outputs": [
    {
     "name": "stdout",
     "output_type": "stream",
     "text": [
      "Similarity Acc 0.6295468445927161\n",
      "Similarity Acc 0.5646265328874025\n",
      "object identification: val 0.6295468445927161 test 0.5646265328874025\n"
     ]
    }
   ],
   "source": [
    "val_sim, val_sim_mat = evaluate(val_eeg_features, val_image_features)\n",
    "test_sim, test_sim_mat = evaluate(test_eeg_features, test_image_features)\n",
    "print(f'object identification: val {val_sim} test {test_sim}')"
   ]
  },
  {
   "cell_type": "code",
   "execution_count": 32,
   "id": "9a880827",
   "metadata": {},
   "outputs": [
    {
     "name": "stderr",
     "output_type": "stream",
     "text": [
      "[Similarities]: 100%|██████████| 50/50 [00:00<00:00, 96.94it/s] \n"
     ]
    },
    {
     "name": "stdout",
     "output_type": "stream",
     "text": [
      "similarity torch.Size([50, 50])\n",
      "Similarity Acc 0.6000000000000001\n",
      "AVG: \n",
      "Top1:  0.14000, Top10: 0.36000 Acc: 0.60000\n"
     ]
    }
   ],
   "source": [
    "testAvgTop1acc, testAvgTop10acc = classifier(test_eeg_features_avg, test_image_features_avg, test=True)\n",
    "testAvg_sim, testAvg_sim_mat = evaluate(test_eeg_features_avg, test_image_features_avg)\n",
    "print('AVG: ')\n",
    "print(f'Top1: {testAvgTop1acc: .5f}, Top10: {testAvgTop10acc:.5f} Acc: {testAvg_sim:.5f}')"
   ]
  },
  {
   "cell_type": "code",
   "execution_count": 33,
   "id": "1edd0622",
   "metadata": {},
   "outputs": [
    {
     "data": {
      "image/png": "[encoded data removed]",
      "text/plain": [
       "<Figure size 432x288 with 1 Axes>"
      ]
     },
     "metadata": {
      "needs_background": "light"
     },
     "output_type": "display_data"
    }
   ],
   "source": [
    "import matplotlib.pyplot as plt\n",
    "test_eeg_features_avg2 = (test_eeg_features_avg - test_eeg_features_avg.mean(0))/ test_eeg_features_avg.std(0)\n",
    "test_image_features_avg2 = (test_image_features_avg - test_image_features_avg.mean(0)) / test_image_features_avg.std(0)\n",
    "\n",
    "# print(test_eeg_features_avg2.std(0))\n",
    "# print(test_image_features_avg2.std(0))\n",
    "plt.plot(np.arange(len(test_eeg_features_avg2[0])), test_eeg_features_avg2.std(0).cpu())\n",
    "plt.plot(np.arange(len(test_image_features_avg2[0])), test_image_features_avg2.std(0).cpu())\n",
    "plt.show()"
   ]
  },
  {
   "cell_type": "code",
   "execution_count": 34,
   "id": "3e27096c",
   "metadata": {},
   "outputs": [
    {
     "name": "stdout",
     "output_type": "stream",
     "text": [
      "Similarity Acc 0.6710204081632654\n"
     ]
    },
    {
     "data": {
      "text/plain": [
       "(0.6710204081632654,\n",
       " array([[ 0.,  1.,  1., ...,  1.,  1.,  1.],\n",
       "        [ 1.,  0., -1., ...,  1.,  1.,  1.],\n",
       "        [-1., -1.,  0., ...,  1.,  1., -1.],\n",
       "        ...,\n",
       "        [ 1.,  1.,  1., ...,  0.,  1., -1.],\n",
       "        [ 1., -1., -1., ..., -1.,  0.,  1.],\n",
       "        [ 1.,  1.,  1., ..., -1.,  1.,  0.]]))"
      ]
     },
     "execution_count": 34,
     "metadata": {},
     "output_type": "execute_result"
    }
   ],
   "source": [
    "evaluate(test_eeg_features_avg2, test_image_features_avg2)"
   ]
  },
  {
   "cell_type": "code",
   "execution_count": 36,
   "id": "0be5acc5",
   "metadata": {},
   "outputs": [
    {
     "name": "stderr",
     "output_type": "stream",
     "text": [
      "[Similarities]: 100%|██████████| 50/50 [00:00<00:00, 144.60it/s]"
     ]
    },
    {
     "name": "stdout",
     "output_type": "stream",
     "text": [
      "similarity torch.Size([50, 50])\n",
      "Top1:  0.08000, Top10: 0.36000\n"
     ]
    },
    {
     "name": "stderr",
     "output_type": "stream",
     "text": [
      "\n"
     ]
    }
   ],
   "source": [
    "testAvgTop1acc, testAvgTop10acc = classifier(test_eeg_features_avg2, test_image_features_avg2, test=True)\n",
    "print(f'Top1: {testAvgTop1acc: .5f}, Top10: {testAvgTop10acc:.5f}')"
   ]
  },
  {
   "cell_type": "code",
   "execution_count": 37,
   "id": "3b3dd00a",
   "metadata": {},
   "outputs": [
    {
     "name": "stdout",
     "output_type": "stream",
     "text": [
      "mean:  tensor(-0.0080, device='cuda:0') tensor(-0.0923, device='cuda:0')\n",
      "std:  tensor(1.0520, device='cuda:0') tensor(0.6160, device='cuda:0')\n",
      "Similarity Acc 0.6320416333066453\n",
      "[[ 0.  1. -1. ...  1.  1.  1.]\n",
      " [ 1.  0. -1. ...  1.  1.  1.]\n",
      " [ 1.  1.  0. ...  1.  1.  1.]\n",
      " ...\n",
      " [-1.  1.  1. ...  1. -1.  1.]\n",
      " [-1.  1.  1. ... -1.  1. -1.]\n",
      " [ 1.  1.  1. ...  1.  1.  1.]]\n",
      "[ 0.  1. -1. ...  1.  1.  1.]\n",
      "acc 0.6320416333066453\n",
      "[  91  173  117  532  732  640   73  277   53  336  835   87  210  653\n",
      "    4  377  307  178   45  592  140  260  642 1078  329  809  982  889\n",
      " 1010   53 1216 1008 1100  922  499  700  463  229 1039   37  121  263\n",
      "  541  426  839  165   89  346  456   16]\n",
      "top1:  0.0\n",
      "top5:  0.02\n",
      "top10:  0.02\n"
     ]
    }
   ],
   "source": [
    "unit_corr = []\n",
    "for i in range(val_image_features.shape[1]):\n",
    "    corr = np.corrcoef(val_image_features[:,i].cpu(), val_eeg_features[:,i].cpu())[0,1]\n",
    "    unit_corr.append(corr)\n",
    "\n",
    "unit_indices = np.argsort(unit_corr)[::-1][:100]\n",
    "\n",
    "target_latent = torch.cat([test_image_features_avg, val_image_features], axis=0)\n",
    "target_latent_std =  target_latent.std(0)\n",
    "target_latent_mean = target_latent.mean(0)\n",
    "\n",
    "source_latent = test_eeg_features_avg\n",
    "source_latent_std = source_latent.std(0)\n",
    "source_latent_mean = source_latent.mean(0)\n",
    "source_latent = (source_latent - source_latent_mean)/source_latent_std\n",
    "source_latent = (source_latent * target_latent_std + target_latent_mean)\n",
    "print('mean: ', target_latent_mean.mean(), source_latent_mean.mean())\n",
    "print('std: ', target_latent_std.mean(), source_latent_std.mean())\n",
    "\n",
    "source_latent = torch.from_numpy(source_latent.cpu().numpy()[:, unit_indices])# torch.from_numpy()\n",
    "target_latent = torch.from_numpy(target_latent.cpu().numpy()[:,unit_indices])\n",
    "acc, mat = evaluate(source_latent, target_latent)\n",
    "print(mat)\n",
    "print(mat[0])\n",
    "print('acc', np.mean(np.sum(mat > 0, 1) / (len(target_latent)-1)))\n",
    "print(np.sum(mat < 0, 1))\n",
    "print('top1: ',  np.mean(np.sum(mat < 0, 1) < 1))\n",
    "print('top5: ', np.mean(np.sum(mat < 0, 1) < 5))\n",
    "print('top10: ', np.mean(np.sum(mat < 0, 1) < 10))\n"
   ]
  },
  {
   "cell_type": "code",
   "execution_count": null,
   "id": "c204d63a",
   "metadata": {},
   "outputs": [],
   "source": []
  }
 ],
 "metadata": {
  "kernelspec": {
   "display_name": "Python 3 (ipykernel)",
   "language": "python",
   "name": "python3"
  },
  "language_info": {
   "codemirror_mode": {
    "name": "ipython",
    "version": 3
   },
   "file_extension": ".py",
   "mimetype": "text/x-python",
   "name": "python",
   "nbconvert_exporter": "python",
   "pygments_lexer": "ipython3",
   "version": "3.8.5"
  }
 },
 "nbformat": 4,
 "nbformat_minor": 5
}
